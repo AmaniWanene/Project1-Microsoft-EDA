{
 "cells": [
  {
   "cell_type": "markdown",
   "metadata": {},
   "source": [
    "## Final Project Submission\n",
    "\n",
    "Please fill out:\n",
    "* Student name: Amani Wanene\n",
    "* Student pace:  full time\n",
    "* Scheduled project review date/time: \n",
    "* Instructor name: \n",
    "* Blog post URL:\n"
   ]
  },
  {
   "cell_type": "markdown",
   "metadata": {},
   "source": [
    "1. Import relevant resources"
   ]
  },
  {
   "cell_type": "code",
   "execution_count": 1708,
   "metadata": {},
   "outputs": [],
   "source": [
    "# Your code here - remember to use markdown cells for comments as well!\n",
    "import pandas as pd\n",
    "import os\n",
    "import sqlite3\n",
    "import matplotlib.pyplot as plt\n",
    "import numpy as np\n"
   ]
  },
  {
   "cell_type": "markdown",
   "metadata": {},
   "source": [
    "2. Import the datasets."
   ]
  },
  {
   "cell_type": "code",
   "execution_count": 1709,
   "metadata": {},
   "outputs": [],
   "source": [
    "bom_df = pd.read_csv('zippedData/bom.movie_gross.csv.gz',encoding = 'latin1')\n",
    "movie_info_df = pd.read_csv('zippedData/rt.movie_info.tsv.gz',delimiter = '\\t')\n",
    "reviews_df = pd.read_csv('zippedData/rt.reviews.tsv.gz',delimiter = '\\t',encoding = 'latin1')\n",
    "tmdb_df = pd.read_csv('zippedData/tmdb.movies.csv.gz')\n",
    "movie_budgets_df = pd.read_csv('zippedData/tn.movie_budgets.csv.gz')\n"
   ]
  },
  {
   "cell_type": "code",
   "execution_count": 1710,
   "metadata": {},
   "outputs": [],
   "source": [
    "\n",
    "\n",
    "import zipfile\n",
    "\n",
    "# Extract IMDb SQL .db file\n",
    "with zipfile.ZipFile('./zippedData/im.db.zip') as zipObj:\n",
    "    # Extract all contents of .zip file into current directory\n",
    "    zipObj.extractall(path='./zippedData/')\n",
    "    \n",
    "# Create connection to IMDb DB\n"
   ]
  },
  {
   "cell_type": "code",
   "execution_count": 1711,
   "metadata": {},
   "outputs": [],
   "source": [
    "imdb_conn = sqlite3.connect('zippedData/im.db')\n"
   ]
  },
  {
   "cell_type": "code",
   "execution_count": 1712,
   "metadata": {},
   "outputs": [],
   "source": [
    "imdb_df = pd.read_sql(\"\"\"SELECT * FROM movie_basics\n",
    " JOIN movie_ratings\n",
    "USING(movie_id)\n",
    "\"\"\",imdb_conn)"
   ]
  },
  {
   "cell_type": "markdown",
   "metadata": {},
   "source": [
    "3.View the datasets"
   ]
  },
  {
   "cell_type": "code",
   "execution_count": 1713,
   "metadata": {},
   "outputs": [
    {
     "name": "stdout",
     "output_type": "stream",
     "text": [
      "(3387, 5)\n"
     ]
    },
    {
     "data": {
      "text/plain": [
       "title                0\n",
       "studio               5\n",
       "domestic_gross      28\n",
       "foreign_gross     1350\n",
       "year                 0\n",
       "dtype: int64"
      ]
     },
     "execution_count": 1713,
     "metadata": {},
     "output_type": "execute_result"
    }
   ],
   "source": [
    "print(bom_df.shape)\n",
    "bom_df.isna().sum()\n",
    "\n",
    "\n"
   ]
  },
  {
   "cell_type": "code",
   "execution_count": 1714,
   "metadata": {},
   "outputs": [
    {
     "name": "stdout",
     "output_type": "stream",
     "text": [
      "(1560, 12)\n"
     ]
    },
    {
     "data": {
      "text/plain": [
       "id                 0\n",
       "synopsis          62\n",
       "rating             3\n",
       "genre              8\n",
       "director         199\n",
       "writer           449\n",
       "theater_date     359\n",
       "dvd_date         359\n",
       "currency        1220\n",
       "box_office      1220\n",
       "runtime           30\n",
       "studio          1066\n",
       "dtype: int64"
      ]
     },
     "execution_count": 1714,
     "metadata": {},
     "output_type": "execute_result"
    }
   ],
   "source": [
    "print(movie_info_df.shape)\n",
    "movie_info_df.isna().sum()"
   ]
  },
  {
   "cell_type": "code",
   "execution_count": 1715,
   "metadata": {},
   "outputs": [
    {
     "name": "stdout",
     "output_type": "stream",
     "text": [
      "(54432, 8)\n"
     ]
    },
    {
     "data": {
      "text/plain": [
       "id                0\n",
       "review         5563\n",
       "rating        13517\n",
       "fresh             0\n",
       "critic         2722\n",
       "top_critic        0\n",
       "publisher       309\n",
       "date              0\n",
       "dtype: int64"
      ]
     },
     "execution_count": 1715,
     "metadata": {},
     "output_type": "execute_result"
    }
   ],
   "source": [
    "print(reviews_df.shape)\n",
    "reviews_df.isna().sum()"
   ]
  },
  {
   "cell_type": "code",
   "execution_count": 1716,
   "metadata": {},
   "outputs": [
    {
     "data": {
      "text/plain": [
       "Unnamed: 0           0\n",
       "genre_ids            0\n",
       "id                   0\n",
       "original_language    0\n",
       "original_title       0\n",
       "popularity           0\n",
       "release_date         0\n",
       "title                0\n",
       "vote_average         0\n",
       "vote_count           0\n",
       "dtype: int64"
      ]
     },
     "execution_count": 1716,
     "metadata": {},
     "output_type": "execute_result"
    }
   ],
   "source": [
    "tmdb_df.isna().sum()"
   ]
  },
  {
   "cell_type": "code",
   "execution_count": 1717,
   "metadata": {},
   "outputs": [
    {
     "data": {
      "text/plain": [
       "id                   0\n",
       "release_date         0\n",
       "movie                0\n",
       "production_budget    0\n",
       "domestic_gross       0\n",
       "worldwide_gross      0\n",
       "dtype: int64"
      ]
     },
     "execution_count": 1717,
     "metadata": {},
     "output_type": "execute_result"
    }
   ],
   "source": [
    "movie_budgets_df.isna().sum()"
   ]
  },
  {
   "cell_type": "code",
   "execution_count": 1718,
   "metadata": {},
   "outputs": [
    {
     "name": "stdout",
     "output_type": "stream",
     "text": [
      "(73856, 8)\n"
     ]
    },
    {
     "data": {
      "text/plain": [
       "movie_id              0\n",
       "primary_title         0\n",
       "original_title        0\n",
       "start_year            0\n",
       "runtime_minutes    7620\n",
       "genres              804\n",
       "averagerating         0\n",
       "numvotes              0\n",
       "dtype: int64"
      ]
     },
     "execution_count": 1718,
     "metadata": {},
     "output_type": "execute_result"
    }
   ],
   "source": [
    "print(imdb_df.shape)\n",
    "imdb_df.isna().sum()"
   ]
  },
  {
   "cell_type": "markdown",
   "metadata": {},
   "source": [
    "4. Clean Data"
   ]
  },
  {
   "cell_type": "code",
   "execution_count": 1719,
   "metadata": {},
   "outputs": [
    {
     "name": "stdout",
     "output_type": "stream",
     "text": [
      "Empty DataFrame\n",
      "Columns: [title, studio, domestic_gross, foreign_gross, year]\n",
      "Index: []\n"
     ]
    }
   ],
   "source": [
    "#drop rows with missing domestic_gross\n",
    "bom_df = bom_df.dropna(subset=['domestic_gross'])\n",
    "\n",
    "print(bom_df.loc[bom_df['domestic_gross'].isna()])"
   ]
  },
  {
   "cell_type": "code",
   "execution_count": 1720,
   "metadata": {},
   "outputs": [
    {
     "name": "stdout",
     "output_type": "stream",
     "text": [
      "0.40190532896695447\n"
     ]
    }
   ],
   "source": [
    "#check percentage of foreign_gross missing values\n",
    "bom_df['foreign_gross'].isna().sum()\n",
    "missing_values_count = len(bom_df[bom_df['foreign_gross'].isna()])\n",
    "total_rows = len(bom_df)\n",
    "\n",
    "proportion_missing_values = missing_values_count / total_rows\n",
    "print(proportion_missing_values)\n"
   ]
  },
  {
   "cell_type": "code",
   "execution_count": 1721,
   "metadata": {},
   "outputs": [
    {
     "name": "stdout",
     "output_type": "stream",
     "text": [
      "<class 'pandas.core.frame.DataFrame'>\n",
      "Int64Index: 3359 entries, 0 to 3386\n",
      "Data columns (total 5 columns):\n",
      " #   Column          Non-Null Count  Dtype  \n",
      "---  ------          --------------  -----  \n",
      " 0   title           3359 non-null   object \n",
      " 1   studio          3356 non-null   object \n",
      " 2   domestic_gross  3359 non-null   float64\n",
      " 3   foreign_gross   2004 non-null   float64\n",
      " 4   year            3359 non-null   int64  \n",
      "dtypes: float64(2), int64(1), object(2)\n",
      "memory usage: 157.5+ KB\n"
     ]
    }
   ],
   "source": [
    "#Change null values to numeric in order to perform mathematical operations on the column.\n",
    "bom_df['foreign_gross'] = pd.to_numeric(bom_df['foreign_gross'], errors='coerce')\n",
    "bom_df.info()\n"
   ]
  },
  {
   "cell_type": "code",
   "execution_count": 1722,
   "metadata": {},
   "outputs": [
    {
     "name": "stdout",
     "output_type": "stream",
     "text": [
      "                             title studio  domestic_gross  foreign_gross  year\n",
      "1872  Star Wars: The Force Awakens     BV     936700000.0            NaN  2015\n",
      "3079        Avengers: Infinity War     BV     678800000.0            NaN  2018\n",
      "1873                Jurassic World   Uni.     652300000.0            NaN  2015\n",
      "1874                     Furious 7   Uni.     353000000.0            NaN  2015\n",
      "2760       The Fate of the Furious   Uni.     226000000.0            NaN  2017\n",
      "3160                     Book Club   Par.      68600000.0            NaN  2018\n",
      "1955                      War Room   TriS      67800000.0            NaN  2015\n",
      "2864                All Eyez on Me   LG/S      44900000.0            NaN  2017\n",
      "833                Red Dawn (2012)     FD      44800000.0            NaN  2012\n",
      "2866                47 Meters Down  ENTMP      44300000.0            NaN  2017\n"
     ]
    }
   ],
   "source": [
    "#check the top 10 movies with missing foreign_domestic values\n",
    "missing_foreign_gross_movies = bom_df[bom_df['foreign_gross'].isna()]\n",
    "top_10_movies = missing_foreign_gross_movies.sort_values(by='domestic_gross', ascending=False).head(10)\n",
    "print(top_10_movies)"
   ]
  },
  {
   "cell_type": "code",
   "execution_count": 1723,
   "metadata": {},
   "outputs": [
    {
     "data": {
      "text/plain": [
       "title              0\n",
       "studio             0\n",
       "domestic_gross     0\n",
       "foreign_gross     58\n",
       "year               0\n",
       "dtype: int64"
      ]
     },
     "execution_count": 1723,
     "metadata": {},
     "output_type": "execute_result"
    }
   ],
   "source": [
    "#filter out movies with domestic gross < $10,000,000\n",
    "filtered_movies = bom_df[bom_df['domestic_gross'] >= 10000000]\n",
    "filtered_movies.isna().sum()"
   ]
  },
  {
   "cell_type": "code",
   "execution_count": 1724,
   "metadata": {},
   "outputs": [],
   "source": [
    "bom_df = filtered_movies"
   ]
  },
  {
   "cell_type": "code",
   "execution_count": 1725,
   "metadata": {},
   "outputs": [
    {
     "data": {
      "text/html": [
       "<div>\n",
       "<style scoped>\n",
       "    .dataframe tbody tr th:only-of-type {\n",
       "        vertical-align: middle;\n",
       "    }\n",
       "\n",
       "    .dataframe tbody tr th {\n",
       "        vertical-align: top;\n",
       "    }\n",
       "\n",
       "    .dataframe thead th {\n",
       "        text-align: right;\n",
       "    }\n",
       "</style>\n",
       "<table border=\"1\" class=\"dataframe\">\n",
       "  <thead>\n",
       "    <tr style=\"text-align: right;\">\n",
       "      <th></th>\n",
       "      <th>title</th>\n",
       "      <th>studio</th>\n",
       "      <th>domestic_gross</th>\n",
       "      <th>foreign_gross</th>\n",
       "      <th>year</th>\n",
       "      <th>gross_difference</th>\n",
       "    </tr>\n",
       "  </thead>\n",
       "  <tbody>\n",
       "    <tr>\n",
       "      <th>0</th>\n",
       "      <td>Toy Story 3</td>\n",
       "      <td>BV</td>\n",
       "      <td>415000000.0</td>\n",
       "      <td>652000000.0</td>\n",
       "      <td>2010</td>\n",
       "      <td>237000000.0</td>\n",
       "    </tr>\n",
       "    <tr>\n",
       "      <th>1</th>\n",
       "      <td>Alice in Wonderland (2010)</td>\n",
       "      <td>BV</td>\n",
       "      <td>334200000.0</td>\n",
       "      <td>691300000.0</td>\n",
       "      <td>2010</td>\n",
       "      <td>357100000.0</td>\n",
       "    </tr>\n",
       "    <tr>\n",
       "      <th>2</th>\n",
       "      <td>Harry Potter and the Deathly Hallows Part 1</td>\n",
       "      <td>WB</td>\n",
       "      <td>296000000.0</td>\n",
       "      <td>664300000.0</td>\n",
       "      <td>2010</td>\n",
       "      <td>368300000.0</td>\n",
       "    </tr>\n",
       "    <tr>\n",
       "      <th>3</th>\n",
       "      <td>Inception</td>\n",
       "      <td>WB</td>\n",
       "      <td>292600000.0</td>\n",
       "      <td>535700000.0</td>\n",
       "      <td>2010</td>\n",
       "      <td>243100000.0</td>\n",
       "    </tr>\n",
       "    <tr>\n",
       "      <th>4</th>\n",
       "      <td>Shrek Forever After</td>\n",
       "      <td>P/DW</td>\n",
       "      <td>238700000.0</td>\n",
       "      <td>513900000.0</td>\n",
       "      <td>2010</td>\n",
       "      <td>275200000.0</td>\n",
       "    </tr>\n",
       "  </tbody>\n",
       "</table>\n",
       "</div>"
      ],
      "text/plain": [
       "                                         title studio  domestic_gross  \\\n",
       "0                                  Toy Story 3     BV     415000000.0   \n",
       "1                   Alice in Wonderland (2010)     BV     334200000.0   \n",
       "2  Harry Potter and the Deathly Hallows Part 1     WB     296000000.0   \n",
       "3                                    Inception     WB     292600000.0   \n",
       "4                          Shrek Forever After   P/DW     238700000.0   \n",
       "\n",
       "   foreign_gross  year  gross_difference  \n",
       "0    652000000.0  2010       237000000.0  \n",
       "1    691300000.0  2010       357100000.0  \n",
       "2    664300000.0  2010       368300000.0  \n",
       "3    535700000.0  2010       243100000.0  \n",
       "4    513900000.0  2010       275200000.0  "
      ]
     },
     "execution_count": 1725,
     "metadata": {},
     "output_type": "execute_result"
    }
   ],
   "source": [
    "bom_df['gross_difference'] = bom_df['foreign_gross'] - bom_df['domestic_gross']\n",
    "bom_df.head()"
   ]
  },
  {
   "cell_type": "code",
   "execution_count": 1726,
   "metadata": {},
   "outputs": [],
   "source": [
    "average_difference = bom_df['gross_difference'].mean()\n",
    "bom_df['foreign_gross'] = bom_df['foreign_gross'].fillna(bom_df['domestic_gross'] + average_difference)\n",
    "bom_df = bom_df.drop(columns=['gross_difference'])\n",
    "\n"
   ]
  },
  {
   "cell_type": "code",
   "execution_count": 1727,
   "metadata": {},
   "outputs": [
    {
     "name": "stdout",
     "output_type": "stream",
     "text": [
      "<class 'pandas.core.frame.DataFrame'>\n",
      "Int64Index: 1170 entries, 0 to 3226\n",
      "Data columns (total 5 columns):\n",
      " #   Column          Non-Null Count  Dtype  \n",
      "---  ------          --------------  -----  \n",
      " 0   title           1170 non-null   object \n",
      " 1   studio          1170 non-null   object \n",
      " 2   domestic_gross  1170 non-null   float64\n",
      " 3   foreign_gross   1170 non-null   float64\n",
      " 4   year            1170 non-null   int64  \n",
      "dtypes: float64(2), int64(1), object(2)\n",
      "memory usage: 54.8+ KB\n"
     ]
    }
   ],
   "source": [
    "bom_df.info()"
   ]
  },
  {
   "cell_type": "markdown",
   "metadata": {},
   "source": [
    "B) movie_info_df"
   ]
  },
  {
   "cell_type": "code",
   "execution_count": 1728,
   "metadata": {},
   "outputs": [
    {
     "name": "stdout",
     "output_type": "stream",
     "text": [
      "<class 'pandas.core.frame.DataFrame'>\n",
      "RangeIndex: 1560 entries, 0 to 1559\n",
      "Data columns (total 12 columns):\n",
      " #   Column        Non-Null Count  Dtype \n",
      "---  ------        --------------  ----- \n",
      " 0   id            1560 non-null   int64 \n",
      " 1   synopsis      1498 non-null   object\n",
      " 2   rating        1557 non-null   object\n",
      " 3   genre         1552 non-null   object\n",
      " 4   director      1361 non-null   object\n",
      " 5   writer        1111 non-null   object\n",
      " 6   theater_date  1201 non-null   object\n",
      " 7   dvd_date      1201 non-null   object\n",
      " 8   currency      340 non-null    object\n",
      " 9   box_office    340 non-null    object\n",
      " 10  runtime       1530 non-null   object\n",
      " 11  studio        494 non-null    object\n",
      "dtypes: int64(1), object(11)\n",
      "memory usage: 146.4+ KB\n"
     ]
    }
   ],
   "source": [
    "movie_info_df.info()"
   ]
  },
  {
   "cell_type": "code",
   "execution_count": 1729,
   "metadata": {},
   "outputs": [],
   "source": [
    "movie_info_df['theater_date'] = pd.to_datetime(movie_info_df['theater_date'], errors='coerce')"
   ]
  },
  {
   "cell_type": "code",
   "execution_count": 1730,
   "metadata": {},
   "outputs": [],
   "source": [
    "movie_info_df = movie_info_df[movie_info_df['theater_date'].dt.year >= 2010]"
   ]
  },
  {
   "cell_type": "code",
   "execution_count": 1731,
   "metadata": {},
   "outputs": [
    {
     "name": "stdout",
     "output_type": "stream",
     "text": [
      "<class 'pandas.core.frame.DataFrame'>\n",
      "Int64Index: 204 entries, 1 to 1542\n",
      "Data columns (total 12 columns):\n",
      " #   Column        Non-Null Count  Dtype         \n",
      "---  ------        --------------  -----         \n",
      " 0   id            204 non-null    int64         \n",
      " 1   synopsis      204 non-null    object        \n",
      " 2   rating        204 non-null    object        \n",
      " 3   genre         204 non-null    object        \n",
      " 4   director      187 non-null    object        \n",
      " 5   writer        170 non-null    object        \n",
      " 6   theater_date  204 non-null    datetime64[ns]\n",
      " 7   dvd_date      204 non-null    object        \n",
      " 8   currency      138 non-null    object        \n",
      " 9   box_office    138 non-null    object        \n",
      " 10  runtime       197 non-null    object        \n",
      " 11  studio        165 non-null    object        \n",
      "dtypes: datetime64[ns](1), int64(1), object(10)\n",
      "memory usage: 20.7+ KB\n"
     ]
    }
   ],
   "source": [
    "movie_info_df.info()"
   ]
  },
  {
   "cell_type": "code",
   "execution_count": 1732,
   "metadata": {},
   "outputs": [],
   "source": [
    "#drop columns with many missing values.\n",
    "movie_info_df.dropna(subset=['box_office'],inplace=True)\n"
   ]
  },
  {
   "cell_type": "code",
   "execution_count": 1733,
   "metadata": {},
   "outputs": [
    {
     "name": "stdout",
     "output_type": "stream",
     "text": [
      "<class 'pandas.core.frame.DataFrame'>\n",
      "Int64Index: 138 entries, 1 to 1542\n",
      "Data columns (total 12 columns):\n",
      " #   Column        Non-Null Count  Dtype         \n",
      "---  ------        --------------  -----         \n",
      " 0   id            138 non-null    int64         \n",
      " 1   synopsis      138 non-null    object        \n",
      " 2   rating        138 non-null    object        \n",
      " 3   genre         138 non-null    object        \n",
      " 4   director      126 non-null    object        \n",
      " 5   writer        115 non-null    object        \n",
      " 6   theater_date  138 non-null    datetime64[ns]\n",
      " 7   dvd_date      138 non-null    object        \n",
      " 8   currency      138 non-null    object        \n",
      " 9   box_office    138 non-null    object        \n",
      " 10  runtime       136 non-null    object        \n",
      " 11  studio        121 non-null    object        \n",
      "dtypes: datetime64[ns](1), int64(1), object(10)\n",
      "memory usage: 14.0+ KB\n"
     ]
    }
   ],
   "source": [
    "movie_info_df.info()"
   ]
  },
  {
   "cell_type": "code",
   "execution_count": 1734,
   "metadata": {},
   "outputs": [],
   "source": [
    "#fill null values with str'N/A'\n",
    "movie_info_df.fillna('N/A',inplace=True)"
   ]
  },
  {
   "cell_type": "code",
   "execution_count": 1735,
   "metadata": {},
   "outputs": [
    {
     "name": "stdout",
     "output_type": "stream",
     "text": [
      "<class 'pandas.core.frame.DataFrame'>\n",
      "Int64Index: 138 entries, 1 to 1542\n",
      "Data columns (total 12 columns):\n",
      " #   Column        Non-Null Count  Dtype         \n",
      "---  ------        --------------  -----         \n",
      " 0   id            138 non-null    int64         \n",
      " 1   synopsis      138 non-null    object        \n",
      " 2   rating        138 non-null    object        \n",
      " 3   genre         138 non-null    object        \n",
      " 4   director      138 non-null    object        \n",
      " 5   writer        138 non-null    object        \n",
      " 6   theater_date  138 non-null    datetime64[ns]\n",
      " 7   dvd_date      138 non-null    object        \n",
      " 8   currency      138 non-null    object        \n",
      " 9   box_office    138 non-null    object        \n",
      " 10  runtime       138 non-null    object        \n",
      " 11  studio        138 non-null    object        \n",
      "dtypes: datetime64[ns](1), int64(1), object(10)\n",
      "memory usage: 14.0+ KB\n"
     ]
    }
   ],
   "source": [
    "movie_info_df.info()"
   ]
  },
  {
   "cell_type": "code",
   "execution_count": 1736,
   "metadata": {},
   "outputs": [
    {
     "name": "stdout",
     "output_type": "stream",
     "text": [
      "<class 'pandas.core.frame.DataFrame'>\n",
      "Int64Index: 138 entries, 1 to 1542\n",
      "Data columns (total 12 columns):\n",
      " #   Column        Non-Null Count  Dtype         \n",
      "---  ------        --------------  -----         \n",
      " 0   id            138 non-null    int64         \n",
      " 1   synopsis      138 non-null    object        \n",
      " 2   rating        138 non-null    object        \n",
      " 3   genre         138 non-null    object        \n",
      " 4   director      138 non-null    object        \n",
      " 5   writer        138 non-null    object        \n",
      " 6   theater_date  138 non-null    datetime64[ns]\n",
      " 7   dvd_date      138 non-null    object        \n",
      " 8   currency      138 non-null    object        \n",
      " 9   box_office    138 non-null    float64       \n",
      " 10  runtime       138 non-null    object        \n",
      " 11  studio        138 non-null    object        \n",
      "dtypes: datetime64[ns](1), float64(1), int64(1), object(9)\n",
      "memory usage: 14.0+ KB\n"
     ]
    }
   ],
   "source": [
    "\n",
    "movie_info_df['box_office'] = movie_info_df['box_office'].str.replace(',', '').astype(float)\n",
    "\n",
    "movie_info_df.info()\n"
   ]
  },
  {
   "cell_type": "markdown",
   "metadata": {},
   "source": [
    "C) reviews_df"
   ]
  },
  {
   "cell_type": "code",
   "execution_count": 1737,
   "metadata": {},
   "outputs": [
    {
     "name": "stdout",
     "output_type": "stream",
     "text": [
      "<class 'pandas.core.frame.DataFrame'>\n",
      "RangeIndex: 54432 entries, 0 to 54431\n",
      "Data columns (total 8 columns):\n",
      " #   Column      Non-Null Count  Dtype \n",
      "---  ------      --------------  ----- \n",
      " 0   id          54432 non-null  int64 \n",
      " 1   review      48869 non-null  object\n",
      " 2   rating      40915 non-null  object\n",
      " 3   fresh       54432 non-null  object\n",
      " 4   critic      51710 non-null  object\n",
      " 5   top_critic  54432 non-null  int64 \n",
      " 6   publisher   54123 non-null  object\n",
      " 7   date        54432 non-null  object\n",
      "dtypes: int64(2), object(6)\n",
      "memory usage: 3.3+ MB\n"
     ]
    }
   ],
   "source": [
    "reviews_df.info()"
   ]
  },
  {
   "cell_type": "code",
   "execution_count": 1738,
   "metadata": {},
   "outputs": [],
   "source": [
    "reviews_df['date'] = pd.to_datetime(reviews_df['date'], errors='coerce')"
   ]
  },
  {
   "cell_type": "code",
   "execution_count": 1739,
   "metadata": {},
   "outputs": [],
   "source": [
    "reviews_df = reviews_df[reviews_df['date'].dt.year >= 2010]"
   ]
  },
  {
   "cell_type": "code",
   "execution_count": 1740,
   "metadata": {},
   "outputs": [
    {
     "name": "stdout",
     "output_type": "stream",
     "text": [
      "<class 'pandas.core.frame.DataFrame'>\n",
      "Int64Index: 21067 entries, 0 to 54365\n",
      "Data columns (total 8 columns):\n",
      " #   Column      Non-Null Count  Dtype         \n",
      "---  ------      --------------  -----         \n",
      " 0   id          21067 non-null  int64         \n",
      " 1   review      20771 non-null  object        \n",
      " 2   rating      15298 non-null  object        \n",
      " 3   fresh       21067 non-null  object        \n",
      " 4   critic      20425 non-null  object        \n",
      " 5   top_critic  21067 non-null  int64         \n",
      " 6   publisher   20826 non-null  object        \n",
      " 7   date        21067 non-null  datetime64[ns]\n",
      "dtypes: datetime64[ns](1), int64(2), object(5)\n",
      "memory usage: 1.4+ MB\n"
     ]
    }
   ],
   "source": [
    "reviews_df.info()"
   ]
  },
  {
   "cell_type": "code",
   "execution_count": 1741,
   "metadata": {},
   "outputs": [
    {
     "data": {
      "text/plain": [
       "array(['3/5', nan, 'C', '2/5', 'B-', '2/4', 'B', '3/4', '4/5', '4/4',\n",
       "       '6/10', '1/4', '8', '2.5/4', '4/10', '2.0/5', '3/10', '7/10', 'A-',\n",
       "       '5/5', 'F', '3.5/4', 'D+', '1.5/4', '3.5/5', '8/10', 'B+', '9/10',\n",
       "       '2.5/5', '7.5/10', '5.5/10', 'C-', '1.5/5', '1/5', '5/10', 'C+',\n",
       "       '0/4', 'D', 'D-', '7', '3', 'A+', 'A', '4.5/5', '4.0/4', '9.5/10',\n",
       "       '2.5', '2.1/2', '6.5/10', '3.7/5', '8.4/10', '9', '1', '7.2/10',\n",
       "       '2.2/5', '0/5', '0.5/10', '7.7', '5.0/5', '6', '8.5/10', '3.0/5',\n",
       "       '2/10', '0.5/5', '1.5/10', '3.0/4', '2.3/10', '4.5/10', '3.5',\n",
       "       '8.6/10', '2.0/4', '2.7', '4.2/10', '7.1/10', 'N', '3.5/10', '4',\n",
       "       '5.8/10', 'R', '4.0/5', '1/10', '5.0/10', '5.9/10', '0.5/4',\n",
       "       '2.4/5', '4.9', '7.4/10', '1.5', '2.3/4', '8.8/10', '4.0/10', '5',\n",
       "       '2.2', '3.8/10', '6.8/10', '7.3', '4.2', '8.4', '6.3/10', '7.6/10',\n",
       "       '8.1/10', '3.6/5', '7.7/10', '1.8', '8.9/10', '8.9', '8.2/10',\n",
       "       '8.3/10', '4.1/10', '2.5/10', 'F+', '6.0/10', '1.0/4', '7.9/10',\n",
       "       '1.9/5', '8.7/10', '4.3/10', '9.6/10', '2', '0/10', '9.0/10',\n",
       "       '4.0', '1.7', '7.0/10', '7.9', '8.0/10', '5.9', '6.2/10', '8.2',\n",
       "       '2.6/5', '3.4', '9.7', '3.3/5', '3.8/5', '7.4', '4.8', '4.7',\n",
       "       '2/2', '1-5', '1.0', '9.2', '4.9/10', '3.0', '3.1', '7.8/10', 'F-',\n",
       "       '2.3/5', '3/2', '7.8', '4.2/5', '9.2/10', '9.0', '4.5', '7.3/10',\n",
       "       '4.4/5', '6.9/10', '3.3', '9.8', '3.7', '8.5', '1.0/5', '4.1',\n",
       "       '7.1', '3 1/2'], dtype=object)"
      ]
     },
     "execution_count": 1741,
     "metadata": {},
     "output_type": "execute_result"
    }
   ],
   "source": [
    "reviews_df['rating'].unique()"
   ]
  },
  {
   "cell_type": "markdown",
   "metadata": {},
   "source": [
    "ratings seem to have different values I need to make all the ratings out of 10 for valid analysis to be performed"
   ]
  },
  {
   "cell_type": "code",
   "execution_count": 1742,
   "metadata": {},
   "outputs": [],
   "source": [
    "\n",
    "def convert_to_10(rating):\n",
    "     # Ensure input is a string\n",
    "    grade_mapping = {'A+': 10, 'A': 9.5, 'A-': 9, 'B+': 8.5, 'B': 8, 'B-': 7.5, 'C+': 7, 'C': 6.5, 'C-': 6, 'D+': 5.5, 'D': 5,'D-': 4.5, 'F+':2.5,'F': 2,'F-': 1.5}\n",
    "    \n",
    "    if rating in grade_mapping:\n",
    "        return grade_mapping[rating]\n",
    "    else:\n",
    "        return rating\n",
    "    \n",
    "\n",
    "\n",
    "             "
   ]
  },
  {
   "cell_type": "code",
   "execution_count": 1743,
   "metadata": {},
   "outputs": [
    {
     "data": {
      "text/plain": [
       "array(['3/5', nan, 6.5, '2/5', 7.5, '2/4', 8, '3/4', '4/5', '4/4', '6/10',\n",
       "       '1/4', '8', '2.5/4', '4/10', '2.0/5', '3/10', '7/10', 9, '5/5', 2,\n",
       "       '3.5/4', 5.5, '1.5/4', '3.5/5', '8/10', 8.5, '9/10', '2.5/5',\n",
       "       '7.5/10', '5.5/10', 6, '1.5/5', '1/5', '5/10', 7, '0/4', 5, 4.5,\n",
       "       '7', '3', 10, 9.5, '4.5/5', '4.0/4', '9.5/10', '2.5', '2.1/2',\n",
       "       '6.5/10', '3.7/5', '8.4/10', '9', '1', '7.2/10', '2.2/5', '0/5',\n",
       "       '0.5/10', '7.7', '5.0/5', '6', '8.5/10', '3.0/5', '2/10', '0.5/5',\n",
       "       '1.5/10', '3.0/4', '2.3/10', '4.5/10', '3.5', '8.6/10', '2.0/4',\n",
       "       '2.7', '4.2/10', '7.1/10', 'N', '3.5/10', '4', '5.8/10', 'R',\n",
       "       '4.0/5', '1/10', '5.0/10', '5.9/10', '0.5/4', '2.4/5', '4.9',\n",
       "       '7.4/10', '1.5', '2.3/4', '8.8/10', '4.0/10', '5', '2.2', '3.8/10',\n",
       "       '6.8/10', '7.3', '4.2', '8.4', '6.3/10', '7.6/10', '8.1/10',\n",
       "       '3.6/5', '7.7/10', '1.8', '8.9/10', '8.9', '8.2/10', '8.3/10',\n",
       "       '4.1/10', '2.5/10', 2.5, '6.0/10', '1.0/4', '7.9/10', '1.9/5',\n",
       "       '8.7/10', '4.3/10', '9.6/10', '2', '0/10', '9.0/10', '4.0', '1.7',\n",
       "       '7.0/10', '7.9', '8.0/10', '5.9', '6.2/10', '8.2', '2.6/5', '3.4',\n",
       "       '9.7', '3.3/5', '3.8/5', '7.4', '4.8', '4.7', '2/2', '1-5', '1.0',\n",
       "       '9.2', '4.9/10', '3.0', '3.1', '7.8/10', 1.5, '2.3/5', '3/2',\n",
       "       '7.8', '4.2/5', '9.2/10', '9.0', '4.5', '7.3/10', '4.4/5',\n",
       "       '6.9/10', '3.3', '9.8', '3.7', '8.5', '1.0/5', '4.1', '7.1',\n",
       "       '3 1/2'], dtype=object)"
      ]
     },
     "execution_count": 1743,
     "metadata": {},
     "output_type": "execute_result"
    }
   ],
   "source": [
    "reviews_df['rating out_of_ten'] =  reviews_df['rating'].apply(convert_to_10)\n",
    "reviews_df['rating out_of_ten'].unique()\n"
   ]
  },
  {
   "cell_type": "code",
   "execution_count": 1744,
   "metadata": {},
   "outputs": [
    {
     "name": "stdout",
     "output_type": "stream",
     "text": [
      "3/6: 5.0\n",
      "3.8/5: 7.6\n",
      "1-5: None\n",
      "7: 7.0\n",
      "N: None\n",
      "9.8: 9.8\n",
      "R: None\n",
      "T: None\n",
      "None: None\n",
      "6/10: 6.0\n",
      "0.7: 0.7\n",
      "3 1/2: None\n",
      "4.0/4: 10.0\n",
      "2.1/2: 10.5\n"
     ]
    }
   ],
   "source": [
    "def normalize_rating(rating):\n",
    "    if rating is None or rating == 'N' or rating == 'R' or rating == 'T':\n",
    "        return None  # Return None for special cases\n",
    "    \n",
    "    if '/' in str(rating):\n",
    "        parts = rating.split('/')\n",
    "        if ' ' in parts[0]:\n",
    "            return None  # Treat irregular ratings like '3 1/2' as null\n",
    "        numerator = float(parts[0])\n",
    "        denominator = float(parts[1])\n",
    "        return (numerator / denominator) * 10  # Normalize to be out of ten\n",
    "    \n",
    "    if '-' in str(rating):\n",
    "        return None  # Treat irregular ratings like '1-5' as null\n",
    "    \n",
    "    return float(rating)  # For other cases, simply convert to float\n",
    "\n",
    "# Test the function\n",
    "ratings = ['3/6', '3.8/5', '1-5', '7', 'N', '9.8', 'R', 'T', None, '6/10', 0.7, '3 1/2','4.0/4','2.1/2']\n",
    "for rating in ratings:\n",
    "    normalized = normalize_rating(rating)\n",
    "    print(f\"{rating}: {normalized}\")\n"
   ]
  },
  {
   "cell_type": "code",
   "execution_count": 1745,
   "metadata": {},
   "outputs": [],
   "source": [
    "reviews_df['rating out_of_ten'] = reviews_df['rating out_of_ten'].apply(normalize_rating)"
   ]
  },
  {
   "cell_type": "code",
   "execution_count": 1746,
   "metadata": {},
   "outputs": [
    {
     "data": {
      "text/plain": [
       "array([ 6.  ,   nan,  6.5 ,  4.  ,  7.5 ,  5.  ,  8.  , 10.  ,  2.5 ,\n",
       "        6.25,  3.  ,  7.  ,  9.  ,  2.  ,  8.75,  5.5 ,  3.75,  8.5 ,\n",
       "        0.  ,  4.5 ,  9.5 , 10.5 ,  7.4 ,  8.4 ,  1.  ,  7.2 ,  4.4 ,\n",
       "        0.5 ,  7.7 ,  1.5 ,  2.3 ,  3.5 ,  8.6 ,  2.7 ,  4.2 ,  7.1 ,\n",
       "        5.8 ,  5.9 ,  1.25,  4.8 ,  4.9 ,  5.75,  8.8 ,  2.2 ,  3.8 ,\n",
       "        6.8 ,  7.3 ,  6.3 ,  7.6 ,  8.1 ,  1.8 ,  8.9 ,  8.2 ,  8.3 ,\n",
       "        4.1 ,  7.9 ,  8.7 ,  4.3 ,  9.6 ,  1.7 ,  6.2 ,  5.2 ,  3.4 ,\n",
       "        9.7 ,  6.6 ,  4.7 ,  9.2 ,  3.1 ,  7.8 ,  4.6 , 15.  ,  7.8 ,\n",
       "        6.9 ,  3.3 ,  9.8 ,  3.7 ])"
      ]
     },
     "execution_count": 1746,
     "metadata": {},
     "output_type": "execute_result"
    }
   ],
   "source": [
    "reviews_df['rating out_of_ten'].unique()"
   ]
  },
  {
   "cell_type": "code",
   "execution_count": 1747,
   "metadata": {},
   "outputs": [],
   "source": [
    "reviews_df.dropna(subset = ['rating out_of_ten'],inplace=True)"
   ]
  },
  {
   "cell_type": "code",
   "execution_count": 1748,
   "metadata": {},
   "outputs": [
    {
     "name": "stdout",
     "output_type": "stream",
     "text": [
      "<class 'pandas.core.frame.DataFrame'>\n",
      "Int64Index: 15289 entries, 0 to 54365\n",
      "Data columns (total 9 columns):\n",
      " #   Column             Non-Null Count  Dtype         \n",
      "---  ------             --------------  -----         \n",
      " 0   id                 15289 non-null  int64         \n",
      " 1   review             14995 non-null  object        \n",
      " 2   rating             15289 non-null  object        \n",
      " 3   fresh              15289 non-null  object        \n",
      " 4   critic             14848 non-null  object        \n",
      " 5   top_critic         15289 non-null  int64         \n",
      " 6   publisher          15130 non-null  object        \n",
      " 7   date               15289 non-null  datetime64[ns]\n",
      " 8   rating out_of_ten  15289 non-null  float64       \n",
      "dtypes: datetime64[ns](1), float64(1), int64(2), object(5)\n",
      "memory usage: 1.2+ MB\n"
     ]
    }
   ],
   "source": [
    "reviews_df.info()"
   ]
  },
  {
   "cell_type": "code",
   "execution_count": 1749,
   "metadata": {},
   "outputs": [],
   "source": [
    "reviews_df.fillna('N/A',inplace=True)"
   ]
  },
  {
   "cell_type": "code",
   "execution_count": 1750,
   "metadata": {},
   "outputs": [
    {
     "name": "stdout",
     "output_type": "stream",
     "text": [
      "<class 'pandas.core.frame.DataFrame'>\n",
      "Int64Index: 15289 entries, 0 to 54365\n",
      "Data columns (total 9 columns):\n",
      " #   Column             Non-Null Count  Dtype         \n",
      "---  ------             --------------  -----         \n",
      " 0   id                 15289 non-null  int64         \n",
      " 1   review             15289 non-null  object        \n",
      " 2   rating             15289 non-null  object        \n",
      " 3   fresh              15289 non-null  object        \n",
      " 4   critic             15289 non-null  object        \n",
      " 5   top_critic         15289 non-null  int64         \n",
      " 6   publisher          15289 non-null  object        \n",
      " 7   date               15289 non-null  datetime64[ns]\n",
      " 8   rating out_of_ten  15289 non-null  float64       \n",
      "dtypes: datetime64[ns](1), float64(1), int64(2), object(5)\n",
      "memory usage: 1.2+ MB\n"
     ]
    }
   ],
   "source": [
    "reviews_df.info()"
   ]
  },
  {
   "cell_type": "markdown",
   "metadata": {},
   "source": [
    "D) imdb_df"
   ]
  },
  {
   "cell_type": "code",
   "execution_count": 1751,
   "metadata": {},
   "outputs": [
    {
     "name": "stdout",
     "output_type": "stream",
     "text": [
      "<class 'pandas.core.frame.DataFrame'>\n",
      "RangeIndex: 73856 entries, 0 to 73855\n",
      "Data columns (total 8 columns):\n",
      " #   Column           Non-Null Count  Dtype  \n",
      "---  ------           --------------  -----  \n",
      " 0   movie_id         73856 non-null  object \n",
      " 1   primary_title    73856 non-null  object \n",
      " 2   original_title   73856 non-null  object \n",
      " 3   start_year       73856 non-null  int64  \n",
      " 4   runtime_minutes  66236 non-null  float64\n",
      " 5   genres           73052 non-null  object \n",
      " 6   averagerating    73856 non-null  float64\n",
      " 7   numvotes         73856 non-null  int64  \n",
      "dtypes: float64(2), int64(2), object(4)\n",
      "memory usage: 4.5+ MB\n"
     ]
    }
   ],
   "source": [
    "imdb_df.info()"
   ]
  },
  {
   "cell_type": "code",
   "execution_count": 1752,
   "metadata": {},
   "outputs": [],
   "source": [
    "imdb_df = imdb_df[imdb_df['start_year']>=2010]"
   ]
  },
  {
   "cell_type": "code",
   "execution_count": 1753,
   "metadata": {},
   "outputs": [],
   "source": [
    "imdb_df['genres'].fillna('N/A',inplace=True)"
   ]
  },
  {
   "cell_type": "code",
   "execution_count": 1754,
   "metadata": {},
   "outputs": [
    {
     "name": "stdout",
     "output_type": "stream",
     "text": [
      "<class 'pandas.core.frame.DataFrame'>\n",
      "Int64Index: 73856 entries, 0 to 73855\n",
      "Data columns (total 8 columns):\n",
      " #   Column           Non-Null Count  Dtype  \n",
      "---  ------           --------------  -----  \n",
      " 0   movie_id         73856 non-null  object \n",
      " 1   primary_title    73856 non-null  object \n",
      " 2   original_title   73856 non-null  object \n",
      " 3   start_year       73856 non-null  int64  \n",
      " 4   runtime_minutes  66236 non-null  float64\n",
      " 5   genres           73856 non-null  object \n",
      " 6   averagerating    73856 non-null  float64\n",
      " 7   numvotes         73856 non-null  int64  \n",
      "dtypes: float64(2), int64(2), object(4)\n",
      "memory usage: 5.1+ MB\n"
     ]
    }
   ],
   "source": [
    "imdb_df.info()"
   ]
  },
  {
   "cell_type": "code",
   "execution_count": 1755,
   "metadata": {},
   "outputs": [
    {
     "name": "stdout",
     "output_type": "stream",
     "text": [
      "<class 'pandas.core.frame.DataFrame'>\n",
      "RangeIndex: 26517 entries, 0 to 26516\n",
      "Data columns (total 10 columns):\n",
      " #   Column             Non-Null Count  Dtype  \n",
      "---  ------             --------------  -----  \n",
      " 0   Unnamed: 0         26517 non-null  int64  \n",
      " 1   genre_ids          26517 non-null  object \n",
      " 2   id                 26517 non-null  int64  \n",
      " 3   original_language  26517 non-null  object \n",
      " 4   original_title     26517 non-null  object \n",
      " 5   popularity         26517 non-null  float64\n",
      " 6   release_date       26517 non-null  object \n",
      " 7   title              26517 non-null  object \n",
      " 8   vote_average       26517 non-null  float64\n",
      " 9   vote_count         26517 non-null  int64  \n",
      "dtypes: float64(2), int64(3), object(5)\n",
      "memory usage: 2.0+ MB\n"
     ]
    }
   ],
   "source": [
    "tmdb_df.info()"
   ]
  },
  {
   "cell_type": "code",
   "execution_count": 1756,
   "metadata": {},
   "outputs": [],
   "source": [
    "tmdb_df['release_date'] = pd.to_datetime(tmdb_df['release_date'],errors='coerce')"
   ]
  },
  {
   "cell_type": "code",
   "execution_count": 1757,
   "metadata": {},
   "outputs": [],
   "source": [
    "tmdb_df = tmdb_df[tmdb_df['release_date'].dt.year >= 2010]"
   ]
  },
  {
   "cell_type": "code",
   "execution_count": 1758,
   "metadata": {},
   "outputs": [
    {
     "name": "stdout",
     "output_type": "stream",
     "text": [
      "<class 'pandas.core.frame.DataFrame'>\n",
      "Int64Index: 26291 entries, 0 to 26516\n",
      "Data columns (total 10 columns):\n",
      " #   Column             Non-Null Count  Dtype         \n",
      "---  ------             --------------  -----         \n",
      " 0   Unnamed: 0         26291 non-null  int64         \n",
      " 1   genre_ids          26291 non-null  object        \n",
      " 2   id                 26291 non-null  int64         \n",
      " 3   original_language  26291 non-null  object        \n",
      " 4   original_title     26291 non-null  object        \n",
      " 5   popularity         26291 non-null  float64       \n",
      " 6   release_date       26291 non-null  datetime64[ns]\n",
      " 7   title              26291 non-null  object        \n",
      " 8   vote_average       26291 non-null  float64       \n",
      " 9   vote_count         26291 non-null  int64         \n",
      "dtypes: datetime64[ns](1), float64(2), int64(3), object(4)\n",
      "memory usage: 2.2+ MB\n"
     ]
    }
   ],
   "source": [
    "tmdb_df.info()"
   ]
  },
  {
   "cell_type": "code",
   "execution_count": 1759,
   "metadata": {},
   "outputs": [
    {
     "name": "stdout",
     "output_type": "stream",
     "text": [
      "<class 'pandas.core.frame.DataFrame'>\n",
      "RangeIndex: 5782 entries, 0 to 5781\n",
      "Data columns (total 6 columns):\n",
      " #   Column             Non-Null Count  Dtype \n",
      "---  ------             --------------  ----- \n",
      " 0   id                 5782 non-null   int64 \n",
      " 1   release_date       5782 non-null   object\n",
      " 2   movie              5782 non-null   object\n",
      " 3   production_budget  5782 non-null   object\n",
      " 4   domestic_gross     5782 non-null   object\n",
      " 5   worldwide_gross    5782 non-null   object\n",
      "dtypes: int64(1), object(5)\n",
      "memory usage: 271.2+ KB\n"
     ]
    }
   ],
   "source": [
    "movie_budgets_df.info()"
   ]
  },
  {
   "cell_type": "code",
   "execution_count": 1760,
   "metadata": {},
   "outputs": [],
   "source": [
    "movie_budgets_df['release_date'] = pd.to_datetime(movie_budgets_df['release_date'],errors='coerce')"
   ]
  },
  {
   "cell_type": "code",
   "execution_count": 1761,
   "metadata": {},
   "outputs": [],
   "source": [
    "movie_budgets_df = movie_budgets_df[movie_budgets_df['release_date'].dt.year >= 2010]"
   ]
  },
  {
   "cell_type": "code",
   "execution_count": 1762,
   "metadata": {},
   "outputs": [
    {
     "name": "stdout",
     "output_type": "stream",
     "text": [
      "<class 'pandas.core.frame.DataFrame'>\n",
      "Int64Index: 2194 entries, 1 to 5780\n",
      "Data columns (total 6 columns):\n",
      " #   Column             Non-Null Count  Dtype         \n",
      "---  ------             --------------  -----         \n",
      " 0   id                 2194 non-null   int64         \n",
      " 1   release_date       2194 non-null   datetime64[ns]\n",
      " 2   movie              2194 non-null   object        \n",
      " 3   production_budget  2194 non-null   object        \n",
      " 4   domestic_gross     2194 non-null   object        \n",
      " 5   worldwide_gross    2194 non-null   object        \n",
      "dtypes: datetime64[ns](1), int64(1), object(4)\n",
      "memory usage: 120.0+ KB\n"
     ]
    }
   ],
   "source": [
    "movie_budgets_df.info()"
   ]
  },
  {
   "cell_type": "markdown",
   "metadata": {},
   "source": [
    "DATA ANALYSIS AND VISUALIZATION"
   ]
  },
  {
   "cell_type": "markdown",
   "metadata": {},
   "source": [
    "A) Identify Movies with highest gross"
   ]
  },
  {
   "cell_type": "code",
   "execution_count": 1763,
   "metadata": {},
   "outputs": [
    {
     "name": "stdout",
     "output_type": "stream",
     "text": [
      "<class 'pandas.core.frame.DataFrame'>\n",
      "Int64Index: 1170 entries, 0 to 3226\n",
      "Data columns (total 5 columns):\n",
      " #   Column          Non-Null Count  Dtype  \n",
      "---  ------          --------------  -----  \n",
      " 0   title           1170 non-null   object \n",
      " 1   studio          1170 non-null   object \n",
      " 2   domestic_gross  1170 non-null   float64\n",
      " 3   foreign_gross   1170 non-null   float64\n",
      " 4   year            1170 non-null   int64  \n",
      "dtypes: float64(2), int64(1), object(2)\n",
      "memory usage: 54.8+ KB\n"
     ]
    }
   ],
   "source": [
    "bom_df.info()"
   ]
  },
  {
   "cell_type": "code",
   "execution_count": 1764,
   "metadata": {},
   "outputs": [
    {
     "data": {
      "text/html": [
       "<div>\n",
       "<style scoped>\n",
       "    .dataframe tbody tr th:only-of-type {\n",
       "        vertical-align: middle;\n",
       "    }\n",
       "\n",
       "    .dataframe tbody tr th {\n",
       "        vertical-align: top;\n",
       "    }\n",
       "\n",
       "    .dataframe thead th {\n",
       "        text-align: right;\n",
       "    }\n",
       "</style>\n",
       "<table border=\"1\" class=\"dataframe\">\n",
       "  <thead>\n",
       "    <tr style=\"text-align: right;\">\n",
       "      <th></th>\n",
       "      <th>title</th>\n",
       "      <th>studio</th>\n",
       "      <th>domestic_gross</th>\n",
       "      <th>foreign_gross</th>\n",
       "      <th>year</th>\n",
       "    </tr>\n",
       "  </thead>\n",
       "  <tbody>\n",
       "    <tr>\n",
       "      <th>3210</th>\n",
       "      <td>Free Solo</td>\n",
       "      <td>NGE</td>\n",
       "      <td>17500000.0</td>\n",
       "      <td>5.813447e+07</td>\n",
       "      <td>2018</td>\n",
       "    </tr>\n",
       "    <tr>\n",
       "      <th>3213</th>\n",
       "      <td>Hunter Killer</td>\n",
       "      <td>LG/S</td>\n",
       "      <td>15800000.0</td>\n",
       "      <td>5.643447e+07</td>\n",
       "      <td>2018</td>\n",
       "    </tr>\n",
       "    <tr>\n",
       "      <th>3216</th>\n",
       "      <td>Upgrade</td>\n",
       "      <td>BH Tilt</td>\n",
       "      <td>12000000.0</td>\n",
       "      <td>2.400000e+06</td>\n",
       "      <td>2018</td>\n",
       "    </tr>\n",
       "    <tr>\n",
       "      <th>3219</th>\n",
       "      <td>Welcome to Marwen</td>\n",
       "      <td>Uni.</td>\n",
       "      <td>10800000.0</td>\n",
       "      <td>2.100000e+06</td>\n",
       "      <td>2018</td>\n",
       "    </tr>\n",
       "    <tr>\n",
       "      <th>3226</th>\n",
       "      <td>The Old Man &amp; the Gun</td>\n",
       "      <td>FoxS</td>\n",
       "      <td>11300000.0</td>\n",
       "      <td>5.193447e+07</td>\n",
       "      <td>2018</td>\n",
       "    </tr>\n",
       "  </tbody>\n",
       "</table>\n",
       "</div>"
      ],
      "text/plain": [
       "                      title   studio  domestic_gross  foreign_gross  year\n",
       "3210              Free Solo      NGE      17500000.0   5.813447e+07  2018\n",
       "3213          Hunter Killer     LG/S      15800000.0   5.643447e+07  2018\n",
       "3216                Upgrade  BH Tilt      12000000.0   2.400000e+06  2018\n",
       "3219      Welcome to Marwen     Uni.      10800000.0   2.100000e+06  2018\n",
       "3226  The Old Man & the Gun     FoxS      11300000.0   5.193447e+07  2018"
      ]
     },
     "execution_count": 1764,
     "metadata": {},
     "output_type": "execute_result"
    }
   ],
   "source": [
    "bom_df.tail()"
   ]
  },
  {
   "cell_type": "code",
   "execution_count": 1765,
   "metadata": {},
   "outputs": [],
   "source": [
    "bom_df['worldwide_gross'] = bom_df['domestic_gross'] + bom_df['foreign_gross']"
   ]
  },
  {
   "cell_type": "code",
   "execution_count": 1766,
   "metadata": {},
   "outputs": [],
   "source": [
    "bom_df_sorted = bom_df.sort_values(by='worldwide_gross', ascending=False)"
   ]
  },
  {
   "cell_type": "code",
   "execution_count": 1767,
   "metadata": {},
   "outputs": [
    {
     "data": {
      "image/png": "[encoded data removed]",
      "text/plain": [
       "<Figure size 720x432 with 1 Axes>"
      ]
     },
     "metadata": {
      "needs_background": "light"
     },
     "output_type": "display_data"
    }
   ],
   "source": [
    "\n",
    "# Extract movie titles and worldwide gross\n",
    "movie_titles = bom_df_sorted['title'].head(20)\n",
    "worldwide_gross = bom_df_sorted['worldwide_gross'].head(20)\n",
    "\n",
    "# Plot the bar chart\n",
    "plt.figure(figsize=(10, 6))  # Set the figure size\n",
    "plt.bar(movie_titles, worldwide_gross)\n",
    "\n",
    "\n",
    "plt.xticks(rotation=90)\n",
    "\n",
    "# Add labels and title\n",
    "plt.xlabel('Movie Title')\n",
    "plt.ylabel('Worldwide Gross')\n",
    "plt.title('Worldwide Gross for Top 20 Movies')\n",
    "\n",
    "# Show the plot\n",
    "plt.tight_layout()  # Adjust layout to prevent clipping of labels\n",
    "plt.show()\n"
   ]
  },
  {
   "cell_type": "code",
   "execution_count": 1768,
   "metadata": {},
   "outputs": [
    {
     "data": {
      "text/html": [
       "<div>\n",
       "<style scoped>\n",
       "    .dataframe tbody tr th:only-of-type {\n",
       "        vertical-align: middle;\n",
       "    }\n",
       "\n",
       "    .dataframe tbody tr th {\n",
       "        vertical-align: top;\n",
       "    }\n",
       "\n",
       "    .dataframe thead th {\n",
       "        text-align: right;\n",
       "    }\n",
       "</style>\n",
       "<table border=\"1\" class=\"dataframe\">\n",
       "  <thead>\n",
       "    <tr style=\"text-align: right;\">\n",
       "      <th></th>\n",
       "      <th>id</th>\n",
       "      <th>release_date</th>\n",
       "      <th>movie</th>\n",
       "      <th>production_budget</th>\n",
       "      <th>domestic_gross</th>\n",
       "      <th>worldwide_gross</th>\n",
       "    </tr>\n",
       "  </thead>\n",
       "  <tbody>\n",
       "    <tr>\n",
       "      <th>5761</th>\n",
       "      <td>62</td>\n",
       "      <td>2014-12-31</td>\n",
       "      <td>Stories of Our Lives</td>\n",
       "      <td>$15,000</td>\n",
       "      <td>$0</td>\n",
       "      <td>$0</td>\n",
       "    </tr>\n",
       "    <tr>\n",
       "      <th>5771</th>\n",
       "      <td>72</td>\n",
       "      <td>2015-05-19</td>\n",
       "      <td>Family Motocross</td>\n",
       "      <td>$10,000</td>\n",
       "      <td>$0</td>\n",
       "      <td>$0</td>\n",
       "    </tr>\n",
       "    <tr>\n",
       "      <th>5772</th>\n",
       "      <td>73</td>\n",
       "      <td>2012-01-13</td>\n",
       "      <td>Newlyweds</td>\n",
       "      <td>$9,000</td>\n",
       "      <td>$4,584</td>\n",
       "      <td>$4,584</td>\n",
       "    </tr>\n",
       "    <tr>\n",
       "      <th>5777</th>\n",
       "      <td>78</td>\n",
       "      <td>2018-12-31</td>\n",
       "      <td>Red 11</td>\n",
       "      <td>$7,000</td>\n",
       "      <td>$0</td>\n",
       "      <td>$0</td>\n",
       "    </tr>\n",
       "    <tr>\n",
       "      <th>5780</th>\n",
       "      <td>81</td>\n",
       "      <td>2015-09-29</td>\n",
       "      <td>A Plague So Pleasant</td>\n",
       "      <td>$1,400</td>\n",
       "      <td>$0</td>\n",
       "      <td>$0</td>\n",
       "    </tr>\n",
       "  </tbody>\n",
       "</table>\n",
       "</div>"
      ],
      "text/plain": [
       "      id release_date                 movie production_budget domestic_gross  \\\n",
       "5761  62   2014-12-31  Stories of Our Lives           $15,000             $0   \n",
       "5771  72   2015-05-19      Family Motocross           $10,000             $0   \n",
       "5772  73   2012-01-13             Newlyweds            $9,000         $4,584   \n",
       "5777  78   2018-12-31                Red 11            $7,000             $0   \n",
       "5780  81   2015-09-29  A Plague So Pleasant            $1,400             $0   \n",
       "\n",
       "     worldwide_gross  \n",
       "5761              $0  \n",
       "5771              $0  \n",
       "5772          $4,584  \n",
       "5777              $0  \n",
       "5780              $0  "
      ]
     },
     "execution_count": 1768,
     "metadata": {},
     "output_type": "execute_result"
    }
   ],
   "source": [
    "movie_budgets_df.tail()"
   ]
  },
  {
   "cell_type": "code",
   "execution_count": 1769,
   "metadata": {},
   "outputs": [
    {
     "name": "stdout",
     "output_type": "stream",
     "text": [
      "<class 'pandas.core.frame.DataFrame'>\n",
      "Int64Index: 2194 entries, 1 to 5780\n",
      "Data columns (total 6 columns):\n",
      " #   Column             Non-Null Count  Dtype         \n",
      "---  ------             --------------  -----         \n",
      " 0   id                 2194 non-null   int64         \n",
      " 1   release_date       2194 non-null   datetime64[ns]\n",
      " 2   movie              2194 non-null   object        \n",
      " 3   production_budget  2194 non-null   float64       \n",
      " 4   domestic_gross     2194 non-null   float64       \n",
      " 5   worldwide_gross    2194 non-null   float64       \n",
      "dtypes: datetime64[ns](1), float64(3), int64(1), object(1)\n",
      "memory usage: 120.0+ KB\n"
     ]
    }
   ],
   "source": [
    "\n",
    "# Remove the dollar sign ($) and commas from the specified columns\n",
    "movie_budgets_df['production_budget'] = movie_budgets_df['production_budget'].str.replace('[$,]', '').astype(float)\n",
    "movie_budgets_df['domestic_gross'] = movie_budgets_df['domestic_gross'].str.replace('[$,]', '').astype(float)\n",
    "movie_budgets_df['worldwide_gross'] = movie_budgets_df['worldwide_gross'].str.replace('[$,]', '').astype(float)\n",
    "\n",
    "\n",
    "\n",
    "movie_budgets_df.info()\n",
    "\n",
    " "
   ]
  },
  {
   "cell_type": "code",
   "execution_count": 1770,
   "metadata": {},
   "outputs": [
    {
     "data": {
      "text/html": [
       "<div>\n",
       "<style scoped>\n",
       "    .dataframe tbody tr th:only-of-type {\n",
       "        vertical-align: middle;\n",
       "    }\n",
       "\n",
       "    .dataframe tbody tr th {\n",
       "        vertical-align: top;\n",
       "    }\n",
       "\n",
       "    .dataframe thead th {\n",
       "        text-align: right;\n",
       "    }\n",
       "</style>\n",
       "<table border=\"1\" class=\"dataframe\">\n",
       "  <thead>\n",
       "    <tr style=\"text-align: right;\">\n",
       "      <th></th>\n",
       "      <th>id</th>\n",
       "      <th>release_date</th>\n",
       "      <th>movie</th>\n",
       "      <th>production_budget</th>\n",
       "      <th>domestic_gross</th>\n",
       "      <th>worldwide_gross</th>\n",
       "    </tr>\n",
       "  </thead>\n",
       "  <tbody>\n",
       "    <tr>\n",
       "      <th>5761</th>\n",
       "      <td>62</td>\n",
       "      <td>2014-12-31</td>\n",
       "      <td>Stories of Our Lives</td>\n",
       "      <td>15000.0</td>\n",
       "      <td>0.0</td>\n",
       "      <td>0.0</td>\n",
       "    </tr>\n",
       "    <tr>\n",
       "      <th>5771</th>\n",
       "      <td>72</td>\n",
       "      <td>2015-05-19</td>\n",
       "      <td>Family Motocross</td>\n",
       "      <td>10000.0</td>\n",
       "      <td>0.0</td>\n",
       "      <td>0.0</td>\n",
       "    </tr>\n",
       "    <tr>\n",
       "      <th>5772</th>\n",
       "      <td>73</td>\n",
       "      <td>2012-01-13</td>\n",
       "      <td>Newlyweds</td>\n",
       "      <td>9000.0</td>\n",
       "      <td>4584.0</td>\n",
       "      <td>4584.0</td>\n",
       "    </tr>\n",
       "    <tr>\n",
       "      <th>5777</th>\n",
       "      <td>78</td>\n",
       "      <td>2018-12-31</td>\n",
       "      <td>Red 11</td>\n",
       "      <td>7000.0</td>\n",
       "      <td>0.0</td>\n",
       "      <td>0.0</td>\n",
       "    </tr>\n",
       "    <tr>\n",
       "      <th>5780</th>\n",
       "      <td>81</td>\n",
       "      <td>2015-09-29</td>\n",
       "      <td>A Plague So Pleasant</td>\n",
       "      <td>1400.0</td>\n",
       "      <td>0.0</td>\n",
       "      <td>0.0</td>\n",
       "    </tr>\n",
       "  </tbody>\n",
       "</table>\n",
       "</div>"
      ],
      "text/plain": [
       "      id release_date                 movie  production_budget  \\\n",
       "5761  62   2014-12-31  Stories of Our Lives            15000.0   \n",
       "5771  72   2015-05-19      Family Motocross            10000.0   \n",
       "5772  73   2012-01-13             Newlyweds             9000.0   \n",
       "5777  78   2018-12-31                Red 11             7000.0   \n",
       "5780  81   2015-09-29  A Plague So Pleasant             1400.0   \n",
       "\n",
       "      domestic_gross  worldwide_gross  \n",
       "5761             0.0              0.0  \n",
       "5771             0.0              0.0  \n",
       "5772          4584.0           4584.0  \n",
       "5777             0.0              0.0  \n",
       "5780             0.0              0.0  "
      ]
     },
     "execution_count": 1770,
     "metadata": {},
     "output_type": "execute_result"
    }
   ],
   "source": [
    "movie_budgets_df.tail()"
   ]
  },
  {
   "cell_type": "code",
   "execution_count": 1771,
   "metadata": {},
   "outputs": [],
   "source": [
    "movie_budgets_df['foreign_gross'] = movie_budgets_df['worldwide_gross'] - movie_budgets_df['domestic_gross']"
   ]
  },
  {
   "cell_type": "code",
   "execution_count": 1772,
   "metadata": {},
   "outputs": [],
   "source": [
    "movie_budgets_df['net_profit'] = movie_budgets_df['worldwide_gross'] - movie_budgets_df['production_budget']"
   ]
  },
  {
   "cell_type": "code",
   "execution_count": 1773,
   "metadata": {},
   "outputs": [],
   "source": [
    "movie_budgets_sorted = movie_budgets_df.sort_values(by='net_profit', ascending=False)"
   ]
  },
  {
   "cell_type": "code",
   "execution_count": 1774,
   "metadata": {},
   "outputs": [
    {
     "data": {
      "image/png": "[encoded data removed]",
      "text/plain": [
       "<Figure size 720x432 with 1 Axes>"
      ]
     },
     "metadata": {
      "needs_background": "light"
     },
     "output_type": "display_data"
    }
   ],
   "source": [
    "# Extract movie titles and worldwide gross\n",
    "movie_titles = movie_budgets_sorted['movie'].head(20)\n",
    "worldwide_gross = movie_budgets_sorted['net_profit'].head(20)\n",
    "\n",
    "# Plot the bar chart\n",
    "plt.figure(figsize=(10, 6))  # Set the figure size\n",
    "plt.bar(movie_titles, worldwide_gross)\n",
    "\n",
    "\n",
    "plt.xticks(rotation=90)\n",
    "\n",
    "# Add labels and title\n",
    "plt.xlabel('Movie Title')\n",
    "plt.ylabel('Net Profit')\n",
    "plt.title('Net Profit for Top 20 Movies')\n",
    "\n",
    "# Show the plot\n",
    "plt.tight_layout()  # Adjust layout to prevent clipping of labels\n",
    "plt.show()\n"
   ]
  },
  {
   "cell_type": "markdown",
   "metadata": {},
   "source": [
    "We've seen the top 20 movies in both data sets now we need to determine which genre these movies belong to . Starting with the bom_df_sorted. Since this data set does not contain movie id and the movie_info_df does not have movie titles then the only way we can get their genres is by using the imdb_df data "
   ]
  },
  {
   "cell_type": "code",
   "execution_count": 1775,
   "metadata": {},
   "outputs": [
    {
     "name": "stdout",
     "output_type": "stream",
     "text": [
      "Action,Adventure,Sci-Fi          24\n",
      "Adventure,Animation,Comedy       16\n",
      "Action,Adventure,Fantasy         10\n",
      "Action,Adventure,Comedy           7\n",
      "Action,Adventure,Animation        5\n",
      "Action,Adventure,Thriller         5\n",
      "Action,Crime,Thriller             3\n",
      "Adventure,Fantasy                 2\n",
      "Adventure,Family,Fantasy          2\n",
      "Adventure,Drama,Sci-Fi            2\n",
      "Adventure,Drama,Fantasy           2\n",
      "Action,Adventure,Family           1\n",
      "Drama,Sci-Fi,Thriller             1\n",
      "Horror                            1\n",
      "Drama,Romance,Thriller            1\n",
      "Horror,Thriller                   1\n",
      "Sci-Fi                            1\n",
      "Action,Thriller                   1\n",
      "Adventure,Drama,Sport             1\n",
      "Biography,Drama,Music             1\n",
      "Documentary,Drama,Sport           1\n",
      "Comedy,Mystery                    1\n",
      "Animation,Comedy,Family           1\n",
      "Crime,Drama                       1\n",
      "Biography,Documentary,History     1\n",
      "Family                            1\n",
      "Action,Adventure,Drama            1\n",
      "Fantasy,Romance                   1\n",
      "Name: genres, dtype: int64\n"
     ]
    }
   ],
   "source": [
    "\n",
    "\n",
    "# Merge the two dataframes based on the movie titles\n",
    "merged_df = pd.merge(bom_df_sorted.head(100), imdb_df, left_on='title', right_on='primary_title', how='inner')\n",
    "\n",
    "# Extract the genres column from the merged dataframe\n",
    "top_100_genres = merged_df['genres']\n",
    "\n",
    "# Display the count of each genre\n",
    "genre_counts = top_100_genres.value_counts()\n",
    "print(genre_counts)\n"
   ]
  },
  {
   "cell_type": "code",
   "execution_count": 1776,
   "metadata": {},
   "outputs": [
    {
     "data": {
      "image/png": "[encoded data removed]",
      "text/plain": [
       "<Figure size 720x432 with 1 Axes>"
      ]
     },
     "metadata": {
      "needs_background": "light"
     },
     "output_type": "display_data"
    }
   ],
   "source": [
    "plt.figure(figsize=(10, 6))\n",
    "genre_counts.plot(kind='bar', color='skyblue')\n",
    "plt.title('Genre Counts of Top 100 Movies Based on World Wide Gross')\n",
    "plt.xlabel('Genre')\n",
    "plt.ylabel('Count')\n",
    "plt.xticks(rotation=90, ha='right')\n",
    "plt.tight_layout()\n",
    "plt.show()"
   ]
  },
  {
   "cell_type": "markdown",
   "metadata": {},
   "source": [
    "The graph above shows which combination of genres has the most movies with the highest world wide gross. Now lets check the individual genres."
   ]
  },
  {
   "cell_type": "code",
   "execution_count": 1777,
   "metadata": {},
   "outputs": [
    {
     "data": {
      "image/png": "[encoded data removed]",
      "text/plain": [
       "<Figure size 720x432 with 1 Axes>"
      ]
     },
     "metadata": {
      "needs_background": "light"
     },
     "output_type": "display_data"
    }
   ],
   "source": [
    "\n",
    "\n",
    "# Splitting multi-genre entries and creating a list of individual genres\n",
    "individual_genres = top_100_genres.str.split(',').explode()\n",
    "\n",
    "# Counting the occurrences of each individual genre\n",
    "individual_genre_counts = individual_genres.value_counts()\n",
    "\n",
    "# Plotting the histogram\n",
    "plt.figure(figsize=(10, 6))\n",
    "individual_genre_counts.plot(kind='bar', color='skyblue')\n",
    "plt.title('Individual Genre Counts of Top 100 Movies Based on World Wide Gross')\n",
    "plt.xlabel('Genre')\n",
    "plt.ylabel('Count')\n",
    "plt.xticks(rotation=45, ha='right')\n",
    "plt.tight_layout()\n",
    "plt.show()\n"
   ]
  },
  {
   "cell_type": "markdown",
   "metadata": {},
   "source": [
    "We can do the same thing for movies in the movie budgets database. Since this is a relatively large database we can analyze the genre for the top 500 movies based on  net profit."
   ]
  },
  {
   "cell_type": "code",
   "execution_count": 1778,
   "metadata": {},
   "outputs": [
    {
     "data": {
      "text/html": [
       "<div>\n",
       "<style scoped>\n",
       "    .dataframe tbody tr th:only-of-type {\n",
       "        vertical-align: middle;\n",
       "    }\n",
       "\n",
       "    .dataframe tbody tr th {\n",
       "        vertical-align: top;\n",
       "    }\n",
       "\n",
       "    .dataframe thead th {\n",
       "        text-align: right;\n",
       "    }\n",
       "</style>\n",
       "<table border=\"1\" class=\"dataframe\">\n",
       "  <thead>\n",
       "    <tr style=\"text-align: right;\">\n",
       "      <th></th>\n",
       "      <th>id</th>\n",
       "      <th>synopsis</th>\n",
       "      <th>rating</th>\n",
       "      <th>genre</th>\n",
       "      <th>director</th>\n",
       "      <th>writer</th>\n",
       "      <th>theater_date</th>\n",
       "      <th>dvd_date</th>\n",
       "      <th>currency</th>\n",
       "      <th>box_office</th>\n",
       "      <th>runtime</th>\n",
       "      <th>studio</th>\n",
       "      <th>release_date</th>\n",
       "      <th>movie</th>\n",
       "      <th>production_budget</th>\n",
       "      <th>domestic_gross</th>\n",
       "      <th>worldwide_gross</th>\n",
       "      <th>foreign_gross</th>\n",
       "      <th>net_profit</th>\n",
       "    </tr>\n",
       "  </thead>\n",
       "  <tbody>\n",
       "    <tr>\n",
       "      <th>0</th>\n",
       "      <td>3</td>\n",
       "      <td>New York City, not-too-distant-future: Eric Pa...</td>\n",
       "      <td>R</td>\n",
       "      <td>Drama|Science Fiction and Fantasy</td>\n",
       "      <td>David Cronenberg</td>\n",
       "      <td>David Cronenberg|Don DeLillo</td>\n",
       "      <td>2012-08-17</td>\n",
       "      <td>Jan 1, 2013</td>\n",
       "      <td>$</td>\n",
       "      <td>600000.0</td>\n",
       "      <td>108 minutes</td>\n",
       "      <td>Entertainment One</td>\n",
       "      <td>2019-06-07</td>\n",
       "      <td>Dark Phoenix</td>\n",
       "      <td>350000000.0</td>\n",
       "      <td>42762350.0</td>\n",
       "      <td>149762350.0</td>\n",
       "      <td>107000000.0</td>\n",
       "      <td>-200237650.0</td>\n",
       "    </tr>\n",
       "    <tr>\n",
       "      <th>1</th>\n",
       "      <td>3</td>\n",
       "      <td>New York City, not-too-distant-future: Eric Pa...</td>\n",
       "      <td>R</td>\n",
       "      <td>Drama|Science Fiction and Fantasy</td>\n",
       "      <td>David Cronenberg</td>\n",
       "      <td>David Cronenberg|Don DeLillo</td>\n",
       "      <td>2012-08-17</td>\n",
       "      <td>Jan 1, 2013</td>\n",
       "      <td>$</td>\n",
       "      <td>600000.0</td>\n",
       "      <td>108 minutes</td>\n",
       "      <td>Entertainment One</td>\n",
       "      <td>2018-11-21</td>\n",
       "      <td>Ralph Breaks The Internet</td>\n",
       "      <td>175000000.0</td>\n",
       "      <td>201091711.0</td>\n",
       "      <td>524283695.0</td>\n",
       "      <td>323191984.0</td>\n",
       "      <td>349283695.0</td>\n",
       "    </tr>\n",
       "    <tr>\n",
       "      <th>2</th>\n",
       "      <td>3</td>\n",
       "      <td>New York City, not-too-distant-future: Eric Pa...</td>\n",
       "      <td>R</td>\n",
       "      <td>Drama|Science Fiction and Fantasy</td>\n",
       "      <td>David Cronenberg</td>\n",
       "      <td>David Cronenberg|Don DeLillo</td>\n",
       "      <td>2012-08-17</td>\n",
       "      <td>Jan 1, 2013</td>\n",
       "      <td>$</td>\n",
       "      <td>600000.0</td>\n",
       "      <td>108 minutes</td>\n",
       "      <td>Entertainment One</td>\n",
       "      <td>2018-10-05</td>\n",
       "      <td>Venom</td>\n",
       "      <td>116000000.0</td>\n",
       "      <td>213511408.0</td>\n",
       "      <td>853628605.0</td>\n",
       "      <td>640117197.0</td>\n",
       "      <td>737628605.0</td>\n",
       "    </tr>\n",
       "    <tr>\n",
       "      <th>3</th>\n",
       "      <td>3</td>\n",
       "      <td>New York City, not-too-distant-future: Eric Pa...</td>\n",
       "      <td>R</td>\n",
       "      <td>Drama|Science Fiction and Fantasy</td>\n",
       "      <td>David Cronenberg</td>\n",
       "      <td>David Cronenberg|Don DeLillo</td>\n",
       "      <td>2012-08-17</td>\n",
       "      <td>Jan 1, 2013</td>\n",
       "      <td>$</td>\n",
       "      <td>600000.0</td>\n",
       "      <td>108 minutes</td>\n",
       "      <td>Entertainment One</td>\n",
       "      <td>2015-09-18</td>\n",
       "      <td>Everest</td>\n",
       "      <td>65000000.0</td>\n",
       "      <td>43482270.0</td>\n",
       "      <td>221297061.0</td>\n",
       "      <td>177814791.0</td>\n",
       "      <td>156297061.0</td>\n",
       "    </tr>\n",
       "    <tr>\n",
       "      <th>4</th>\n",
       "      <td>3</td>\n",
       "      <td>New York City, not-too-distant-future: Eric Pa...</td>\n",
       "      <td>R</td>\n",
       "      <td>Drama|Science Fiction and Fantasy</td>\n",
       "      <td>David Cronenberg</td>\n",
       "      <td>David Cronenberg|Don DeLillo</td>\n",
       "      <td>2012-08-17</td>\n",
       "      <td>Jan 1, 2013</td>\n",
       "      <td>$</td>\n",
       "      <td>600000.0</td>\n",
       "      <td>108 minutes</td>\n",
       "      <td>Entertainment One</td>\n",
       "      <td>2015-05-29</td>\n",
       "      <td>Aloha</td>\n",
       "      <td>37000000.0</td>\n",
       "      <td>21052030.0</td>\n",
       "      <td>25387091.0</td>\n",
       "      <td>4335061.0</td>\n",
       "      <td>-11612909.0</td>\n",
       "    </tr>\n",
       "  </tbody>\n",
       "</table>\n",
       "</div>"
      ],
      "text/plain": [
       "   id                                           synopsis rating  \\\n",
       "0   3  New York City, not-too-distant-future: Eric Pa...      R   \n",
       "1   3  New York City, not-too-distant-future: Eric Pa...      R   \n",
       "2   3  New York City, not-too-distant-future: Eric Pa...      R   \n",
       "3   3  New York City, not-too-distant-future: Eric Pa...      R   \n",
       "4   3  New York City, not-too-distant-future: Eric Pa...      R   \n",
       "\n",
       "                               genre          director  \\\n",
       "0  Drama|Science Fiction and Fantasy  David Cronenberg   \n",
       "1  Drama|Science Fiction and Fantasy  David Cronenberg   \n",
       "2  Drama|Science Fiction and Fantasy  David Cronenberg   \n",
       "3  Drama|Science Fiction and Fantasy  David Cronenberg   \n",
       "4  Drama|Science Fiction and Fantasy  David Cronenberg   \n",
       "\n",
       "                         writer theater_date     dvd_date currency  \\\n",
       "0  David Cronenberg|Don DeLillo   2012-08-17  Jan 1, 2013        $   \n",
       "1  David Cronenberg|Don DeLillo   2012-08-17  Jan 1, 2013        $   \n",
       "2  David Cronenberg|Don DeLillo   2012-08-17  Jan 1, 2013        $   \n",
       "3  David Cronenberg|Don DeLillo   2012-08-17  Jan 1, 2013        $   \n",
       "4  David Cronenberg|Don DeLillo   2012-08-17  Jan 1, 2013        $   \n",
       "\n",
       "   box_office      runtime             studio release_date  \\\n",
       "0    600000.0  108 minutes  Entertainment One   2019-06-07   \n",
       "1    600000.0  108 minutes  Entertainment One   2018-11-21   \n",
       "2    600000.0  108 minutes  Entertainment One   2018-10-05   \n",
       "3    600000.0  108 minutes  Entertainment One   2015-09-18   \n",
       "4    600000.0  108 minutes  Entertainment One   2015-05-29   \n",
       "\n",
       "                       movie  production_budget  domestic_gross  \\\n",
       "0               Dark Phoenix        350000000.0      42762350.0   \n",
       "1  Ralph Breaks The Internet        175000000.0     201091711.0   \n",
       "2                      Venom        116000000.0     213511408.0   \n",
       "3                    Everest         65000000.0      43482270.0   \n",
       "4                      Aloha         37000000.0      21052030.0   \n",
       "\n",
       "   worldwide_gross  foreign_gross   net_profit  \n",
       "0      149762350.0    107000000.0 -200237650.0  \n",
       "1      524283695.0    323191984.0  349283695.0  \n",
       "2      853628605.0    640117197.0  737628605.0  \n",
       "3      221297061.0    177814791.0  156297061.0  \n",
       "4       25387091.0      4335061.0  -11612909.0  "
      ]
     },
     "execution_count": 1778,
     "metadata": {},
     "output_type": "execute_result"
    }
   ],
   "source": [
    "Info_Budgets_df = pd.merge(movie_info_df, movie_budgets_df, on='id', how='inner')\n",
    "Info_Budgets_df.head()"
   ]
  },
  {
   "cell_type": "code",
   "execution_count": 1779,
   "metadata": {},
   "outputs": [],
   "source": [
    "Info_Budgets_df.sort_values(by='net_profit', ascending=False,inplace=True)"
   ]
  },
  {
   "cell_type": "code",
   "execution_count": 1780,
   "metadata": {},
   "outputs": [
    {
     "data": {
      "text/html": [
       "<div>\n",
       "<style scoped>\n",
       "    .dataframe tbody tr th:only-of-type {\n",
       "        vertical-align: middle;\n",
       "    }\n",
       "\n",
       "    .dataframe tbody tr th {\n",
       "        vertical-align: top;\n",
       "    }\n",
       "\n",
       "    .dataframe thead th {\n",
       "        text-align: right;\n",
       "    }\n",
       "</style>\n",
       "<table border=\"1\" class=\"dataframe\">\n",
       "  <thead>\n",
       "    <tr style=\"text-align: right;\">\n",
       "      <th></th>\n",
       "      <th>id</th>\n",
       "      <th>synopsis</th>\n",
       "      <th>rating</th>\n",
       "      <th>genre</th>\n",
       "      <th>director</th>\n",
       "      <th>writer</th>\n",
       "      <th>theater_date</th>\n",
       "      <th>dvd_date</th>\n",
       "      <th>currency</th>\n",
       "      <th>box_office</th>\n",
       "      <th>runtime</th>\n",
       "      <th>studio</th>\n",
       "      <th>release_date</th>\n",
       "      <th>movie</th>\n",
       "      <th>production_budget</th>\n",
       "      <th>domestic_gross</th>\n",
       "      <th>worldwide_gross</th>\n",
       "      <th>foreign_gross</th>\n",
       "      <th>net_profit</th>\n",
       "    </tr>\n",
       "  </thead>\n",
       "  <tbody>\n",
       "    <tr>\n",
       "      <th>77</th>\n",
       "      <td>23</td>\n",
       "      <td>A fictional film set in the alluring world of ...</td>\n",
       "      <td>R</td>\n",
       "      <td>Drama</td>\n",
       "      <td>N/A</td>\n",
       "      <td>N/A</td>\n",
       "      <td>2013-12-20</td>\n",
       "      <td>Mar 18, 2014</td>\n",
       "      <td>$</td>\n",
       "      <td>99165609.0</td>\n",
       "      <td>129 minutes</td>\n",
       "      <td>Sony Pictures</td>\n",
       "      <td>2017-04-14</td>\n",
       "      <td>The Fate of the Furious</td>\n",
       "      <td>250000000.0</td>\n",
       "      <td>225764765.0</td>\n",
       "      <td>1.234846e+09</td>\n",
       "      <td>1.009082e+09</td>\n",
       "      <td>984846267.0</td>\n",
       "    </tr>\n",
       "    <tr>\n",
       "      <th>54</th>\n",
       "      <td>22</td>\n",
       "      <td>Two-time Academy Award Winner Kevin Spacey giv...</td>\n",
       "      <td>R</td>\n",
       "      <td>Comedy|Drama|Mystery and Suspense</td>\n",
       "      <td>George Hickenlooper</td>\n",
       "      <td>Norman Snider</td>\n",
       "      <td>2010-12-17</td>\n",
       "      <td>Apr 5, 2011</td>\n",
       "      <td>$</td>\n",
       "      <td>1039869.0</td>\n",
       "      <td>108 minutes</td>\n",
       "      <td>ATO Pictures</td>\n",
       "      <td>2013-07-03</td>\n",
       "      <td>Despicable Me 2</td>\n",
       "      <td>76000000.0</td>\n",
       "      <td>368065385.0</td>\n",
       "      <td>9.752168e+08</td>\n",
       "      <td>6.071514e+08</td>\n",
       "      <td>899216835.0</td>\n",
       "    </tr>\n",
       "    <tr>\n",
       "      <th>122</th>\n",
       "      <td>57</td>\n",
       "      <td>Life doesn't always go according to plan. Pat ...</td>\n",
       "      <td>R</td>\n",
       "      <td>Comedy</td>\n",
       "      <td>N/A</td>\n",
       "      <td>N/A</td>\n",
       "      <td>2012-11-21</td>\n",
       "      <td>Apr 30, 2013</td>\n",
       "      <td>$</td>\n",
       "      <td>132088910.0</td>\n",
       "      <td>122 minutes</td>\n",
       "      <td>The Weinstein Company</td>\n",
       "      <td>2016-03-04</td>\n",
       "      <td>Zootopia</td>\n",
       "      <td>150000000.0</td>\n",
       "      <td>341268248.0</td>\n",
       "      <td>1.019430e+09</td>\n",
       "      <td>6.781614e+08</td>\n",
       "      <td>869429616.0</td>\n",
       "    </tr>\n",
       "    <tr>\n",
       "      <th>27</th>\n",
       "      <td>14</td>\n",
       "      <td>\"Love Ranch\" is a bittersweet love story that ...</td>\n",
       "      <td>R</td>\n",
       "      <td>Drama</td>\n",
       "      <td>Taylor Hackford</td>\n",
       "      <td>Mark Jacobson</td>\n",
       "      <td>2010-06-30</td>\n",
       "      <td>Nov 9, 2010</td>\n",
       "      <td>$</td>\n",
       "      <td>134904.0</td>\n",
       "      <td>117 minutes</td>\n",
       "      <td>N/A</td>\n",
       "      <td>2012-07-13</td>\n",
       "      <td>Ice Age: Continental Drift</td>\n",
       "      <td>95000000.0</td>\n",
       "      <td>161321843.0</td>\n",
       "      <td>8.797651e+08</td>\n",
       "      <td>7.184433e+08</td>\n",
       "      <td>784765137.0</td>\n",
       "    </tr>\n",
       "    <tr>\n",
       "      <th>2</th>\n",
       "      <td>3</td>\n",
       "      <td>New York City, not-too-distant-future: Eric Pa...</td>\n",
       "      <td>R</td>\n",
       "      <td>Drama|Science Fiction and Fantasy</td>\n",
       "      <td>David Cronenberg</td>\n",
       "      <td>David Cronenberg|Don DeLillo</td>\n",
       "      <td>2012-08-17</td>\n",
       "      <td>Jan 1, 2013</td>\n",
       "      <td>$</td>\n",
       "      <td>600000.0</td>\n",
       "      <td>108 minutes</td>\n",
       "      <td>Entertainment One</td>\n",
       "      <td>2018-10-05</td>\n",
       "      <td>Venom</td>\n",
       "      <td>116000000.0</td>\n",
       "      <td>213511408.0</td>\n",
       "      <td>8.536286e+08</td>\n",
       "      <td>6.401172e+08</td>\n",
       "      <td>737628605.0</td>\n",
       "    </tr>\n",
       "  </tbody>\n",
       "</table>\n",
       "</div>"
      ],
      "text/plain": [
       "     id                                           synopsis rating  \\\n",
       "77   23  A fictional film set in the alluring world of ...      R   \n",
       "54   22  Two-time Academy Award Winner Kevin Spacey giv...      R   \n",
       "122  57  Life doesn't always go according to plan. Pat ...      R   \n",
       "27   14  \"Love Ranch\" is a bittersweet love story that ...      R   \n",
       "2     3  New York City, not-too-distant-future: Eric Pa...      R   \n",
       "\n",
       "                                 genre             director  \\\n",
       "77                               Drama                  N/A   \n",
       "54   Comedy|Drama|Mystery and Suspense  George Hickenlooper   \n",
       "122                             Comedy                  N/A   \n",
       "27                               Drama      Taylor Hackford   \n",
       "2    Drama|Science Fiction and Fantasy     David Cronenberg   \n",
       "\n",
       "                           writer theater_date      dvd_date currency  \\\n",
       "77                            N/A   2013-12-20  Mar 18, 2014        $   \n",
       "54                  Norman Snider   2010-12-17   Apr 5, 2011        $   \n",
       "122                           N/A   2012-11-21  Apr 30, 2013        $   \n",
       "27                  Mark Jacobson   2010-06-30   Nov 9, 2010        $   \n",
       "2    David Cronenberg|Don DeLillo   2012-08-17   Jan 1, 2013        $   \n",
       "\n",
       "      box_office      runtime                 studio release_date  \\\n",
       "77    99165609.0  129 minutes          Sony Pictures   2017-04-14   \n",
       "54     1039869.0  108 minutes           ATO Pictures   2013-07-03   \n",
       "122  132088910.0  122 minutes  The Weinstein Company   2016-03-04   \n",
       "27      134904.0  117 minutes                    N/A   2012-07-13   \n",
       "2       600000.0  108 minutes      Entertainment One   2018-10-05   \n",
       "\n",
       "                          movie  production_budget  domestic_gross  \\\n",
       "77      The Fate of the Furious        250000000.0     225764765.0   \n",
       "54              Despicable Me 2         76000000.0     368065385.0   \n",
       "122                    Zootopia        150000000.0     341268248.0   \n",
       "27   Ice Age: Continental Drift         95000000.0     161321843.0   \n",
       "2                         Venom        116000000.0     213511408.0   \n",
       "\n",
       "     worldwide_gross  foreign_gross   net_profit  \n",
       "77      1.234846e+09   1.009082e+09  984846267.0  \n",
       "54      9.752168e+08   6.071514e+08  899216835.0  \n",
       "122     1.019430e+09   6.781614e+08  869429616.0  \n",
       "27      8.797651e+08   7.184433e+08  784765137.0  \n",
       "2       8.536286e+08   6.401172e+08  737628605.0  "
      ]
     },
     "execution_count": 1780,
     "metadata": {},
     "output_type": "execute_result"
    }
   ],
   "source": [
    "Info_Budgets_df.head()"
   ]
  },
  {
   "cell_type": "code",
   "execution_count": 1781,
   "metadata": {},
   "outputs": [
    {
     "name": "stdout",
     "output_type": "stream",
     "text": [
      "Drama                                                            45\n",
      "Comedy|Drama|Mystery and Suspense                                27\n",
      "Action and Adventure|Drama|Science Fiction and Fantasy           25\n",
      "Drama|Sports and Fitness                                         24\n",
      "Drama|Science Fiction and Fantasy                                24\n",
      "Comedy|Drama                                                     23\n",
      "Mystery and Suspense                                             21\n",
      "Comedy                                                           21\n",
      "Action and Adventure|Mystery and Suspense                        16\n",
      "Art House and International|Drama|Musical and Performing Arts    15\n",
      "Name: genre, dtype: int64\n"
     ]
    }
   ],
   "source": [
    "\n",
    "\n",
    "# Extract the top 500 rows\n",
    "top_500 = Info_Budgets_df.head(500)\n",
    "\n",
    "# Calculate the value counts of 'genre' in the top 500\n",
    "genre_counts_top_500 = top_500['genre'].value_counts()\n",
    "\n",
    "# Display the value counts\n",
    "print(genre_counts_top_500)\n"
   ]
  },
  {
   "cell_type": "code",
   "execution_count": 1782,
   "metadata": {},
   "outputs": [
    {
     "data": {
      "image/png": "[encoded data removed]",
      "text/plain": [
       "<Figure size 720x432 with 1 Axes>"
      ]
     },
     "metadata": {
      "needs_background": "light"
     },
     "output_type": "display_data"
    }
   ],
   "source": [
    "plt.figure(figsize=(10, 6))\n",
    "genre_counts_top_500.plot(kind='bar',)\n",
    "plt.title('Genre Counts of Top 500 Movies Based on Net Profit')\n",
    "plt.xlabel('Genre')\n",
    "plt.ylabel('Count')\n",
    "plt.xticks(rotation=90, ha='right')\n",
    "plt.tight_layout()\n",
    "plt.show()"
   ]
  },
  {
   "cell_type": "markdown",
   "metadata": {},
   "source": [
    "We can see that the grouping of genres in the above graph makes it extremely difficult to visualize. Let's split the genres and fix this issue."
   ]
  },
  {
   "cell_type": "code",
   "execution_count": 1783,
   "metadata": {},
   "outputs": [
    {
     "data": {
      "image/png": "[encoded data removed]",
      "text/plain": [
       "<Figure size 720x432 with 1 Axes>"
      ]
     },
     "metadata": {
      "needs_background": "light"
     },
     "output_type": "display_data"
    }
   ],
   "source": [
    "\n",
    "\n",
    "\n",
    "\n",
    "# Converting index to a Series and then splitting multi-genre entries to create a list of individual genres\n",
    "individual_netprofit_genres = pd.Series(genre_counts_top_500.index.str.split('|')).explode()\n",
    "\n",
    "# Counting the occurrences of each individual genre\n",
    "individual_netprofit_genre_counts = individual_netprofit_genres.value_counts()\n",
    "\n",
    "# Plotting the histogram\n",
    "plt.figure(figsize=(10, 6))\n",
    "individual_netprofit_genre_counts.plot(kind='bar', color='skyblue')\n",
    "plt.title('Frequency of Individual Genres in Top 500 Movies')\n",
    "plt.xlabel('Genre')\n",
    "plt.ylabel('Frequency')\n",
    "plt.xticks(rotation=45, ha='right')\n",
    "plt.tight_layout()\n",
    "plt.show()\n"
   ]
  },
  {
   "cell_type": "markdown",
   "metadata": {},
   "source": [
    "We can now clearly see that drama movies generate the greatest net profit. Now lets look at the relationship between production budget and net profit."
   ]
  },
  {
   "cell_type": "code",
   "execution_count": 1784,
   "metadata": {},
   "outputs": [
    {
     "data": {
      "image/png": "[encoded data removed]",
      "text/plain": [
       "<Figure size 720x432 with 1 Axes>"
      ]
     },
     "metadata": {
      "needs_background": "light"
     },
     "output_type": "display_data"
    }
   ],
   "source": [
    "\n",
    "# Extracting 'production_budget' and 'net_profit' columns\n",
    "production_budget = Info_Budgets_df['production_budget']\n",
    "net_profit = Info_Budgets_df['net_profit']\n",
    "\n",
    "# Plotting the scatter plot\n",
    "plt.figure(figsize=(10, 6))\n",
    "plt.scatter(production_budget, net_profit, color='skyblue', alpha=0.7)\n",
    "plt.title('Relationship between Production Budget and Net Profit')\n",
    "plt.xlabel('Production Budget')\n",
    "plt.ylabel('Net Profit')\n",
    "plt.grid(True)\n",
    "plt.tight_layout()\n",
    "plt.show()\n"
   ]
  },
  {
   "cell_type": "code",
   "execution_count": 1785,
   "metadata": {},
   "outputs": [
    {
     "data": {
      "image/png": "[encoded data removed]",
      "text/plain": [
       "<Figure size 720x432 with 1 Axes>"
      ]
     },
     "metadata": {
      "needs_background": "light"
     },
     "output_type": "display_data"
    }
   ],
   "source": [
    "\n",
    "# Extracting 'production_budget' and 'net_profit' columns\n",
    "production_budget = Info_Budgets_df['production_budget']\n",
    "net_profit = Info_Budgets_df['domestic_gross']\n",
    "\n",
    "# Plotting the scatter plot\n",
    "plt.figure(figsize=(10, 6))\n",
    "plt.scatter(production_budget, net_profit, color='skyblue', alpha=0.7)\n",
    "plt.title('Relationship between Production Budget and Domestic Gross')\n",
    "plt.xlabel('Production Budget')\n",
    "plt.ylabel('Domestic Gross')\n",
    "plt.grid(True)\n",
    "plt.tight_layout()\n",
    "plt.show()\n"
   ]
  },
  {
   "cell_type": "code",
   "execution_count": 1786,
   "metadata": {},
   "outputs": [
    {
     "data": {
      "image/png": "[encoded data removed]",
      "text/plain": [
       "<Figure size 720x432 with 1 Axes>"
      ]
     },
     "metadata": {
      "needs_background": "light"
     },
     "output_type": "display_data"
    }
   ],
   "source": [
    "\n",
    "\n",
    "# Extracting 'production_budget' and 'net_profit' columns\n",
    "production_budget = Info_Budgets_df['production_budget']\n",
    "net_profit = Info_Budgets_df['foreign_gross']\n",
    "\n",
    "# Plotting the scatter plot\n",
    "plt.figure(figsize=(10, 6))\n",
    "plt.scatter(production_budget, net_profit, color='skyblue', alpha=0.7)\n",
    "plt.title('Relationship between Production Budget and Foreign Gross')\n",
    "plt.xlabel('Production Budget')\n",
    "plt.ylabel('Foreign Gross')\n",
    "plt.grid(True)\n",
    "plt.tight_layout()\n",
    "plt.show()\n"
   ]
  },
  {
   "cell_type": "markdown",
   "metadata": {},
   "source": [
    "From the above scatter plots we can see that there is a low positive relationship between an increase in production budget and an increase in the foreign gross,domestic,gross and net profit for a movie"
   ]
  },
  {
   "cell_type": "markdown",
   "metadata": {},
   "source": [
    "B) Movies with the best ratings."
   ]
  },
  {
   "cell_type": "code",
   "execution_count": 1787,
   "metadata": {},
   "outputs": [],
   "source": [
    "Info_Budgets_Reviews_df = pd.merge(Info_Budgets_df, reviews_df, on='id', how='inner')"
   ]
  },
  {
   "cell_type": "markdown",
   "metadata": {},
   "source": [
    "There are multiple reviews for a singular movie so the best thing to do is get the average rating for the movies and then analyze the data accordingly"
   ]
  },
  {
   "cell_type": "code",
   "execution_count": 1788,
   "metadata": {},
   "outputs": [],
   "source": [
    "Sorted_Info_Budgets_Reviews_df = Info_Budgets_Reviews_df.sort_values(by='net_profit',ascending=False)"
   ]
  },
  {
   "cell_type": "code",
   "execution_count": 1789,
   "metadata": {},
   "outputs": [
    {
     "data": {
      "text/plain": [
       "17296"
      ]
     },
     "execution_count": 1789,
     "metadata": {},
     "output_type": "execute_result"
    }
   ],
   "source": [
    "len(Sorted_Info_Budgets_Reviews_df)"
   ]
  },
  {
   "cell_type": "code",
   "execution_count": 1790,
   "metadata": {},
   "outputs": [
    {
     "name": "stdout",
     "output_type": "stream",
     "text": [
      "8\n"
     ]
    }
   ],
   "source": [
    "# Grouping the data by 'id' and calculating the mean of 'rating out_of_ten'\n",
    "average_rating_by_id = Sorted_Info_Budgets_Reviews_df.groupby('id')['rating out_of_ten'].mean()\n",
    "\n",
    "# Creating a new DataFrame with 'id' as index and 'rating out_of_ten' as a column\n",
    "average_rating_df = average_rating_by_id.reset_index(name='average_rating')\n",
    "\n",
    "# Displaying the resulting DataFrame\n",
    "print(len(average_rating_df))\n"
   ]
  },
  {
   "cell_type": "code",
   "execution_count": 1791,
   "metadata": {},
   "outputs": [],
   "source": [
    "combined_average_rating_df = pd.merge(average_rating_df,movie_budgets_df,on='id')"
   ]
  },
  {
   "cell_type": "code",
   "execution_count": 1792,
   "metadata": {},
   "outputs": [
    {
     "data": {
      "text/html": [
       "<div>\n",
       "<style scoped>\n",
       "    .dataframe tbody tr th:only-of-type {\n",
       "        vertical-align: middle;\n",
       "    }\n",
       "\n",
       "    .dataframe tbody tr th {\n",
       "        vertical-align: top;\n",
       "    }\n",
       "\n",
       "    .dataframe thead th {\n",
       "        text-align: right;\n",
       "    }\n",
       "</style>\n",
       "<table border=\"1\" class=\"dataframe\">\n",
       "  <thead>\n",
       "    <tr style=\"text-align: right;\">\n",
       "      <th></th>\n",
       "      <th>id</th>\n",
       "      <th>average_rating</th>\n",
       "      <th>release_date</th>\n",
       "      <th>movie</th>\n",
       "      <th>production_budget</th>\n",
       "      <th>domestic_gross</th>\n",
       "      <th>worldwide_gross</th>\n",
       "      <th>foreign_gross</th>\n",
       "      <th>net_profit</th>\n",
       "    </tr>\n",
       "  </thead>\n",
       "  <tbody>\n",
       "    <tr>\n",
       "      <th>50</th>\n",
       "      <td>23</td>\n",
       "      <td>8.093923</td>\n",
       "      <td>2017-04-14</td>\n",
       "      <td>The Fate of the Furious</td>\n",
       "      <td>250000000.0</td>\n",
       "      <td>225764765.0</td>\n",
       "      <td>1.234846e+09</td>\n",
       "      <td>1.009082e+09</td>\n",
       "      <td>984846267.0</td>\n",
       "    </tr>\n",
       "    <tr>\n",
       "      <th>95</th>\n",
       "      <td>57</td>\n",
       "      <td>8.143590</td>\n",
       "      <td>2016-03-04</td>\n",
       "      <td>Zootopia</td>\n",
       "      <td>150000000.0</td>\n",
       "      <td>341268248.0</td>\n",
       "      <td>1.019430e+09</td>\n",
       "      <td>6.781614e+08</td>\n",
       "      <td>869429616.0</td>\n",
       "    </tr>\n",
       "    <tr>\n",
       "      <th>27</th>\n",
       "      <td>14</td>\n",
       "      <td>4.861111</td>\n",
       "      <td>2012-07-13</td>\n",
       "      <td>Ice Age: Continental Drift</td>\n",
       "      <td>95000000.0</td>\n",
       "      <td>161321843.0</td>\n",
       "      <td>8.797651e+08</td>\n",
       "      <td>7.184433e+08</td>\n",
       "      <td>784765137.0</td>\n",
       "    </tr>\n",
       "    <tr>\n",
       "      <th>2</th>\n",
       "      <td>3</td>\n",
       "      <td>6.272124</td>\n",
       "      <td>2018-10-05</td>\n",
       "      <td>Venom</td>\n",
       "      <td>116000000.0</td>\n",
       "      <td>213511408.0</td>\n",
       "      <td>8.536286e+08</td>\n",
       "      <td>6.401172e+08</td>\n",
       "      <td>737628605.0</td>\n",
       "    </tr>\n",
       "    <tr>\n",
       "      <th>71</th>\n",
       "      <td>25</td>\n",
       "      <td>3.936000</td>\n",
       "      <td>2012-11-16</td>\n",
       "      <td>The Twilight Saga: Breaking Dawn, Part 2</td>\n",
       "      <td>136200000.0</td>\n",
       "      <td>292324737.0</td>\n",
       "      <td>8.297247e+08</td>\n",
       "      <td>5.374000e+08</td>\n",
       "      <td>693524737.0</td>\n",
       "    </tr>\n",
       "    <tr>\n",
       "      <th>25</th>\n",
       "      <td>14</td>\n",
       "      <td>4.861111</td>\n",
       "      <td>2014-08-01</td>\n",
       "      <td>Guardians of the Galaxy</td>\n",
       "      <td>170000000.0</td>\n",
       "      <td>333172112.0</td>\n",
       "      <td>7.708675e+08</td>\n",
       "      <td>4.376954e+08</td>\n",
       "      <td>600867516.0</td>\n",
       "    </tr>\n",
       "    <tr>\n",
       "      <th>96</th>\n",
       "      <td>57</td>\n",
       "      <td>8.143590</td>\n",
       "      <td>2011-11-18</td>\n",
       "      <td>The Twilight Saga: Breaking Dawn, Part 1</td>\n",
       "      <td>127500000.0</td>\n",
       "      <td>281287133.0</td>\n",
       "      <td>6.894201e+08</td>\n",
       "      <td>4.081329e+08</td>\n",
       "      <td>561920051.0</td>\n",
       "    </tr>\n",
       "    <tr>\n",
       "      <th>69</th>\n",
       "      <td>25</td>\n",
       "      <td>3.936000</td>\n",
       "      <td>2017-05-26</td>\n",
       "      <td>Pirates of the Caribbean: Dead Men Tell No Tales</td>\n",
       "      <td>230000000.0</td>\n",
       "      <td>172558876.0</td>\n",
       "      <td>7.882411e+08</td>\n",
       "      <td>6.156823e+08</td>\n",
       "      <td>558241137.0</td>\n",
       "    </tr>\n",
       "    <tr>\n",
       "      <th>99</th>\n",
       "      <td>57</td>\n",
       "      <td>8.143590</td>\n",
       "      <td>2014-12-25</td>\n",
       "      <td>American Sniper</td>\n",
       "      <td>58000000.0</td>\n",
       "      <td>350126372.0</td>\n",
       "      <td>5.473264e+08</td>\n",
       "      <td>1.972000e+08</td>\n",
       "      <td>489326372.0</td>\n",
       "    </tr>\n",
       "    <tr>\n",
       "      <th>119</th>\n",
       "      <td>77</td>\n",
       "      <td>5.348311</td>\n",
       "      <td>2018-07-13</td>\n",
       "      <td>Hotel Transylvania 3: Summer Vacation</td>\n",
       "      <td>65000000.0</td>\n",
       "      <td>167500092.0</td>\n",
       "      <td>5.270800e+08</td>\n",
       "      <td>3.595799e+08</td>\n",
       "      <td>462079962.0</td>\n",
       "    </tr>\n",
       "    <tr>\n",
       "      <th>115</th>\n",
       "      <td>77</td>\n",
       "      <td>5.348311</td>\n",
       "      <td>2012-06-22</td>\n",
       "      <td>Brave</td>\n",
       "      <td>185000000.0</td>\n",
       "      <td>237282182.0</td>\n",
       "      <td>5.546065e+08</td>\n",
       "      <td>3.173244e+08</td>\n",
       "      <td>369606532.0</td>\n",
       "    </tr>\n",
       "    <tr>\n",
       "      <th>94</th>\n",
       "      <td>57</td>\n",
       "      <td>8.143590</td>\n",
       "      <td>2011-06-24</td>\n",
       "      <td>Cars 2</td>\n",
       "      <td>200000000.0</td>\n",
       "      <td>191450875.0</td>\n",
       "      <td>5.601554e+08</td>\n",
       "      <td>3.687045e+08</td>\n",
       "      <td>360155383.0</td>\n",
       "    </tr>\n",
       "    <tr>\n",
       "      <th>1</th>\n",
       "      <td>3</td>\n",
       "      <td>6.272124</td>\n",
       "      <td>2018-11-21</td>\n",
       "      <td>Ralph Breaks The Internet</td>\n",
       "      <td>175000000.0</td>\n",
       "      <td>201091711.0</td>\n",
       "      <td>5.242837e+08</td>\n",
       "      <td>3.231920e+08</td>\n",
       "      <td>349283695.0</td>\n",
       "    </tr>\n",
       "    <tr>\n",
       "      <th>122</th>\n",
       "      <td>77</td>\n",
       "      <td>5.348311</td>\n",
       "      <td>2010-06-11</td>\n",
       "      <td>The Karate Kid</td>\n",
       "      <td>40000000.0</td>\n",
       "      <td>176591618.0</td>\n",
       "      <td>3.517749e+08</td>\n",
       "      <td>1.751833e+08</td>\n",
       "      <td>311774938.0</td>\n",
       "    </tr>\n",
       "    <tr>\n",
       "      <th>72</th>\n",
       "      <td>25</td>\n",
       "      <td>3.936000</td>\n",
       "      <td>2017-12-20</td>\n",
       "      <td>The Greatest Showman</td>\n",
       "      <td>84000000.0</td>\n",
       "      <td>174340174.0</td>\n",
       "      <td>3.866656e+08</td>\n",
       "      <td>2.123254e+08</td>\n",
       "      <td>302665550.0</td>\n",
       "    </tr>\n",
       "    <tr>\n",
       "      <th>157</th>\n",
       "      <td>95</td>\n",
       "      <td>6.529412</td>\n",
       "      <td>2017-11-10</td>\n",
       "      <td>Murder on the Orient Express</td>\n",
       "      <td>55000000.0</td>\n",
       "      <td>102826543.0</td>\n",
       "      <td>3.459227e+08</td>\n",
       "      <td>2.430962e+08</td>\n",
       "      <td>290922730.0</td>\n",
       "    </tr>\n",
       "    <tr>\n",
       "      <th>162</th>\n",
       "      <td>95</td>\n",
       "      <td>6.529412</td>\n",
       "      <td>2017-11-17</td>\n",
       "      <td>Wonder</td>\n",
       "      <td>20000000.0</td>\n",
       "      <td>132422809.0</td>\n",
       "      <td>3.046047e+08</td>\n",
       "      <td>1.721819e+08</td>\n",
       "      <td>284604712.0</td>\n",
       "    </tr>\n",
       "    <tr>\n",
       "      <th>118</th>\n",
       "      <td>77</td>\n",
       "      <td>5.348311</td>\n",
       "      <td>2016-05-20</td>\n",
       "      <td>The Angry Birds Movie</td>\n",
       "      <td>73000000.0</td>\n",
       "      <td>107509366.0</td>\n",
       "      <td>3.523279e+08</td>\n",
       "      <td>2.448185e+08</td>\n",
       "      <td>279327887.0</td>\n",
       "    </tr>\n",
       "    <tr>\n",
       "      <th>97</th>\n",
       "      <td>57</td>\n",
       "      <td>8.143590</td>\n",
       "      <td>2013-05-23</td>\n",
       "      <td>The Hangover 3</td>\n",
       "      <td>103000000.0</td>\n",
       "      <td>112200072.0</td>\n",
       "      <td>3.620001e+08</td>\n",
       "      <td>2.498000e+08</td>\n",
       "      <td>259000072.0</td>\n",
       "    </tr>\n",
       "    <tr>\n",
       "      <th>33</th>\n",
       "      <td>14</td>\n",
       "      <td>4.861111</td>\n",
       "      <td>2015-05-15</td>\n",
       "      <td>Pitch Perfect 2</td>\n",
       "      <td>29000000.0</td>\n",
       "      <td>184296230.0</td>\n",
       "      <td>2.876255e+08</td>\n",
       "      <td>1.033292e+08</td>\n",
       "      <td>258625468.0</td>\n",
       "    </tr>\n",
       "  </tbody>\n",
       "</table>\n",
       "</div>"
      ],
      "text/plain": [
       "     id  average_rating release_date  \\\n",
       "50   23        8.093923   2017-04-14   \n",
       "95   57        8.143590   2016-03-04   \n",
       "27   14        4.861111   2012-07-13   \n",
       "2     3        6.272124   2018-10-05   \n",
       "71   25        3.936000   2012-11-16   \n",
       "25   14        4.861111   2014-08-01   \n",
       "96   57        8.143590   2011-11-18   \n",
       "69   25        3.936000   2017-05-26   \n",
       "99   57        8.143590   2014-12-25   \n",
       "119  77        5.348311   2018-07-13   \n",
       "115  77        5.348311   2012-06-22   \n",
       "94   57        8.143590   2011-06-24   \n",
       "1     3        6.272124   2018-11-21   \n",
       "122  77        5.348311   2010-06-11   \n",
       "72   25        3.936000   2017-12-20   \n",
       "157  95        6.529412   2017-11-10   \n",
       "162  95        6.529412   2017-11-17   \n",
       "118  77        5.348311   2016-05-20   \n",
       "97   57        8.143590   2013-05-23   \n",
       "33   14        4.861111   2015-05-15   \n",
       "\n",
       "                                                movie  production_budget  \\\n",
       "50                            The Fate of the Furious        250000000.0   \n",
       "95                                           Zootopia        150000000.0   \n",
       "27                         Ice Age: Continental Drift         95000000.0   \n",
       "2                                               Venom        116000000.0   \n",
       "71           The Twilight Saga: Breaking Dawn, Part 2        136200000.0   \n",
       "25                            Guardians of the Galaxy        170000000.0   \n",
       "96           The Twilight Saga: Breaking Dawn, Part 1        127500000.0   \n",
       "69   Pirates of the Caribbean: Dead Men Tell No Tales        230000000.0   \n",
       "99                                    American Sniper         58000000.0   \n",
       "119             Hotel Transylvania 3: Summer Vacation         65000000.0   \n",
       "115                                             Brave        185000000.0   \n",
       "94                                             Cars 2        200000000.0   \n",
       "1                           Ralph Breaks The Internet        175000000.0   \n",
       "122                                    The Karate Kid         40000000.0   \n",
       "72                               The Greatest Showman         84000000.0   \n",
       "157                      Murder on the Orient Express         55000000.0   \n",
       "162                                            Wonder         20000000.0   \n",
       "118                             The Angry Birds Movie         73000000.0   \n",
       "97                                     The Hangover 3        103000000.0   \n",
       "33                                    Pitch Perfect 2         29000000.0   \n",
       "\n",
       "     domestic_gross  worldwide_gross  foreign_gross   net_profit  \n",
       "50      225764765.0     1.234846e+09   1.009082e+09  984846267.0  \n",
       "95      341268248.0     1.019430e+09   6.781614e+08  869429616.0  \n",
       "27      161321843.0     8.797651e+08   7.184433e+08  784765137.0  \n",
       "2       213511408.0     8.536286e+08   6.401172e+08  737628605.0  \n",
       "71      292324737.0     8.297247e+08   5.374000e+08  693524737.0  \n",
       "25      333172112.0     7.708675e+08   4.376954e+08  600867516.0  \n",
       "96      281287133.0     6.894201e+08   4.081329e+08  561920051.0  \n",
       "69      172558876.0     7.882411e+08   6.156823e+08  558241137.0  \n",
       "99      350126372.0     5.473264e+08   1.972000e+08  489326372.0  \n",
       "119     167500092.0     5.270800e+08   3.595799e+08  462079962.0  \n",
       "115     237282182.0     5.546065e+08   3.173244e+08  369606532.0  \n",
       "94      191450875.0     5.601554e+08   3.687045e+08  360155383.0  \n",
       "1       201091711.0     5.242837e+08   3.231920e+08  349283695.0  \n",
       "122     176591618.0     3.517749e+08   1.751833e+08  311774938.0  \n",
       "72      174340174.0     3.866656e+08   2.123254e+08  302665550.0  \n",
       "157     102826543.0     3.459227e+08   2.430962e+08  290922730.0  \n",
       "162     132422809.0     3.046047e+08   1.721819e+08  284604712.0  \n",
       "118     107509366.0     3.523279e+08   2.448185e+08  279327887.0  \n",
       "97      112200072.0     3.620001e+08   2.498000e+08  259000072.0  \n",
       "33      184296230.0     2.876255e+08   1.033292e+08  258625468.0  "
      ]
     },
     "execution_count": 1792,
     "metadata": {},
     "output_type": "execute_result"
    }
   ],
   "source": [
    "combined_average_rating_df.sort_values(by='net_profit',ascending=False).head(20)"
   ]
  },
  {
   "cell_type": "code",
   "execution_count": 1793,
   "metadata": {},
   "outputs": [
    {
     "data": {
      "image/png": "[encoded data removed]",
      "text/plain": [
       "<Figure size 720x432 with 1 Axes>"
      ]
     },
     "metadata": {
      "needs_background": "light"
     },
     "output_type": "display_data"
    }
   ],
   "source": [
    "\n",
    "net_profit = combined_average_rating_df['net_profit']\n",
    "average_rating = combined_average_rating_df['average_rating']\n",
    "\n",
    "# Plotting the scatter plot\n",
    "plt.figure(figsize=(10, 6))\n",
    "plt.scatter(average_rating, net_profit, color='skyblue', alpha=0.7)\n",
    "plt.title('Relationship between Average Rating and Net Profit')\n",
    "plt.xlabel('Average Rating')\n",
    "plt.ylabel('Net Profit')\n",
    "plt.grid(True)\n",
    "plt.tight_layout()\n",
    "plt.show()\n"
   ]
  },
  {
   "cell_type": "code",
   "execution_count": 1794,
   "metadata": {},
   "outputs": [
    {
     "data": {
      "image/png": "[encoded data removed]",
      "text/plain": [
       "<Figure size 720x432 with 1 Axes>"
      ]
     },
     "metadata": {
      "needs_background": "light"
     },
     "output_type": "display_data"
    }
   ],
   "source": [
    "worldwide_gross = merged_df['worldwide_gross']\n",
    "average_rating = merged_df['averagerating']\n",
    "\n",
    "# Plotting the scatter plot\n",
    "plt.figure(figsize=(10, 6))\n",
    "plt.scatter(average_rating, worldwide_gross, color='skyblue', alpha=0.7)\n",
    "plt.title('Relationship between Average Rating and World Wide Gross')\n",
    "plt.xlabel('Average Rating')\n",
    "plt.ylabel('World Wide Gross')\n",
    "plt.grid(True)\n",
    "plt.tight_layout()\n",
    "plt.show()\n"
   ]
  },
  {
   "cell_type": "markdown",
   "metadata": {},
   "source": [
    "This shows that there is no clear relationship between rating and profit accrued by a movie"
   ]
  },
  {
   "cell_type": "markdown",
   "metadata": {},
   "source": [
    "C) Popularity ,genre and profits"
   ]
  },
  {
   "cell_type": "code",
   "execution_count": 1795,
   "metadata": {},
   "outputs": [],
   "source": [
    "popularity_genres_df = pd.merge(imdb_df,tmdb_df,on='original_title',how='inner')"
   ]
  },
  {
   "cell_type": "code",
   "execution_count": 1796,
   "metadata": {},
   "outputs": [],
   "source": [
    "most_popular_movies = popularity_genres_df.sort_values(by='popularity',ascending=False).head(1000)"
   ]
  },
  {
   "cell_type": "code",
   "execution_count": 1797,
   "metadata": {},
   "outputs": [
    {
     "data": {
      "text/plain": [
       "array(['Action,Adventure,Sci-Fi', 'Action,Crime,Thriller',\n",
       "       'Action,Adventure,Animation', 'Adventure,Fantasy',\n",
       "       'Action,Adventure,Comedy', 'Drama,Mystery,Sci-Fi',\n",
       "       'Adventure,Family,Fantasy', 'Adventure,Animation,Comedy',\n",
       "       'Comedy,Drama,Family', 'Action,Drama,Sci-Fi', 'Thriller',\n",
       "       'Action,Sci-Fi,Thriller', 'Action,Adventure,Fantasy',\n",
       "       'Action,Adventure,Drama', 'Action,Adventure,Thriller',\n",
       "       'Action,Drama', 'N/A', 'Biography,Drama,Music',\n",
       "       'Action,Mystery,Sci-Fi', 'Biography,Comedy,Drama',\n",
       "       'Drama,Music,Romance', 'Comedy,Crime,Drama', 'Crime,Drama,Mystery',\n",
       "       'Crime,Drama,Thriller', 'Adventure,Fantasy,Mystery',\n",
       "       'Biography,Drama,Thriller', 'Biography,Drama',\n",
       "       'Action,Crime,Drama', 'Comedy,Mystery', 'Family,Fantasy,Musical',\n",
       "       'Documentary,Drama,Sport', 'Sci-Fi', 'Drama,Romance',\n",
       "       'Action,Horror,Sci-Fi', 'Horror,Mystery,Thriller',\n",
       "       'Drama,Mystery,Thriller', 'Comedy,Family,Fantasy',\n",
       "       'Action,Thriller', 'Biography,Crime,Drama',\n",
       "       'Adventure,Drama,Fantasy', 'Documentary', 'Drama,Horror,Sci-Fi',\n",
       "       'Action,Drama,War', 'Drama,Family,Fantasy', 'Action,Drama,Fantasy',\n",
       "       'Drama,Music', 'Biography,Drama,History', 'Adventure,Drama,Sci-Fi',\n",
       "       'Comedy,Drama', 'Drama,Sci-Fi,Thriller', 'Drama,Sport',\n",
       "       'Crime,Drama,History', 'Drama,Horror,Mystery',\n",
       "       'Adventure,Drama,Sport', 'Action,Comedy,Crime', 'Horror',\n",
       "       'Action,Drama,Sport', 'Drama', 'Comedy,Romance,Sport',\n",
       "       'Drama,Fantasy', 'Crime', 'Horror,Thriller',\n",
       "       'Action,Adventure,Horror', 'Adventure,Drama,Horror',\n",
       "       'Adventure,Mystery,Sci-Fi', 'Family', 'Crime,Drama',\n",
       "       'Biography,Documentary,History', 'Horror,Sci-Fi,Thriller',\n",
       "       'Adventure,Drama,Family', 'Animation,Comedy,Family',\n",
       "       'Action,Drama,History', 'Comedy', 'Action,Crime,Mystery',\n",
       "       'Action,Fantasy,War', 'Action,Comedy,Sci-Fi',\n",
       "       'Action,Animation,Comedy', 'Drama,Romance,Thriller',\n",
       "       'Fantasy,Musical', 'Biography,Drama,Musical',\n",
       "       'Comedy,Fantasy,Horror', 'Action,Mystery,Thriller',\n",
       "       'Action,Comedy,Thriller', 'Drama,Western', 'Action',\n",
       "       'Crime,Mystery,Thriller', 'Biography,Crime,Documentary',\n",
       "       'Crime,Thriller', 'Comedy,Drama,Romance', 'Comedy,Romance',\n",
       "       'Crime,Horror,Mystery', 'Adventure,Comedy,Family',\n",
       "       'Action,Adventure,Family', 'Animation', 'Drama,Family',\n",
       "       'Drama,Thriller', 'Action,Adventure,Biography', 'Action,Sci-Fi',\n",
       "       'Action,Drama,Romance', 'Biography,Documentary',\n",
       "       'Mystery,Sci-Fi,Thriller', 'Adventure,Comedy,Crime',\n",
       "       'Action,Fantasy,Thriller', 'Action,Adventure,Western',\n",
       "       'Action,Biography,Drama', 'Comedy,Music', 'Comedy,Crime',\n",
       "       'Horror,Mystery', 'Action,Adventure,Crime',\n",
       "       'Action,Drama,Thriller', 'Mystery,Thriller',\n",
       "       'Drama,Horror,Thriller', 'Crime,Horror,Thriller',\n",
       "       'Action,Crime,Sci-Fi', 'Romance', 'Adventure,Family',\n",
       "       'Action,Comedy,Drama', 'Action,Adventure,Mystery',\n",
       "       'Biography,Comedy,Crime', 'Crime,Drama,Horror',\n",
       "       'Drama,Mystery,Romance', 'Adventure,Comedy,Horror',\n",
       "       'Fantasy,Horror,Mystery', 'Comedy,Drama,Musical',\n",
       "       'Action,Biography,Comedy', 'Adventure,Comedy',\n",
       "       'Drama,Horror,Music', 'Drama,Fantasy,Horror',\n",
       "       'Action,Fantasy,Horror', 'Adventure,Crime,Drama',\n",
       "       'Comedy,Drama,Music', 'Action,Drama,Horror',\n",
       "       'Action,Comedy,Fantasy', 'Mystery,Romance,Thriller',\n",
       "       'Drama,Romance,Sci-Fi', 'Adventure,Drama,Western',\n",
       "       'Comedy,Fantasy,Sci-Fi', 'Adventure,Animation',\n",
       "       'Animation,Family,Fantasy', 'Adventure,Comedy,Drama',\n",
       "       'Comedy,Musical,Romance', 'Action,Crime,Fantasy',\n",
       "       'Biography,Drama,Sport', 'Action,Crime', 'Sci-Fi,Thriller',\n",
       "       'Drama,War', 'Adventure,Comedy,Sci-Fi', 'Drama,Mystery',\n",
       "       'Action,Drama,Family', 'Action,Drama,Mystery',\n",
       "       'Drama,History,Thriller', 'Adventure,Biography,Crime',\n",
       "       'Drama,Fantasy,Mystery', 'Documentary,History', 'Comedy,Fantasy',\n",
       "       'Adventure,Drama,Romance', 'Horror,Romance,Thriller',\n",
       "       'Comedy,Crime,Thriller', 'Comedy,Drama,Fantasy',\n",
       "       'Adventure,Animation,Family', 'Comedy,Drama,Mystery',\n",
       "       'Action,Animation,Sci-Fi', 'Comedy,Music,Romance',\n",
       "       'Biography,Drama,Romance', 'Biography,Comedy', 'Comedy,Musical',\n",
       "       'Romance,Sci-Fi,Thriller', 'Drama,Horror', 'Adventure,Horror',\n",
       "       'Drama,History,Romance', 'Drama,Fantasy,Thriller', 'Comedy,Horror',\n",
       "       'Comedy,Horror,Romance', 'Comedy,Fantasy,Romance',\n",
       "       'Fantasy,Horror,Thriller', 'Action,Comedy',\n",
       "       'Action,Biography,Crime', 'Fantasy,Thriller',\n",
       "       'Comedy,Drama,History', 'Drama,Fantasy,Romance', 'Action,History',\n",
       "       'Action,Animation,Horror'], dtype=object)"
      ]
     },
     "execution_count": 1797,
     "metadata": {},
     "output_type": "execute_result"
    }
   ],
   "source": [
    "most_popular_movies['genres'].unique()"
   ]
  },
  {
   "cell_type": "code",
   "execution_count": 1798,
   "metadata": {},
   "outputs": [
    {
     "data": {
      "image/png": "[encoded data removed]",
      "text/plain": [
       "<Figure size 720x432 with 1 Axes>"
      ]
     },
     "metadata": {
      "needs_background": "light"
     },
     "output_type": "display_data"
    }
   ],
   "source": [
    "\n",
    "# Splitting multi-genre entries and creating a list of individual genres\n",
    "individual_genres = most_popular_movies['genres'].str.split(',').explode()\n",
    "\n",
    "# Counting the occurrences of each individual genre\n",
    "genre_counts = individual_genres.value_counts()\n",
    "\n",
    "# Plotting the histogram\n",
    "plt.figure(figsize=(10, 6))\n",
    "genre_counts.plot(kind='bar', color='skyblue')\n",
    "plt.title('Frequency of Individual Genres in Top 1000 Most Popular Movies')\n",
    "plt.xlabel('Genre')\n",
    "plt.ylabel('Frequency')\n",
    "plt.xticks(rotation=45, ha='right')\n",
    "plt.tight_layout()\n",
    "plt.show()\n"
   ]
  }
 ],
 "metadata": {
  "kernelspec": {
   "display_name": "Python 3",
   "language": "python",
   "name": "python3"
  },
  "language_info": {
   "codemirror_mode": {
    "name": "ipython",
    "version": 3
   },
   "file_extension": ".py",
   "mimetype": "text/x-python",
   "name": "python",
   "nbconvert_exporter": "python",
   "pygments_lexer": "ipython3",
   "version": "3.8.5"
  }
 },
 "nbformat": 4,
 "nbformat_minor": 2
}
