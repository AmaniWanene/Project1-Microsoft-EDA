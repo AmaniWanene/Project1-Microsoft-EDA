{
 "cells": [
  {
   "cell_type": "markdown",
   "metadata": {},
   "source": [
    "## Final Project Submission\n",
    "\n",
    "Please fill out:\n",
    "* Student name: Amani Wanene\n",
    "* Student pace:  full time\n",
    "* Scheduled project review date/time: \n",
    "* Instructor name: \n",
    "* Blog post URL:\n"
   ]
  },
  {
   "cell_type": "markdown",
   "metadata": {},
   "source": [
    "1. Import relevant resources"
   ]
  },
  {
   "cell_type": "code",
   "execution_count": 829,
   "metadata": {},
   "outputs": [],
   "source": [
    "# Your code here - remember to use markdown cells for comments as well!\n",
    "import pandas as pd\n",
    "import os\n",
    "import sqlite3\n",
    "import matplotlib.pyplot as plt\n",
    "import numpy as np\n"
   ]
  },
  {
   "cell_type": "markdown",
   "metadata": {},
   "source": [
    "2. Import the datasets."
   ]
  },
  {
   "cell_type": "code",
   "execution_count": 830,
   "metadata": {},
   "outputs": [],
   "source": [
    "bom_df = pd.read_csv('zippedData/bom.movie_gross.csv.gz',encoding = 'latin1')\n",
    "movie_info_df = pd.read_csv('zippedData/rt.movie_info.tsv.gz',delimiter = '\\t')\n",
    "reviews_df = pd.read_csv('zippedData/rt.reviews.tsv.gz',delimiter = '\\t',encoding = 'latin1')\n",
    "tmdb_df = pd.read_csv('zippedData/tmdb.movies.csv.gz')\n",
    "movie_budgets_df = pd.read_csv('zippedData/tn.movie_budgets.csv.gz')\n"
   ]
  },
  {
   "cell_type": "code",
   "execution_count": 831,
   "metadata": {},
   "outputs": [],
   "source": [
    "\n",
    "\n",
    "import zipfile\n",
    "\n",
    "# Extract IMDb SQL .db file\n",
    "with zipfile.ZipFile('./zippedData/im.db.zip') as zipObj:\n",
    "    # Extract all contents of .zip file into current directory\n",
    "    zipObj.extractall(path='./zippedData/')\n",
    "    \n",
    "# Create connection to IMDb DB\n"
   ]
  },
  {
   "cell_type": "code",
   "execution_count": 832,
   "metadata": {},
   "outputs": [],
   "source": [
    "imdb_conn = sqlite3.connect('zippedData/im.db')\n"
   ]
  },
  {
   "cell_type": "code",
   "execution_count": 833,
   "metadata": {},
   "outputs": [],
   "source": [
    "imdb_df = pd.read_sql(\"\"\"SELECT * FROM movie_basics\n",
    " JOIN movie_ratings\n",
    "USING(movie_id)\n",
    "\"\"\",imdb_conn)"
   ]
  },
  {
   "cell_type": "markdown",
   "metadata": {},
   "source": [
    "3.View the datasets"
   ]
  },
  {
   "cell_type": "code",
   "execution_count": 834,
   "metadata": {},
   "outputs": [
    {
     "name": "stdout",
     "output_type": "stream",
     "text": [
      "(3387, 5)\n"
     ]
    },
    {
     "data": {
      "text/plain": [
       "title                0\n",
       "studio               5\n",
       "domestic_gross      28\n",
       "foreign_gross     1350\n",
       "year                 0\n",
       "dtype: int64"
      ]
     },
     "execution_count": 834,
     "metadata": {},
     "output_type": "execute_result"
    }
   ],
   "source": [
    "print(bom_df.shape)\n",
    "bom_df.isna().sum()\n",
    "\n",
    "\n"
   ]
  },
  {
   "cell_type": "code",
   "execution_count": 835,
   "metadata": {},
   "outputs": [
    {
     "name": "stdout",
     "output_type": "stream",
     "text": [
      "(1560, 12)\n"
     ]
    },
    {
     "data": {
      "text/plain": [
       "id                 0\n",
       "synopsis          62\n",
       "rating             3\n",
       "genre              8\n",
       "director         199\n",
       "writer           449\n",
       "theater_date     359\n",
       "dvd_date         359\n",
       "currency        1220\n",
       "box_office      1220\n",
       "runtime           30\n",
       "studio          1066\n",
       "dtype: int64"
      ]
     },
     "execution_count": 835,
     "metadata": {},
     "output_type": "execute_result"
    }
   ],
   "source": [
    "print(movie_info_df.shape)\n",
    "movie_info_df.isna().sum()"
   ]
  },
  {
   "cell_type": "code",
   "execution_count": 836,
   "metadata": {},
   "outputs": [
    {
     "name": "stdout",
     "output_type": "stream",
     "text": [
      "(54432, 8)\n"
     ]
    },
    {
     "data": {
      "text/plain": [
       "id                0\n",
       "review         5563\n",
       "rating        13517\n",
       "fresh             0\n",
       "critic         2722\n",
       "top_critic        0\n",
       "publisher       309\n",
       "date              0\n",
       "dtype: int64"
      ]
     },
     "execution_count": 836,
     "metadata": {},
     "output_type": "execute_result"
    }
   ],
   "source": [
    "print(reviews_df.shape)\n",
    "reviews_df.isna().sum()"
   ]
  },
  {
   "cell_type": "code",
   "execution_count": 837,
   "metadata": {},
   "outputs": [
    {
     "data": {
      "text/plain": [
       "Unnamed: 0           0\n",
       "genre_ids            0\n",
       "id                   0\n",
       "original_language    0\n",
       "original_title       0\n",
       "popularity           0\n",
       "release_date         0\n",
       "title                0\n",
       "vote_average         0\n",
       "vote_count           0\n",
       "dtype: int64"
      ]
     },
     "execution_count": 837,
     "metadata": {},
     "output_type": "execute_result"
    }
   ],
   "source": [
    "tmdb_df.isna().sum()"
   ]
  },
  {
   "cell_type": "code",
   "execution_count": 838,
   "metadata": {},
   "outputs": [
    {
     "data": {
      "text/plain": [
       "id                   0\n",
       "release_date         0\n",
       "movie                0\n",
       "production_budget    0\n",
       "domestic_gross       0\n",
       "worldwide_gross      0\n",
       "dtype: int64"
      ]
     },
     "execution_count": 838,
     "metadata": {},
     "output_type": "execute_result"
    }
   ],
   "source": [
    "movie_budgets_df.isna().sum()"
   ]
  },
  {
   "cell_type": "code",
   "execution_count": 839,
   "metadata": {},
   "outputs": [
    {
     "name": "stdout",
     "output_type": "stream",
     "text": [
      "(73856, 8)\n"
     ]
    },
    {
     "data": {
      "text/plain": [
       "movie_id              0\n",
       "primary_title         0\n",
       "original_title        0\n",
       "start_year            0\n",
       "runtime_minutes    7620\n",
       "genres              804\n",
       "averagerating         0\n",
       "numvotes              0\n",
       "dtype: int64"
      ]
     },
     "execution_count": 839,
     "metadata": {},
     "output_type": "execute_result"
    }
   ],
   "source": [
    "print(imdb_df.shape)\n",
    "imdb_df.isna().sum()"
   ]
  },
  {
   "cell_type": "markdown",
   "metadata": {},
   "source": [
    "4. Clean Data"
   ]
  },
  {
   "cell_type": "markdown",
   "metadata": {},
   "source": [
    "A) bom_df"
   ]
  },
  {
   "cell_type": "code",
   "execution_count": 840,
   "metadata": {},
   "outputs": [
    {
     "name": "stdout",
     "output_type": "stream",
     "text": [
      "Empty DataFrame\n",
      "Columns: [title, studio, domestic_gross, foreign_gross, year]\n",
      "Index: []\n"
     ]
    }
   ],
   "source": [
    "#drop rows with missing domestic_gross\n",
    "bom_df = bom_df.dropna(subset=['domestic_gross'])\n",
    "\n",
    "print(bom_df.loc[bom_df['domestic_gross'].isna()])"
   ]
  },
  {
   "cell_type": "code",
   "execution_count": 841,
   "metadata": {},
   "outputs": [
    {
     "name": "stdout",
     "output_type": "stream",
     "text": [
      "0.40190532896695447\n"
     ]
    }
   ],
   "source": [
    "#check percentage of foreign_gross missing values\n",
    "bom_df['foreign_gross'].isna().sum()\n",
    "missing_values_count = len(bom_df[bom_df['foreign_gross'].isna()])\n",
    "total_rows = len(bom_df)\n",
    "\n",
    "proportion_missing_values = missing_values_count / total_rows\n",
    "print(proportion_missing_values)\n"
   ]
  },
  {
   "cell_type": "code",
   "execution_count": 842,
   "metadata": {},
   "outputs": [
    {
     "name": "stdout",
     "output_type": "stream",
     "text": [
      "<class 'pandas.core.frame.DataFrame'>\n",
      "Int64Index: 3359 entries, 0 to 3386\n",
      "Data columns (total 5 columns):\n",
      " #   Column          Non-Null Count  Dtype  \n",
      "---  ------          --------------  -----  \n",
      " 0   title           3359 non-null   object \n",
      " 1   studio          3356 non-null   object \n",
      " 2   domestic_gross  3359 non-null   float64\n",
      " 3   foreign_gross   2004 non-null   float64\n",
      " 4   year            3359 non-null   int64  \n",
      "dtypes: float64(2), int64(1), object(2)\n",
      "memory usage: 157.5+ KB\n"
     ]
    }
   ],
   "source": [
    "#Change null values to numeric in order to perform mathematical operations on the column.\n",
    "bom_df['foreign_gross'] = pd.to_numeric(bom_df['foreign_gross'], errors='coerce')\n",
    "bom_df.info()\n"
   ]
  },
  {
   "cell_type": "code",
   "execution_count": 843,
   "metadata": {},
   "outputs": [
    {
     "name": "stdout",
     "output_type": "stream",
     "text": [
      "                             title studio  domestic_gross  foreign_gross  year\n",
      "1872  Star Wars: The Force Awakens     BV     936700000.0            NaN  2015\n",
      "3079        Avengers: Infinity War     BV     678800000.0            NaN  2018\n",
      "1873                Jurassic World   Uni.     652300000.0            NaN  2015\n",
      "1874                     Furious 7   Uni.     353000000.0            NaN  2015\n",
      "2760       The Fate of the Furious   Uni.     226000000.0            NaN  2017\n",
      "3160                     Book Club   Par.      68600000.0            NaN  2018\n",
      "1955                      War Room   TriS      67800000.0            NaN  2015\n",
      "2864                All Eyez on Me   LG/S      44900000.0            NaN  2017\n",
      "833                Red Dawn (2012)     FD      44800000.0            NaN  2012\n",
      "2866                47 Meters Down  ENTMP      44300000.0            NaN  2017\n"
     ]
    }
   ],
   "source": [
    "#check the top 10 movies with missing foreign_domestic values\n",
    "missing_foreign_gross_movies = bom_df[bom_df['foreign_gross'].isna()]\n",
    "top_10_movies = missing_foreign_gross_movies.sort_values(by='domestic_gross', ascending=False).head(10)\n",
    "print(top_10_movies)"
   ]
  },
  {
   "cell_type": "code",
   "execution_count": 844,
   "metadata": {},
   "outputs": [
    {
     "data": {
      "text/plain": [
       "title              0\n",
       "studio             0\n",
       "domestic_gross     0\n",
       "foreign_gross     58\n",
       "year               0\n",
       "dtype: int64"
      ]
     },
     "execution_count": 844,
     "metadata": {},
     "output_type": "execute_result"
    }
   ],
   "source": [
    "#filter out movies with domestic gross < $10,000,000\n",
    "filtered_movies = bom_df[bom_df['domestic_gross'] >= 10000000]\n",
    "filtered_movies.isna().sum()"
   ]
  },
  {
   "cell_type": "code",
   "execution_count": 845,
   "metadata": {},
   "outputs": [],
   "source": [
    "bom_df = filtered_movies"
   ]
  },
  {
   "cell_type": "code",
   "execution_count": 846,
   "metadata": {},
   "outputs": [
    {
     "data": {
      "text/html": [
       "<div>\n",
       "<style scoped>\n",
       "    .dataframe tbody tr th:only-of-type {\n",
       "        vertical-align: middle;\n",
       "    }\n",
       "\n",
       "    .dataframe tbody tr th {\n",
       "        vertical-align: top;\n",
       "    }\n",
       "\n",
       "    .dataframe thead th {\n",
       "        text-align: right;\n",
       "    }\n",
       "</style>\n",
       "<table border=\"1\" class=\"dataframe\">\n",
       "  <thead>\n",
       "    <tr style=\"text-align: right;\">\n",
       "      <th></th>\n",
       "      <th>title</th>\n",
       "      <th>studio</th>\n",
       "      <th>domestic_gross</th>\n",
       "      <th>foreign_gross</th>\n",
       "      <th>year</th>\n",
       "      <th>gross_difference</th>\n",
       "    </tr>\n",
       "  </thead>\n",
       "  <tbody>\n",
       "    <tr>\n",
       "      <th>0</th>\n",
       "      <td>Toy Story 3</td>\n",
       "      <td>BV</td>\n",
       "      <td>415000000.0</td>\n",
       "      <td>652000000.0</td>\n",
       "      <td>2010</td>\n",
       "      <td>237000000.0</td>\n",
       "    </tr>\n",
       "    <tr>\n",
       "      <th>1</th>\n",
       "      <td>Alice in Wonderland (2010)</td>\n",
       "      <td>BV</td>\n",
       "      <td>334200000.0</td>\n",
       "      <td>691300000.0</td>\n",
       "      <td>2010</td>\n",
       "      <td>357100000.0</td>\n",
       "    </tr>\n",
       "    <tr>\n",
       "      <th>2</th>\n",
       "      <td>Harry Potter and the Deathly Hallows Part 1</td>\n",
       "      <td>WB</td>\n",
       "      <td>296000000.0</td>\n",
       "      <td>664300000.0</td>\n",
       "      <td>2010</td>\n",
       "      <td>368300000.0</td>\n",
       "    </tr>\n",
       "    <tr>\n",
       "      <th>3</th>\n",
       "      <td>Inception</td>\n",
       "      <td>WB</td>\n",
       "      <td>292600000.0</td>\n",
       "      <td>535700000.0</td>\n",
       "      <td>2010</td>\n",
       "      <td>243100000.0</td>\n",
       "    </tr>\n",
       "    <tr>\n",
       "      <th>4</th>\n",
       "      <td>Shrek Forever After</td>\n",
       "      <td>P/DW</td>\n",
       "      <td>238700000.0</td>\n",
       "      <td>513900000.0</td>\n",
       "      <td>2010</td>\n",
       "      <td>275200000.0</td>\n",
       "    </tr>\n",
       "  </tbody>\n",
       "</table>\n",
       "</div>"
      ],
      "text/plain": [
       "                                         title studio  domestic_gross  \\\n",
       "0                                  Toy Story 3     BV     415000000.0   \n",
       "1                   Alice in Wonderland (2010)     BV     334200000.0   \n",
       "2  Harry Potter and the Deathly Hallows Part 1     WB     296000000.0   \n",
       "3                                    Inception     WB     292600000.0   \n",
       "4                          Shrek Forever After   P/DW     238700000.0   \n",
       "\n",
       "   foreign_gross  year  gross_difference  \n",
       "0    652000000.0  2010       237000000.0  \n",
       "1    691300000.0  2010       357100000.0  \n",
       "2    664300000.0  2010       368300000.0  \n",
       "3    535700000.0  2010       243100000.0  \n",
       "4    513900000.0  2010       275200000.0  "
      ]
     },
     "execution_count": 846,
     "metadata": {},
     "output_type": "execute_result"
    }
   ],
   "source": [
    "bom_df['gross_difference'] = bom_df['foreign_gross'] - bom_df['domestic_gross']\n",
    "bom_df.head()"
   ]
  },
  {
   "cell_type": "code",
   "execution_count": 847,
   "metadata": {},
   "outputs": [],
   "source": [
    "average_difference = bom_df['gross_difference'].mean()\n",
    "bom_df['foreign_gross'] = bom_df['foreign_gross'].fillna(bom_df['domestic_gross'] + average_difference)\n",
    "bom_df = bom_df.drop(columns=['gross_difference'])\n",
    "\n"
   ]
  },
  {
   "cell_type": "code",
   "execution_count": 848,
   "metadata": {},
   "outputs": [
    {
     "name": "stdout",
     "output_type": "stream",
     "text": [
      "<class 'pandas.core.frame.DataFrame'>\n",
      "Int64Index: 1170 entries, 0 to 3226\n",
      "Data columns (total 5 columns):\n",
      " #   Column          Non-Null Count  Dtype  \n",
      "---  ------          --------------  -----  \n",
      " 0   title           1170 non-null   object \n",
      " 1   studio          1170 non-null   object \n",
      " 2   domestic_gross  1170 non-null   float64\n",
      " 3   foreign_gross   1170 non-null   float64\n",
      " 4   year            1170 non-null   int64  \n",
      "dtypes: float64(2), int64(1), object(2)\n",
      "memory usage: 54.8+ KB\n"
     ]
    }
   ],
   "source": [
    "bom_df.info()"
   ]
  },
  {
   "cell_type": "markdown",
   "metadata": {},
   "source": [
    "B) movie_info_df"
   ]
  },
  {
   "cell_type": "code",
   "execution_count": 849,
   "metadata": {},
   "outputs": [
    {
     "name": "stdout",
     "output_type": "stream",
     "text": [
      "<class 'pandas.core.frame.DataFrame'>\n",
      "RangeIndex: 1560 entries, 0 to 1559\n",
      "Data columns (total 12 columns):\n",
      " #   Column        Non-Null Count  Dtype \n",
      "---  ------        --------------  ----- \n",
      " 0   id            1560 non-null   int64 \n",
      " 1   synopsis      1498 non-null   object\n",
      " 2   rating        1557 non-null   object\n",
      " 3   genre         1552 non-null   object\n",
      " 4   director      1361 non-null   object\n",
      " 5   writer        1111 non-null   object\n",
      " 6   theater_date  1201 non-null   object\n",
      " 7   dvd_date      1201 non-null   object\n",
      " 8   currency      340 non-null    object\n",
      " 9   box_office    340 non-null    object\n",
      " 10  runtime       1530 non-null   object\n",
      " 11  studio        494 non-null    object\n",
      "dtypes: int64(1), object(11)\n",
      "memory usage: 146.4+ KB\n"
     ]
    }
   ],
   "source": [
    "movie_info_df.info()"
   ]
  },
  {
   "cell_type": "code",
   "execution_count": 850,
   "metadata": {},
   "outputs": [],
   "source": [
    "#drop columns with many missing values.\n",
    "movie_info_df.drop(columns=['currency','box_office','studio'],inplace=True)\n"
   ]
  },
  {
   "cell_type": "code",
   "execution_count": 851,
   "metadata": {},
   "outputs": [],
   "source": [
    "#fill null values with str'N/A'\n",
    "movie_info_df.fillna('N/A',inplace=True)"
   ]
  },
  {
   "cell_type": "code",
   "execution_count": 852,
   "metadata": {},
   "outputs": [
    {
     "name": "stdout",
     "output_type": "stream",
     "text": [
      "<class 'pandas.core.frame.DataFrame'>\n",
      "RangeIndex: 1560 entries, 0 to 1559\n",
      "Data columns (total 9 columns):\n",
      " #   Column        Non-Null Count  Dtype \n",
      "---  ------        --------------  ----- \n",
      " 0   id            1560 non-null   int64 \n",
      " 1   synopsis      1560 non-null   object\n",
      " 2   rating        1560 non-null   object\n",
      " 3   genre         1560 non-null   object\n",
      " 4   director      1560 non-null   object\n",
      " 5   writer        1560 non-null   object\n",
      " 6   theater_date  1560 non-null   object\n",
      " 7   dvd_date      1560 non-null   object\n",
      " 8   runtime       1560 non-null   object\n",
      "dtypes: int64(1), object(8)\n",
      "memory usage: 109.8+ KB\n"
     ]
    }
   ],
   "source": [
    "movie_info_df.info()"
   ]
  },
  {
   "cell_type": "markdown",
   "metadata": {},
   "source": [
    "C) reviews_df"
   ]
  },
  {
   "cell_type": "code",
   "execution_count": 853,
   "metadata": {},
   "outputs": [
    {
     "name": "stdout",
     "output_type": "stream",
     "text": [
      "<class 'pandas.core.frame.DataFrame'>\n",
      "RangeIndex: 54432 entries, 0 to 54431\n",
      "Data columns (total 8 columns):\n",
      " #   Column      Non-Null Count  Dtype \n",
      "---  ------      --------------  ----- \n",
      " 0   id          54432 non-null  int64 \n",
      " 1   review      48869 non-null  object\n",
      " 2   rating      40915 non-null  object\n",
      " 3   fresh       54432 non-null  object\n",
      " 4   critic      51710 non-null  object\n",
      " 5   top_critic  54432 non-null  int64 \n",
      " 6   publisher   54123 non-null  object\n",
      " 7   date        54432 non-null  object\n",
      "dtypes: int64(2), object(6)\n",
      "memory usage: 3.3+ MB\n"
     ]
    }
   ],
   "source": [
    "reviews_df.info()"
   ]
  },
  {
   "cell_type": "code",
   "execution_count": 854,
   "metadata": {},
   "outputs": [
    {
     "data": {
      "text/plain": [
       "array(['3/5', nan, 'C', '2/5', 'B-', '2/4', 'B', '3/4', '4/5', '4/4',\n",
       "       '6/10', '1/4', '8', '2.5/4', '4/10', '2.0/5', '3/10', '7/10', 'A-',\n",
       "       '5/5', 'F', '3.5/4', 'D+', '1.5/4', '3.5/5', '8/10', 'B+', '9/10',\n",
       "       '2.5/5', '7.5/10', '5.5/10', 'C-', '1.5/5', '1/5', '5/10', 'C+',\n",
       "       '0/5', '6', '0.5/4', 'D', '3.1/5', '3/6', '4.5/5', '0/4', '2/10',\n",
       "       'D-', '7', '1/10', '3', 'A+', 'A', '4.0/4', '9.5/10', '2.5',\n",
       "       '2.1/2', '6.5/10', '3.7/5', '8.4/10', '9', '1', '7.2/10', '2.2/5',\n",
       "       '0.5/10', '5', '0', '2', '4.5', '7.7', '5.0/5', '8.5/10', '3.0/5',\n",
       "       '0.5/5', '1.5/10', '3.0/4', '2.3/10', '4.5/10', '4/6', '3.5',\n",
       "       '8.6/10', '6/8', '2.0/4', '2.7', '4.2/10', '5.8', '4', '7.1/10',\n",
       "       '5/4', 'N', '3.5/10', '5.8/10', 'R', '4.0/5', '0/10', '5.0/10',\n",
       "       '5.9/10', '2.4/5', '1.9/5', '4.9', '7.4/10', '1.5', '2.3/4',\n",
       "       '8.8/10', '4.0/10', '2.2', '3.8/10', '6.8/10', '7.3', '7.0/10',\n",
       "       '3.2', '4.2', '8.4', '5.5/5', '6.3/10', '7.6/10', '8.1/10',\n",
       "       '3.6/5', '2/6', '7.7/10', '1.8', '8.9/10', '8.9', '8.2/10',\n",
       "       '8.3/10', '2.6/6', '4.1/10', '2.5/10', 'F+', '6.0/10', '1.0/4',\n",
       "       '7.9/10', '8.7/10', '4.3/10', '9.6/10', '9.0/10', '4.0', '1.7',\n",
       "       '7.9', '6.7', '8.0/10', '9.2/10', '5.2', '5.9', '3.7', '4.7',\n",
       "       '6.2/10', '1/6', '8.2', '2.6/5', '3.4', '9.7', '3.3/5', '3.8/5',\n",
       "       '1/2', '7.4', '4.8', '1.6/5', '2/2', '1-5', '1.0', '4.3/5', '5/6',\n",
       "       '9.2', '2.7/5', '4.9/10', '3.0', '3.1', '7.8/10', 'F-', '2.3/5',\n",
       "       '3.0/10', '3/2', '7.8', '4.2/5', '9.0', '7.3/10', '4.4/5',\n",
       "       '6.9/10', '0/6', 'T', '6.2', '3.3', '9.8', '8.5', '1.0/5', '4.1',\n",
       "       '7.1', '3 1/2'], dtype=object)"
      ]
     },
     "execution_count": 854,
     "metadata": {},
     "output_type": "execute_result"
    }
   ],
   "source": [
    "reviews_df['rating'].unique()"
   ]
  },
  {
   "cell_type": "markdown",
   "metadata": {},
   "source": [
    "ratings seem to have different values I need to make all the ratings out of 10 for valid analysis to be performed"
   ]
  },
  {
   "cell_type": "code",
   "execution_count": 855,
   "metadata": {},
   "outputs": [],
   "source": [
    "\n",
    "def convert_to_10(rating):\n",
    "     # Ensure input is a string\n",
    "    grade_mapping = {'A+': 10, 'A': 9.5, 'A-': 9, 'B+': 8.5, 'B': 8, 'B-': 7.5, 'C+': 7, 'C': 6.5, 'C-': 6, 'D+': 5.5, 'D': 5,'D-': 4.5, 'F+':2.5,'F': 2,'F-': 1.5}\n",
    "    \n",
    "    if rating in grade_mapping:\n",
    "        return grade_mapping[rating]\n",
    "    else:\n",
    "        return rating\n",
    "    \n",
    "\n",
    "\n",
    "             "
   ]
  },
  {
   "cell_type": "code",
   "execution_count": 856,
   "metadata": {},
   "outputs": [
    {
     "data": {
      "text/plain": [
       "array(['3/5', nan, 6.5, '2/5', 7.5, '2/4', 8, '3/4', '4/5', '4/4', '6/10',\n",
       "       '1/4', '8', '2.5/4', '4/10', '2.0/5', '3/10', '7/10', 9, '5/5', 2,\n",
       "       '3.5/4', 5.5, '1.5/4', '3.5/5', '8/10', 8.5, '9/10', '2.5/5',\n",
       "       '7.5/10', '5.5/10', 6, '1.5/5', '1/5', '5/10', 7, '0/5', '6',\n",
       "       '0.5/4', 5, '3.1/5', '3/6', '4.5/5', '0/4', '2/10', 4.5, '7',\n",
       "       '1/10', '3', 10, 9.5, '4.0/4', '9.5/10', '2.5', '2.1/2', '6.5/10',\n",
       "       '3.7/5', '8.4/10', '9', '1', '7.2/10', '2.2/5', '0.5/10', '5', '0',\n",
       "       '2', '4.5', '7.7', '5.0/5', '8.5/10', '3.0/5', '0.5/5', '1.5/10',\n",
       "       '3.0/4', '2.3/10', '4.5/10', '4/6', '3.5', '8.6/10', '6/8',\n",
       "       '2.0/4', '2.7', '4.2/10', '5.8', '4', '7.1/10', '5/4', 'N',\n",
       "       '3.5/10', '5.8/10', 'R', '4.0/5', '0/10', '5.0/10', '5.9/10',\n",
       "       '2.4/5', '1.9/5', '4.9', '7.4/10', '1.5', '2.3/4', '8.8/10',\n",
       "       '4.0/10', '2.2', '3.8/10', '6.8/10', '7.3', '7.0/10', '3.2', '4.2',\n",
       "       '8.4', '5.5/5', '6.3/10', '7.6/10', '8.1/10', '3.6/5', '2/6',\n",
       "       '7.7/10', '1.8', '8.9/10', '8.9', '8.2/10', '8.3/10', '2.6/6',\n",
       "       '4.1/10', '2.5/10', 2.5, '6.0/10', '1.0/4', '7.9/10', '8.7/10',\n",
       "       '4.3/10', '9.6/10', '9.0/10', '4.0', '1.7', '7.9', '6.7', '8.0/10',\n",
       "       '9.2/10', '5.2', '5.9', '3.7', '4.7', '6.2/10', '1/6', '8.2',\n",
       "       '2.6/5', '3.4', '9.7', '3.3/5', '3.8/5', '1/2', '7.4', '4.8',\n",
       "       '1.6/5', '2/2', '1-5', '1.0', '4.3/5', '5/6', '9.2', '2.7/5',\n",
       "       '4.9/10', '3.0', '3.1', '7.8/10', 1.5, '2.3/5', '3.0/10', '3/2',\n",
       "       '7.8', '4.2/5', '9.0', '7.3/10', '4.4/5', '6.9/10', '0/6', 'T',\n",
       "       '6.2', '3.3', '9.8', '8.5', '1.0/5', '4.1', '7.1', '3 1/2'],\n",
       "      dtype=object)"
      ]
     },
     "execution_count": 856,
     "metadata": {},
     "output_type": "execute_result"
    }
   ],
   "source": [
    "reviews_df['rating out_of_ten'] =  reviews_df['rating'].apply(convert_to_10)\n",
    "reviews_df['rating out_of_ten'].unique()\n"
   ]
  },
  {
   "cell_type": "code",
   "execution_count": 857,
   "metadata": {},
   "outputs": [
    {
     "name": "stdout",
     "output_type": "stream",
     "text": [
      "3/6: 5.0\n",
      "3.8/5: 7.6\n",
      "1-5: None\n",
      "7: 7.0\n",
      "N: None\n",
      "9.8: 9.8\n",
      "R: None\n",
      "T: None\n",
      "None: None\n",
      "6/10: 6.0\n",
      "0.7: 0.7\n",
      "3 1/2: None\n",
      "4.0/4: 10.0\n",
      "2.1/2: 10.5\n"
     ]
    }
   ],
   "source": [
    "def normalize_rating(rating):\n",
    "    if rating is None or rating == 'N' or rating == 'R' or rating == 'T':\n",
    "        return None  # Return None for special cases\n",
    "    \n",
    "    if '/' in str(rating):\n",
    "        parts = rating.split('/')\n",
    "        if ' ' in parts[0]:\n",
    "            return None  # Treat irregular ratings like '3 1/2' as null\n",
    "        numerator = float(parts[0])\n",
    "        denominator = float(parts[1])\n",
    "        return (numerator / denominator) * 10  # Normalize to be out of ten\n",
    "    \n",
    "    if '-' in str(rating):\n",
    "        return None  # Treat irregular ratings like '1-5' as null\n",
    "    \n",
    "    return float(rating)  # For other cases, simply convert to float\n",
    "\n",
    "# Test the function\n",
    "ratings = ['3/6', '3.8/5', '1-5', '7', 'N', '9.8', 'R', 'T', None, '6/10', 0.7, '3 1/2','4.0/4','2.1/2']\n",
    "for rating in ratings:\n",
    "    normalized = normalize_rating(rating)\n",
    "    print(f\"{rating}: {normalized}\")\n"
   ]
  },
  {
   "cell_type": "code",
   "execution_count": 858,
   "metadata": {},
   "outputs": [],
   "source": [
    "reviews_df['rating out_of_ten'] = reviews_df['rating out_of_ten'].apply(normalize_rating)"
   ]
  },
  {
   "cell_type": "code",
   "execution_count": 859,
   "metadata": {},
   "outputs": [
    {
     "data": {
      "text/plain": [
       "array([ 6.        ,         nan,  6.5       ,  4.        ,  7.5       ,\n",
       "        5.        ,  8.        , 10.        ,  2.5       ,  6.25      ,\n",
       "        3.        ,  7.        ,  9.        ,  2.        ,  8.75      ,\n",
       "        5.5       ,  3.75      ,  8.5       ,  0.        ,  1.25      ,\n",
       "        6.2       ,  4.5       ,  1.        ,  9.5       , 10.5       ,\n",
       "        7.4       ,  8.4       ,  7.2       ,  4.4       ,  0.5       ,\n",
       "        7.7       ,  1.5       ,  2.3       ,  6.66666667,  3.5       ,\n",
       "        8.6       ,  2.7       ,  4.2       ,  5.8       ,  7.1       ,\n",
       "       12.5       ,  5.9       ,  4.8       ,  3.8       ,  4.9       ,\n",
       "        5.75      ,  8.8       ,  2.2       ,  6.8       ,  7.3       ,\n",
       "        3.2       , 11.        ,  6.3       ,  7.6       ,  8.1       ,\n",
       "        3.33333333,  1.8       ,  8.9       ,  8.2       ,  8.3       ,\n",
       "        4.33333333,  4.1       ,  7.9       ,  8.7       ,  4.3       ,\n",
       "        9.6       ,  1.7       ,  6.7       ,  9.2       ,  5.2       ,\n",
       "        3.7       ,  4.7       ,  1.66666667,  3.4       ,  9.7       ,\n",
       "        6.6       ,  8.33333333,  5.4       ,  3.1       ,  7.8       ,\n",
       "        4.6       , 15.        ,  7.8       ,  6.9       ,  3.3       ,\n",
       "        9.8       ])"
      ]
     },
     "execution_count": 859,
     "metadata": {},
     "output_type": "execute_result"
    }
   ],
   "source": [
    "reviews_df['rating out_of_ten'].unique()"
   ]
  },
  {
   "cell_type": "code",
   "execution_count": 860,
   "metadata": {},
   "outputs": [],
   "source": [
    "reviews_df.dropna(subset = ['rating out_of_ten'],inplace=True)"
   ]
  },
  {
   "cell_type": "code",
   "execution_count": 861,
   "metadata": {},
   "outputs": [
    {
     "name": "stdout",
     "output_type": "stream",
     "text": [
      "<class 'pandas.core.frame.DataFrame'>\n",
      "Int64Index: 40905 entries, 0 to 54431\n",
      "Data columns (total 9 columns):\n",
      " #   Column             Non-Null Count  Dtype  \n",
      "---  ------             --------------  -----  \n",
      " 0   id                 40905 non-null  int64  \n",
      " 1   review             35369 non-null  object \n",
      " 2   rating             40905 non-null  object \n",
      " 3   fresh              40905 non-null  object \n",
      " 4   critic             38925 non-null  object \n",
      " 5   top_critic         40905 non-null  int64  \n",
      " 6   publisher          40685 non-null  object \n",
      " 7   date               40905 non-null  object \n",
      " 8   rating out_of_ten  40905 non-null  float64\n",
      "dtypes: float64(1), int64(2), object(6)\n",
      "memory usage: 3.1+ MB\n"
     ]
    }
   ],
   "source": [
    "reviews_df.info()"
   ]
  },
  {
   "cell_type": "code",
   "execution_count": 862,
   "metadata": {},
   "outputs": [],
   "source": [
    "reviews_df.fillna('N/A',inplace=True)"
   ]
  },
  {
   "cell_type": "code",
   "execution_count": 863,
   "metadata": {},
   "outputs": [
    {
     "name": "stdout",
     "output_type": "stream",
     "text": [
      "<class 'pandas.core.frame.DataFrame'>\n",
      "Int64Index: 40905 entries, 0 to 54431\n",
      "Data columns (total 9 columns):\n",
      " #   Column             Non-Null Count  Dtype  \n",
      "---  ------             --------------  -----  \n",
      " 0   id                 40905 non-null  int64  \n",
      " 1   review             40905 non-null  object \n",
      " 2   rating             40905 non-null  object \n",
      " 3   fresh              40905 non-null  object \n",
      " 4   critic             40905 non-null  object \n",
      " 5   top_critic         40905 non-null  int64  \n",
      " 6   publisher          40905 non-null  object \n",
      " 7   date               40905 non-null  object \n",
      " 8   rating out_of_ten  40905 non-null  float64\n",
      "dtypes: float64(1), int64(2), object(6)\n",
      "memory usage: 3.1+ MB\n"
     ]
    }
   ],
   "source": [
    "reviews_df.info()"
   ]
  },
  {
   "cell_type": "markdown",
   "metadata": {},
   "source": [
    "D) imdb_df"
   ]
  },
  {
   "cell_type": "code",
   "execution_count": 864,
   "metadata": {},
   "outputs": [
    {
     "name": "stdout",
     "output_type": "stream",
     "text": [
      "<class 'pandas.core.frame.DataFrame'>\n",
      "RangeIndex: 73856 entries, 0 to 73855\n",
      "Data columns (total 8 columns):\n",
      " #   Column           Non-Null Count  Dtype  \n",
      "---  ------           --------------  -----  \n",
      " 0   movie_id         73856 non-null  object \n",
      " 1   primary_title    73856 non-null  object \n",
      " 2   original_title   73856 non-null  object \n",
      " 3   start_year       73856 non-null  int64  \n",
      " 4   runtime_minutes  66236 non-null  float64\n",
      " 5   genres           73052 non-null  object \n",
      " 6   averagerating    73856 non-null  float64\n",
      " 7   numvotes         73856 non-null  int64  \n",
      "dtypes: float64(2), int64(2), object(4)\n",
      "memory usage: 4.5+ MB\n"
     ]
    }
   ],
   "source": [
    "imdb_df.info()"
   ]
  },
  {
   "cell_type": "code",
   "execution_count": 865,
   "metadata": {},
   "outputs": [],
   "source": [
    "imdb_df['genres'].fillna('N/A',inplace=True)"
   ]
  },
  {
   "cell_type": "code",
   "execution_count": 866,
   "metadata": {},
   "outputs": [
    {
     "name": "stdout",
     "output_type": "stream",
     "text": [
      "<class 'pandas.core.frame.DataFrame'>\n",
      "RangeIndex: 73856 entries, 0 to 73855\n",
      "Data columns (total 8 columns):\n",
      " #   Column           Non-Null Count  Dtype  \n",
      "---  ------           --------------  -----  \n",
      " 0   movie_id         73856 non-null  object \n",
      " 1   primary_title    73856 non-null  object \n",
      " 2   original_title   73856 non-null  object \n",
      " 3   start_year       73856 non-null  int64  \n",
      " 4   runtime_minutes  66236 non-null  float64\n",
      " 5   genres           73856 non-null  object \n",
      " 6   averagerating    73856 non-null  float64\n",
      " 7   numvotes         73856 non-null  int64  \n",
      "dtypes: float64(2), int64(2), object(4)\n",
      "memory usage: 4.5+ MB\n"
     ]
    }
   ],
   "source": [
    "imdb_df.info()"
   ]
  },
  {
   "cell_type": "markdown",
   "metadata": {},
   "source": [
    "DATA ANALYSIS AND VISUALIZATION"
   ]
  },
  {
   "cell_type": "markdown",
   "metadata": {},
   "source": [
    "A) Identify Movies with highest gross"
   ]
  },
  {
   "cell_type": "code",
   "execution_count": 867,
   "metadata": {},
   "outputs": [
    {
     "name": "stdout",
     "output_type": "stream",
     "text": [
      "<class 'pandas.core.frame.DataFrame'>\n",
      "Int64Index: 1170 entries, 0 to 3226\n",
      "Data columns (total 5 columns):\n",
      " #   Column          Non-Null Count  Dtype  \n",
      "---  ------          --------------  -----  \n",
      " 0   title           1170 non-null   object \n",
      " 1   studio          1170 non-null   object \n",
      " 2   domestic_gross  1170 non-null   float64\n",
      " 3   foreign_gross   1170 non-null   float64\n",
      " 4   year            1170 non-null   int64  \n",
      "dtypes: float64(2), int64(1), object(2)\n",
      "memory usage: 54.8+ KB\n"
     ]
    }
   ],
   "source": [
    "bom_df.info()"
   ]
  },
  {
   "cell_type": "code",
   "execution_count": 868,
   "metadata": {},
   "outputs": [
    {
     "data": {
      "text/html": [
       "<div>\n",
       "<style scoped>\n",
       "    .dataframe tbody tr th:only-of-type {\n",
       "        vertical-align: middle;\n",
       "    }\n",
       "\n",
       "    .dataframe tbody tr th {\n",
       "        vertical-align: top;\n",
       "    }\n",
       "\n",
       "    .dataframe thead th {\n",
       "        text-align: right;\n",
       "    }\n",
       "</style>\n",
       "<table border=\"1\" class=\"dataframe\">\n",
       "  <thead>\n",
       "    <tr style=\"text-align: right;\">\n",
       "      <th></th>\n",
       "      <th>title</th>\n",
       "      <th>studio</th>\n",
       "      <th>domestic_gross</th>\n",
       "      <th>foreign_gross</th>\n",
       "      <th>year</th>\n",
       "    </tr>\n",
       "  </thead>\n",
       "  <tbody>\n",
       "    <tr>\n",
       "      <th>3210</th>\n",
       "      <td>Free Solo</td>\n",
       "      <td>NGE</td>\n",
       "      <td>17500000.0</td>\n",
       "      <td>5.813447e+07</td>\n",
       "      <td>2018</td>\n",
       "    </tr>\n",
       "    <tr>\n",
       "      <th>3213</th>\n",
       "      <td>Hunter Killer</td>\n",
       "      <td>LG/S</td>\n",
       "      <td>15800000.0</td>\n",
       "      <td>5.643447e+07</td>\n",
       "      <td>2018</td>\n",
       "    </tr>\n",
       "    <tr>\n",
       "      <th>3216</th>\n",
       "      <td>Upgrade</td>\n",
       "      <td>BH Tilt</td>\n",
       "      <td>12000000.0</td>\n",
       "      <td>2.400000e+06</td>\n",
       "      <td>2018</td>\n",
       "    </tr>\n",
       "    <tr>\n",
       "      <th>3219</th>\n",
       "      <td>Welcome to Marwen</td>\n",
       "      <td>Uni.</td>\n",
       "      <td>10800000.0</td>\n",
       "      <td>2.100000e+06</td>\n",
       "      <td>2018</td>\n",
       "    </tr>\n",
       "    <tr>\n",
       "      <th>3226</th>\n",
       "      <td>The Old Man &amp; the Gun</td>\n",
       "      <td>FoxS</td>\n",
       "      <td>11300000.0</td>\n",
       "      <td>5.193447e+07</td>\n",
       "      <td>2018</td>\n",
       "    </tr>\n",
       "  </tbody>\n",
       "</table>\n",
       "</div>"
      ],
      "text/plain": [
       "                      title   studio  domestic_gross  foreign_gross  year\n",
       "3210              Free Solo      NGE      17500000.0   5.813447e+07  2018\n",
       "3213          Hunter Killer     LG/S      15800000.0   5.643447e+07  2018\n",
       "3216                Upgrade  BH Tilt      12000000.0   2.400000e+06  2018\n",
       "3219      Welcome to Marwen     Uni.      10800000.0   2.100000e+06  2018\n",
       "3226  The Old Man & the Gun     FoxS      11300000.0   5.193447e+07  2018"
      ]
     },
     "execution_count": 868,
     "metadata": {},
     "output_type": "execute_result"
    }
   ],
   "source": [
    "bom_df.tail()"
   ]
  },
  {
   "cell_type": "code",
   "execution_count": 869,
   "metadata": {},
   "outputs": [],
   "source": [
    "bom_df['worldwide_gross'] = bom_df['domestic_gross'] + bom_df['foreign_gross']"
   ]
  },
  {
   "cell_type": "code",
   "execution_count": 870,
   "metadata": {},
   "outputs": [],
   "source": [
    "bom_df_sorted = bom_df.sort_values(by='worldwide_gross', ascending=False)"
   ]
  },
  {
   "cell_type": "code",
   "execution_count": 871,
   "metadata": {},
   "outputs": [
    {
     "data": {
      "image/png": "[encoded data removed]",
      "text/plain": [
       "<Figure size 720x432 with 1 Axes>"
      ]
     },
     "metadata": {
      "needs_background": "light"
     },
     "output_type": "display_data"
    }
   ],
   "source": [
    "\n",
    "# Extract movie titles and worldwide gross\n",
    "movie_titles = bom_df_sorted['title'].head(20)\n",
    "worldwide_gross = bom_df_sorted['worldwide_gross'].head(20)\n",
    "\n",
    "# Plot the bar chart\n",
    "plt.figure(figsize=(10, 6))  # Set the figure size\n",
    "plt.bar(movie_titles, worldwide_gross)\n",
    "\n",
    "\n",
    "plt.xticks(rotation=90)\n",
    "\n",
    "# Add labels and title\n",
    "plt.xlabel('Movie Title')\n",
    "plt.ylabel('Worldwide Gross')\n",
    "plt.title('Worldwide Gross for Top 20 Movies')\n",
    "\n",
    "# Show the plot\n",
    "plt.tight_layout()  # Adjust layout to prevent clipping of labels\n",
    "plt.show()\n"
   ]
  },
  {
   "cell_type": "code",
   "execution_count": 872,
   "metadata": {},
   "outputs": [
    {
     "data": {
      "text/html": [
       "<div>\n",
       "<style scoped>\n",
       "    .dataframe tbody tr th:only-of-type {\n",
       "        vertical-align: middle;\n",
       "    }\n",
       "\n",
       "    .dataframe tbody tr th {\n",
       "        vertical-align: top;\n",
       "    }\n",
       "\n",
       "    .dataframe thead th {\n",
       "        text-align: right;\n",
       "    }\n",
       "</style>\n",
       "<table border=\"1\" class=\"dataframe\">\n",
       "  <thead>\n",
       "    <tr style=\"text-align: right;\">\n",
       "      <th></th>\n",
       "      <th>id</th>\n",
       "      <th>release_date</th>\n",
       "      <th>movie</th>\n",
       "      <th>production_budget</th>\n",
       "      <th>domestic_gross</th>\n",
       "      <th>worldwide_gross</th>\n",
       "    </tr>\n",
       "  </thead>\n",
       "  <tbody>\n",
       "    <tr>\n",
       "      <th>5777</th>\n",
       "      <td>78</td>\n",
       "      <td>Dec 31, 2018</td>\n",
       "      <td>Red 11</td>\n",
       "      <td>$7,000</td>\n",
       "      <td>$0</td>\n",
       "      <td>$0</td>\n",
       "    </tr>\n",
       "    <tr>\n",
       "      <th>5778</th>\n",
       "      <td>79</td>\n",
       "      <td>Apr 2, 1999</td>\n",
       "      <td>Following</td>\n",
       "      <td>$6,000</td>\n",
       "      <td>$48,482</td>\n",
       "      <td>$240,495</td>\n",
       "    </tr>\n",
       "    <tr>\n",
       "      <th>5779</th>\n",
       "      <td>80</td>\n",
       "      <td>Jul 13, 2005</td>\n",
       "      <td>Return to the Land of Wonders</td>\n",
       "      <td>$5,000</td>\n",
       "      <td>$1,338</td>\n",
       "      <td>$1,338</td>\n",
       "    </tr>\n",
       "    <tr>\n",
       "      <th>5780</th>\n",
       "      <td>81</td>\n",
       "      <td>Sep 29, 2015</td>\n",
       "      <td>A Plague So Pleasant</td>\n",
       "      <td>$1,400</td>\n",
       "      <td>$0</td>\n",
       "      <td>$0</td>\n",
       "    </tr>\n",
       "    <tr>\n",
       "      <th>5781</th>\n",
       "      <td>82</td>\n",
       "      <td>Aug 5, 2005</td>\n",
       "      <td>My Date With Drew</td>\n",
       "      <td>$1,100</td>\n",
       "      <td>$181,041</td>\n",
       "      <td>$181,041</td>\n",
       "    </tr>\n",
       "  </tbody>\n",
       "</table>\n",
       "</div>"
      ],
      "text/plain": [
       "      id  release_date                          movie production_budget  \\\n",
       "5777  78  Dec 31, 2018                         Red 11            $7,000   \n",
       "5778  79   Apr 2, 1999                      Following            $6,000   \n",
       "5779  80  Jul 13, 2005  Return to the Land of Wonders            $5,000   \n",
       "5780  81  Sep 29, 2015           A Plague So Pleasant            $1,400   \n",
       "5781  82   Aug 5, 2005              My Date With Drew            $1,100   \n",
       "\n",
       "     domestic_gross worldwide_gross  \n",
       "5777             $0              $0  \n",
       "5778        $48,482        $240,495  \n",
       "5779         $1,338          $1,338  \n",
       "5780             $0              $0  \n",
       "5781       $181,041        $181,041  "
      ]
     },
     "execution_count": 872,
     "metadata": {},
     "output_type": "execute_result"
    }
   ],
   "source": [
    "movie_budgets_df.tail()"
   ]
  },
  {
   "cell_type": "code",
   "execution_count": 873,
   "metadata": {},
   "outputs": [
    {
     "name": "stdout",
     "output_type": "stream",
     "text": [
      "<class 'pandas.core.frame.DataFrame'>\n",
      "RangeIndex: 5782 entries, 0 to 5781\n",
      "Data columns (total 6 columns):\n",
      " #   Column             Non-Null Count  Dtype  \n",
      "---  ------             --------------  -----  \n",
      " 0   id                 5782 non-null   int64  \n",
      " 1   release_date       5782 non-null   object \n",
      " 2   movie              5782 non-null   object \n",
      " 3   production_budget  5782 non-null   float64\n",
      " 4   domestic_gross     5782 non-null   float64\n",
      " 5   worldwide_gross    5782 non-null   float64\n",
      "dtypes: float64(3), int64(1), object(2)\n",
      "memory usage: 271.2+ KB\n"
     ]
    }
   ],
   "source": [
    "\n",
    "# Remove the dollar sign ($) and commas from the specified columns\n",
    "movie_budgets_df['production_budget'] = movie_budgets_df['production_budget'].str.replace('[$,]', '').astype(float)\n",
    "movie_budgets_df['domestic_gross'] = movie_budgets_df['domestic_gross'].str.replace('[$,]', '').astype(float)\n",
    "movie_budgets_df['worldwide_gross'] = movie_budgets_df['worldwide_gross'].str.replace('[$,]', '').astype(float)\n",
    "\n",
    "\n",
    "\n",
    "movie_budgets_df.info()\n",
    "\n",
    " "
   ]
  },
  {
   "cell_type": "code",
   "execution_count": 874,
   "metadata": {},
   "outputs": [
    {
     "data": {
      "text/html": [
       "<div>\n",
       "<style scoped>\n",
       "    .dataframe tbody tr th:only-of-type {\n",
       "        vertical-align: middle;\n",
       "    }\n",
       "\n",
       "    .dataframe tbody tr th {\n",
       "        vertical-align: top;\n",
       "    }\n",
       "\n",
       "    .dataframe thead th {\n",
       "        text-align: right;\n",
       "    }\n",
       "</style>\n",
       "<table border=\"1\" class=\"dataframe\">\n",
       "  <thead>\n",
       "    <tr style=\"text-align: right;\">\n",
       "      <th></th>\n",
       "      <th>id</th>\n",
       "      <th>release_date</th>\n",
       "      <th>movie</th>\n",
       "      <th>production_budget</th>\n",
       "      <th>domestic_gross</th>\n",
       "      <th>worldwide_gross</th>\n",
       "    </tr>\n",
       "  </thead>\n",
       "  <tbody>\n",
       "    <tr>\n",
       "      <th>5777</th>\n",
       "      <td>78</td>\n",
       "      <td>Dec 31, 2018</td>\n",
       "      <td>Red 11</td>\n",
       "      <td>7000.0</td>\n",
       "      <td>0.0</td>\n",
       "      <td>0.0</td>\n",
       "    </tr>\n",
       "    <tr>\n",
       "      <th>5778</th>\n",
       "      <td>79</td>\n",
       "      <td>Apr 2, 1999</td>\n",
       "      <td>Following</td>\n",
       "      <td>6000.0</td>\n",
       "      <td>48482.0</td>\n",
       "      <td>240495.0</td>\n",
       "    </tr>\n",
       "    <tr>\n",
       "      <th>5779</th>\n",
       "      <td>80</td>\n",
       "      <td>Jul 13, 2005</td>\n",
       "      <td>Return to the Land of Wonders</td>\n",
       "      <td>5000.0</td>\n",
       "      <td>1338.0</td>\n",
       "      <td>1338.0</td>\n",
       "    </tr>\n",
       "    <tr>\n",
       "      <th>5780</th>\n",
       "      <td>81</td>\n",
       "      <td>Sep 29, 2015</td>\n",
       "      <td>A Plague So Pleasant</td>\n",
       "      <td>1400.0</td>\n",
       "      <td>0.0</td>\n",
       "      <td>0.0</td>\n",
       "    </tr>\n",
       "    <tr>\n",
       "      <th>5781</th>\n",
       "      <td>82</td>\n",
       "      <td>Aug 5, 2005</td>\n",
       "      <td>My Date With Drew</td>\n",
       "      <td>1100.0</td>\n",
       "      <td>181041.0</td>\n",
       "      <td>181041.0</td>\n",
       "    </tr>\n",
       "  </tbody>\n",
       "</table>\n",
       "</div>"
      ],
      "text/plain": [
       "      id  release_date                          movie  production_budget  \\\n",
       "5777  78  Dec 31, 2018                         Red 11             7000.0   \n",
       "5778  79   Apr 2, 1999                      Following             6000.0   \n",
       "5779  80  Jul 13, 2005  Return to the Land of Wonders             5000.0   \n",
       "5780  81  Sep 29, 2015           A Plague So Pleasant             1400.0   \n",
       "5781  82   Aug 5, 2005              My Date With Drew             1100.0   \n",
       "\n",
       "      domestic_gross  worldwide_gross  \n",
       "5777             0.0              0.0  \n",
       "5778         48482.0         240495.0  \n",
       "5779          1338.0           1338.0  \n",
       "5780             0.0              0.0  \n",
       "5781        181041.0         181041.0  "
      ]
     },
     "execution_count": 874,
     "metadata": {},
     "output_type": "execute_result"
    }
   ],
   "source": [
    "movie_budgets_df.tail()"
   ]
  },
  {
   "cell_type": "code",
   "execution_count": 875,
   "metadata": {},
   "outputs": [],
   "source": [
    "movie_budgets_df['foreign_gross'] = movie_budgets_df['worldwide_gross'] - movie_budgets_df['domestic_gross']"
   ]
  },
  {
   "cell_type": "code",
   "execution_count": 876,
   "metadata": {},
   "outputs": [],
   "source": [
    "movie_budgets_df['net_profit'] = movie_budgets_df['worldwide_gross'] - movie_budgets_df['production_budget']"
   ]
  },
  {
   "cell_type": "code",
   "execution_count": 877,
   "metadata": {},
   "outputs": [],
   "source": [
    "movie_budgets_sorted = movie_budgets_df.sort_values(by='net_profit', ascending=False)"
   ]
  },
  {
   "cell_type": "code",
   "execution_count": 878,
   "metadata": {},
   "outputs": [
    {
     "data": {
      "image/png": "[encoded data removed]",
      "text/plain": [
       "<Figure size 720x432 with 1 Axes>"
      ]
     },
     "metadata": {
      "needs_background": "light"
     },
     "output_type": "display_data"
    }
   ],
   "source": [
    "# Extract movie titles and worldwide gross\n",
    "movie_titles = movie_budgets_sorted['movie'].head(20)\n",
    "worldwide_gross = movie_budgets_sorted['net_profit'].head(20)\n",
    "\n",
    "# Plot the bar chart\n",
    "plt.figure(figsize=(10, 6))  # Set the figure size\n",
    "plt.bar(movie_titles, worldwide_gross)\n",
    "\n",
    "\n",
    "plt.xticks(rotation=90)\n",
    "\n",
    "# Add labels and title\n",
    "plt.xlabel('Movie Title')\n",
    "plt.ylabel('Net Profit')\n",
    "plt.title('Net Profit for Top 20 Movies')\n",
    "\n",
    "# Show the plot\n",
    "plt.tight_layout()  # Adjust layout to prevent clipping of labels\n",
    "plt.show()\n"
   ]
  },
  {
   "cell_type": "markdown",
   "metadata": {},
   "source": [
    "We've seen the top 20 movies in both data sets now we need to determine which genre these movies belong to . Starting with the bom_df_sorted. Since this data set does not contain movie id and the movie_info_df does not have movie titles then the only way we can get their genres is by using the imdb_df data "
   ]
  },
  {
   "cell_type": "code",
   "execution_count": 879,
   "metadata": {},
   "outputs": [
    {
     "name": "stdout",
     "output_type": "stream",
     "text": [
      "Action,Adventure,Sci-Fi          24\n",
      "Adventure,Animation,Comedy       16\n",
      "Action,Adventure,Fantasy         10\n",
      "Action,Adventure,Comedy           7\n",
      "Action,Adventure,Animation        5\n",
      "Action,Adventure,Thriller         5\n",
      "Action,Crime,Thriller             3\n",
      "Adventure,Fantasy                 2\n",
      "Adventure,Family,Fantasy          2\n",
      "Adventure,Drama,Sci-Fi            2\n",
      "Adventure,Drama,Fantasy           2\n",
      "Action,Adventure,Family           1\n",
      "Drama,Sci-Fi,Thriller             1\n",
      "Horror                            1\n",
      "Drama,Romance,Thriller            1\n",
      "Horror,Thriller                   1\n",
      "Sci-Fi                            1\n",
      "Action,Thriller                   1\n",
      "Adventure,Drama,Sport             1\n",
      "Biography,Drama,Music             1\n",
      "Documentary,Drama,Sport           1\n",
      "Comedy,Mystery                    1\n",
      "Animation,Comedy,Family           1\n",
      "Crime,Drama                       1\n",
      "Biography,Documentary,History     1\n",
      "Family                            1\n",
      "Action,Adventure,Drama            1\n",
      "Fantasy,Romance                   1\n",
      "Name: genres, dtype: int64\n"
     ]
    }
   ],
   "source": [
    "\n",
    "\n",
    "# Merge the two dataframes based on the movie titles\n",
    "merged_df = pd.merge(bom_df_sorted.head(100), imdb_df, left_on='title', right_on='primary_title', how='inner')\n",
    "\n",
    "# Extract the genres column from the merged dataframe\n",
    "top_100_genres = merged_df['genres']\n",
    "\n",
    "# Display the count of each genre\n",
    "genre_counts = top_100_genres.value_counts()\n",
    "print(genre_counts)\n"
   ]
  },
  {
   "cell_type": "code",
   "execution_count": 880,
   "metadata": {},
   "outputs": [
    {
     "data": {
      "image/png": "[encoded data removed]",
      "text/plain": [
       "<Figure size 720x432 with 1 Axes>"
      ]
     },
     "metadata": {
      "needs_background": "light"
     },
     "output_type": "display_data"
    }
   ],
   "source": [
    "plt.figure(figsize=(10, 6))\n",
    "genre_counts.plot(kind='bar', color='skyblue')\n",
    "plt.title('Genre Counts of Top 100 Movies Based on World Wide Gross')\n",
    "plt.xlabel('Genre')\n",
    "plt.ylabel('Count')\n",
    "plt.xticks(rotation=90, ha='right')\n",
    "plt.tight_layout()\n",
    "plt.show()"
   ]
  },
  {
   "cell_type": "markdown",
   "metadata": {},
   "source": [
    "The graph above shows which combination of genres has the most movies with the highest world wide gross. Now lets check the individual genres."
   ]
  },
  {
   "cell_type": "code",
   "execution_count": 881,
   "metadata": {},
   "outputs": [
    {
     "data": {
      "image/png": "[encoded data removed]",
      "text/plain": [
       "<Figure size 720x432 with 1 Axes>"
      ]
     },
     "metadata": {
      "needs_background": "light"
     },
     "output_type": "display_data"
    }
   ],
   "source": [
    "\n",
    "\n",
    "# Splitting multi-genre entries and creating a list of individual genres\n",
    "individual_genres = top_100_genres.str.split(',').explode()\n",
    "\n",
    "# Counting the occurrences of each individual genre\n",
    "individual_genre_counts = individual_genres.value_counts()\n",
    "\n",
    "# Plotting the histogram\n",
    "plt.figure(figsize=(10, 6))\n",
    "individual_genre_counts.plot(kind='bar', color='skyblue')\n",
    "plt.title('Individual Genre Counts of Top 100 Movies Based on World Wide Gross')\n",
    "plt.xlabel('Genre')\n",
    "plt.ylabel('Count')\n",
    "plt.xticks(rotation=45, ha='right')\n",
    "plt.tight_layout()\n",
    "plt.show()\n"
   ]
  },
  {
   "cell_type": "markdown",
   "metadata": {},
   "source": [
    "We can do the same thing for movies in the movie budgets database. Since this is a relatively large database we can analyze the genre for the top 500 movies based on  net profit."
   ]
  },
  {
   "cell_type": "code",
   "execution_count": 882,
   "metadata": {},
   "outputs": [
    {
     "data": {
      "text/html": [
       "<div>\n",
       "<style scoped>\n",
       "    .dataframe tbody tr th:only-of-type {\n",
       "        vertical-align: middle;\n",
       "    }\n",
       "\n",
       "    .dataframe tbody tr th {\n",
       "        vertical-align: top;\n",
       "    }\n",
       "\n",
       "    .dataframe thead th {\n",
       "        text-align: right;\n",
       "    }\n",
       "</style>\n",
       "<table border=\"1\" class=\"dataframe\">\n",
       "  <thead>\n",
       "    <tr style=\"text-align: right;\">\n",
       "      <th></th>\n",
       "      <th>id</th>\n",
       "      <th>synopsis</th>\n",
       "      <th>rating</th>\n",
       "      <th>genre</th>\n",
       "      <th>director</th>\n",
       "      <th>writer</th>\n",
       "      <th>theater_date</th>\n",
       "      <th>dvd_date</th>\n",
       "      <th>runtime</th>\n",
       "      <th>release_date</th>\n",
       "      <th>movie</th>\n",
       "      <th>production_budget</th>\n",
       "      <th>domestic_gross</th>\n",
       "      <th>worldwide_gross</th>\n",
       "      <th>foreign_gross</th>\n",
       "      <th>net_profit</th>\n",
       "    </tr>\n",
       "  </thead>\n",
       "  <tbody>\n",
       "    <tr>\n",
       "      <th>0</th>\n",
       "      <td>1</td>\n",
       "      <td>This gritty, fast-paced, and innovative police...</td>\n",
       "      <td>R</td>\n",
       "      <td>Action and Adventure|Classics|Drama</td>\n",
       "      <td>William Friedkin</td>\n",
       "      <td>Ernest Tidyman</td>\n",
       "      <td>Oct 9, 1971</td>\n",
       "      <td>Sep 25, 2001</td>\n",
       "      <td>104 minutes</td>\n",
       "      <td>Dec 18, 2009</td>\n",
       "      <td>Avatar</td>\n",
       "      <td>425000000.0</td>\n",
       "      <td>760507625.0</td>\n",
       "      <td>2.776345e+09</td>\n",
       "      <td>2.015838e+09</td>\n",
       "      <td>2.351345e+09</td>\n",
       "    </tr>\n",
       "    <tr>\n",
       "      <th>1</th>\n",
       "      <td>1</td>\n",
       "      <td>This gritty, fast-paced, and innovative police...</td>\n",
       "      <td>R</td>\n",
       "      <td>Action and Adventure|Classics|Drama</td>\n",
       "      <td>William Friedkin</td>\n",
       "      <td>Ernest Tidyman</td>\n",
       "      <td>Oct 9, 1971</td>\n",
       "      <td>Sep 25, 2001</td>\n",
       "      <td>104 minutes</td>\n",
       "      <td>May 29, 2009</td>\n",
       "      <td>Up</td>\n",
       "      <td>175000000.0</td>\n",
       "      <td>293004164.0</td>\n",
       "      <td>7.314634e+08</td>\n",
       "      <td>4.384592e+08</td>\n",
       "      <td>5.564634e+08</td>\n",
       "    </tr>\n",
       "    <tr>\n",
       "      <th>2</th>\n",
       "      <td>1</td>\n",
       "      <td>This gritty, fast-paced, and innovative police...</td>\n",
       "      <td>R</td>\n",
       "      <td>Action and Adventure|Classics|Drama</td>\n",
       "      <td>William Friedkin</td>\n",
       "      <td>Ernest Tidyman</td>\n",
       "      <td>Oct 9, 1971</td>\n",
       "      <td>Sep 25, 2001</td>\n",
       "      <td>104 minutes</td>\n",
       "      <td>Mar 7, 2014</td>\n",
       "      <td>Mr. Peabody &amp; Sherman</td>\n",
       "      <td>145000000.0</td>\n",
       "      <td>111506430.0</td>\n",
       "      <td>2.698064e+08</td>\n",
       "      <td>1.583000e+08</td>\n",
       "      <td>1.248064e+08</td>\n",
       "    </tr>\n",
       "    <tr>\n",
       "      <th>3</th>\n",
       "      <td>1</td>\n",
       "      <td>This gritty, fast-paced, and innovative police...</td>\n",
       "      <td>R</td>\n",
       "      <td>Action and Adventure|Classics|Drama</td>\n",
       "      <td>William Friedkin</td>\n",
       "      <td>Ernest Tidyman</td>\n",
       "      <td>Oct 9, 1971</td>\n",
       "      <td>Sep 25, 2001</td>\n",
       "      <td>104 minutes</td>\n",
       "      <td>Dec 17, 2010</td>\n",
       "      <td>How Do You Know?</td>\n",
       "      <td>120000000.0</td>\n",
       "      <td>30212620.0</td>\n",
       "      <td>4.962818e+07</td>\n",
       "      <td>1.941556e+07</td>\n",
       "      <td>-7.037182e+07</td>\n",
       "    </tr>\n",
       "    <tr>\n",
       "      <th>4</th>\n",
       "      <td>1</td>\n",
       "      <td>This gritty, fast-paced, and innovative police...</td>\n",
       "      <td>R</td>\n",
       "      <td>Action and Adventure|Classics|Drama</td>\n",
       "      <td>William Friedkin</td>\n",
       "      <td>Ernest Tidyman</td>\n",
       "      <td>Oct 9, 1971</td>\n",
       "      <td>Sep 25, 2001</td>\n",
       "      <td>104 minutes</td>\n",
       "      <td>Dec 11, 2015</td>\n",
       "      <td>In the Heart of the Sea</td>\n",
       "      <td>100000000.0</td>\n",
       "      <td>25020758.0</td>\n",
       "      <td>8.969331e+07</td>\n",
       "      <td>6.467255e+07</td>\n",
       "      <td>-1.030669e+07</td>\n",
       "    </tr>\n",
       "  </tbody>\n",
       "</table>\n",
       "</div>"
      ],
      "text/plain": [
       "   id                                           synopsis rating  \\\n",
       "0   1  This gritty, fast-paced, and innovative police...      R   \n",
       "1   1  This gritty, fast-paced, and innovative police...      R   \n",
       "2   1  This gritty, fast-paced, and innovative police...      R   \n",
       "3   1  This gritty, fast-paced, and innovative police...      R   \n",
       "4   1  This gritty, fast-paced, and innovative police...      R   \n",
       "\n",
       "                                 genre          director          writer  \\\n",
       "0  Action and Adventure|Classics|Drama  William Friedkin  Ernest Tidyman   \n",
       "1  Action and Adventure|Classics|Drama  William Friedkin  Ernest Tidyman   \n",
       "2  Action and Adventure|Classics|Drama  William Friedkin  Ernest Tidyman   \n",
       "3  Action and Adventure|Classics|Drama  William Friedkin  Ernest Tidyman   \n",
       "4  Action and Adventure|Classics|Drama  William Friedkin  Ernest Tidyman   \n",
       "\n",
       "  theater_date      dvd_date      runtime  release_date  \\\n",
       "0  Oct 9, 1971  Sep 25, 2001  104 minutes  Dec 18, 2009   \n",
       "1  Oct 9, 1971  Sep 25, 2001  104 minutes  May 29, 2009   \n",
       "2  Oct 9, 1971  Sep 25, 2001  104 minutes   Mar 7, 2014   \n",
       "3  Oct 9, 1971  Sep 25, 2001  104 minutes  Dec 17, 2010   \n",
       "4  Oct 9, 1971  Sep 25, 2001  104 minutes  Dec 11, 2015   \n",
       "\n",
       "                     movie  production_budget  domestic_gross  \\\n",
       "0                   Avatar        425000000.0     760507625.0   \n",
       "1                       Up        175000000.0     293004164.0   \n",
       "2    Mr. Peabody & Sherman        145000000.0     111506430.0   \n",
       "3         How Do You Know?        120000000.0      30212620.0   \n",
       "4  In the Heart of the Sea        100000000.0      25020758.0   \n",
       "\n",
       "   worldwide_gross  foreign_gross    net_profit  \n",
       "0     2.776345e+09   2.015838e+09  2.351345e+09  \n",
       "1     7.314634e+08   4.384592e+08  5.564634e+08  \n",
       "2     2.698064e+08   1.583000e+08  1.248064e+08  \n",
       "3     4.962818e+07   1.941556e+07 -7.037182e+07  \n",
       "4     8.969331e+07   6.467255e+07 -1.030669e+07  "
      ]
     },
     "execution_count": 882,
     "metadata": {},
     "output_type": "execute_result"
    }
   ],
   "source": [
    "Info_Budgets_df = pd.merge(movie_info_df, movie_budgets_df, on='id', how='inner')\n",
    "Info_Budgets_df.head()"
   ]
  },
  {
   "cell_type": "code",
   "execution_count": 883,
   "metadata": {},
   "outputs": [],
   "source": [
    "Info_Budgets_df.sort_values(by='net_profit', ascending=False,inplace=True)"
   ]
  },
  {
   "cell_type": "code",
   "execution_count": 884,
   "metadata": {},
   "outputs": [
    {
     "data": {
      "text/html": [
       "<div>\n",
       "<style scoped>\n",
       "    .dataframe tbody tr th:only-of-type {\n",
       "        vertical-align: middle;\n",
       "    }\n",
       "\n",
       "    .dataframe tbody tr th {\n",
       "        vertical-align: top;\n",
       "    }\n",
       "\n",
       "    .dataframe thead th {\n",
       "        text-align: right;\n",
       "    }\n",
       "</style>\n",
       "<table border=\"1\" class=\"dataframe\">\n",
       "  <thead>\n",
       "    <tr style=\"text-align: right;\">\n",
       "      <th></th>\n",
       "      <th>id</th>\n",
       "      <th>synopsis</th>\n",
       "      <th>rating</th>\n",
       "      <th>genre</th>\n",
       "      <th>director</th>\n",
       "      <th>writer</th>\n",
       "      <th>theater_date</th>\n",
       "      <th>dvd_date</th>\n",
       "      <th>runtime</th>\n",
       "      <th>release_date</th>\n",
       "      <th>movie</th>\n",
       "      <th>production_budget</th>\n",
       "      <th>domestic_gross</th>\n",
       "      <th>worldwide_gross</th>\n",
       "      <th>foreign_gross</th>\n",
       "      <th>net_profit</th>\n",
       "    </tr>\n",
       "  </thead>\n",
       "  <tbody>\n",
       "    <tr>\n",
       "      <th>0</th>\n",
       "      <td>1</td>\n",
       "      <td>This gritty, fast-paced, and innovative police...</td>\n",
       "      <td>R</td>\n",
       "      <td>Action and Adventure|Classics|Drama</td>\n",
       "      <td>William Friedkin</td>\n",
       "      <td>Ernest Tidyman</td>\n",
       "      <td>Oct 9, 1971</td>\n",
       "      <td>Sep 25, 2001</td>\n",
       "      <td>104 minutes</td>\n",
       "      <td>Dec 18, 2009</td>\n",
       "      <td>Avatar</td>\n",
       "      <td>425000000.0</td>\n",
       "      <td>760507625.0</td>\n",
       "      <td>2.776345e+09</td>\n",
       "      <td>2.015838e+09</td>\n",
       "      <td>2.351345e+09</td>\n",
       "    </tr>\n",
       "    <tr>\n",
       "      <th>1798</th>\n",
       "      <td>43</td>\n",
       "      <td>Based on the play</td>\n",
       "      <td>NR</td>\n",
       "      <td>Classics|Comedy|Musical and Performing Arts</td>\n",
       "      <td>William Wellman</td>\n",
       "      <td>Nunnally Johnson</td>\n",
       "      <td>N/A</td>\n",
       "      <td>N/A</td>\n",
       "      <td>75 minutes</td>\n",
       "      <td>Dec 19, 1997</td>\n",
       "      <td>Titanic</td>\n",
       "      <td>200000000.0</td>\n",
       "      <td>659363944.0</td>\n",
       "      <td>2.208208e+09</td>\n",
       "      <td>1.548844e+09</td>\n",
       "      <td>2.008208e+09</td>\n",
       "    </tr>\n",
       "    <tr>\n",
       "      <th>232</th>\n",
       "      <td>7</td>\n",
       "      <td>N/A</td>\n",
       "      <td>NR</td>\n",
       "      <td>Drama|Romance</td>\n",
       "      <td>Rodney Bennett</td>\n",
       "      <td>Giles Cooper</td>\n",
       "      <td>N/A</td>\n",
       "      <td>N/A</td>\n",
       "      <td>200 minutes</td>\n",
       "      <td>Apr 27, 2018</td>\n",
       "      <td>Avengers: Infinity War</td>\n",
       "      <td>300000000.0</td>\n",
       "      <td>678815482.0</td>\n",
       "      <td>2.048134e+09</td>\n",
       "      <td>1.369319e+09</td>\n",
       "      <td>1.748134e+09</td>\n",
       "    </tr>\n",
       "    <tr>\n",
       "      <th>174</th>\n",
       "      <td>6</td>\n",
       "      <td>Michael Douglas runs afoul of a treacherous su...</td>\n",
       "      <td>R</td>\n",
       "      <td>Drama|Mystery and Suspense</td>\n",
       "      <td>Barry Levinson</td>\n",
       "      <td>Paul Attanasio|Michael Crichton</td>\n",
       "      <td>Dec 9, 1994</td>\n",
       "      <td>Aug 27, 1997</td>\n",
       "      <td>128 minutes</td>\n",
       "      <td>Dec 18, 2015</td>\n",
       "      <td>Star Wars Ep. VII: The Force Awakens</td>\n",
       "      <td>306000000.0</td>\n",
       "      <td>936662225.0</td>\n",
       "      <td>2.053311e+09</td>\n",
       "      <td>1.116649e+09</td>\n",
       "      <td>1.747311e+09</td>\n",
       "    </tr>\n",
       "    <tr>\n",
       "      <th>1392</th>\n",
       "      <td>34</td>\n",
       "      <td>Director John Woo brings Hong Kong-style marti...</td>\n",
       "      <td>PG-13</td>\n",
       "      <td>Action and Adventure|Mystery and Suspense</td>\n",
       "      <td>John Woo</td>\n",
       "      <td>William Goldman|John Logan|David Marconi|Micha...</td>\n",
       "      <td>Dec 31, 2000</td>\n",
       "      <td>Nov 7, 2000</td>\n",
       "      <td>123 minutes</td>\n",
       "      <td>Jun 12, 2015</td>\n",
       "      <td>Jurassic World</td>\n",
       "      <td>215000000.0</td>\n",
       "      <td>652270625.0</td>\n",
       "      <td>1.648855e+09</td>\n",
       "      <td>9.965842e+08</td>\n",
       "      <td>1.433855e+09</td>\n",
       "    </tr>\n",
       "  </tbody>\n",
       "</table>\n",
       "</div>"
      ],
      "text/plain": [
       "      id                                           synopsis rating  \\\n",
       "0      1  This gritty, fast-paced, and innovative police...      R   \n",
       "1798  43                                  Based on the play     NR   \n",
       "232    7                                                N/A     NR   \n",
       "174    6  Michael Douglas runs afoul of a treacherous su...      R   \n",
       "1392  34  Director John Woo brings Hong Kong-style marti...  PG-13   \n",
       "\n",
       "                                            genre          director  \\\n",
       "0             Action and Adventure|Classics|Drama  William Friedkin   \n",
       "1798  Classics|Comedy|Musical and Performing Arts   William Wellman   \n",
       "232                                 Drama|Romance    Rodney Bennett   \n",
       "174                    Drama|Mystery and Suspense    Barry Levinson   \n",
       "1392    Action and Adventure|Mystery and Suspense          John Woo   \n",
       "\n",
       "                                                 writer  theater_date  \\\n",
       "0                                        Ernest Tidyman   Oct 9, 1971   \n",
       "1798                                   Nunnally Johnson           N/A   \n",
       "232                                        Giles Cooper           N/A   \n",
       "174                     Paul Attanasio|Michael Crichton   Dec 9, 1994   \n",
       "1392  William Goldman|John Logan|David Marconi|Micha...  Dec 31, 2000   \n",
       "\n",
       "          dvd_date      runtime  release_date  \\\n",
       "0     Sep 25, 2001  104 minutes  Dec 18, 2009   \n",
       "1798           N/A   75 minutes  Dec 19, 1997   \n",
       "232            N/A  200 minutes  Apr 27, 2018   \n",
       "174   Aug 27, 1997  128 minutes  Dec 18, 2015   \n",
       "1392   Nov 7, 2000  123 minutes  Jun 12, 2015   \n",
       "\n",
       "                                     movie  production_budget  domestic_gross  \\\n",
       "0                                   Avatar        425000000.0     760507625.0   \n",
       "1798                               Titanic        200000000.0     659363944.0   \n",
       "232                 Avengers: Infinity War        300000000.0     678815482.0   \n",
       "174   Star Wars Ep. VII: The Force Awakens        306000000.0     936662225.0   \n",
       "1392                        Jurassic World        215000000.0     652270625.0   \n",
       "\n",
       "      worldwide_gross  foreign_gross    net_profit  \n",
       "0        2.776345e+09   2.015838e+09  2.351345e+09  \n",
       "1798     2.208208e+09   1.548844e+09  2.008208e+09  \n",
       "232      2.048134e+09   1.369319e+09  1.748134e+09  \n",
       "174      2.053311e+09   1.116649e+09  1.747311e+09  \n",
       "1392     1.648855e+09   9.965842e+08  1.433855e+09  "
      ]
     },
     "execution_count": 884,
     "metadata": {},
     "output_type": "execute_result"
    }
   ],
   "source": [
    "Info_Budgets_df.head()"
   ]
  },
  {
   "cell_type": "code",
   "execution_count": 885,
   "metadata": {},
   "outputs": [
    {
     "name": "stdout",
     "output_type": "stream",
     "text": [
      "Drama                                                                    55\n",
      "Comedy                                                                   38\n",
      "Comedy|Drama                                                             34\n",
      "Horror                                                                   19\n",
      "Action and Adventure|Drama|Mystery and Suspense                          15\n",
      "Comedy|Musical and Performing Arts                                       15\n",
      "Drama|Mystery and Suspense                                               15\n",
      "Action and Adventure|Drama|Science Fiction and Fantasy                   15\n",
      "Comedy|Romance                                                           14\n",
      "Art House and International|Comedy|Drama|Musical and Performing Arts     14\n",
      "Action and Adventure|Mystery and Suspense                                13\n",
      "Action and Adventure|Classics|Drama                                      11\n",
      "Mystery and Suspense                                                     11\n",
      "Classics|Comedy|Musical and Performing Arts                              10\n",
      "Drama|Romance                                                            10\n",
      "Musical and Performing Arts                                              10\n",
      "Drama|Musical and Performing Arts|Romance                                 9\n",
      "Classics|Comedy|Musical and Performing Arts|Romance                       9\n",
      "Art House and International|Classics|Horror|Mystery and Suspense          9\n",
      "Action and Adventure|Comedy|Mystery and Suspense                          8\n",
      "Classics|Drama                                                            8\n",
      "Comedy|Kids and Family|Romance                                            8\n",
      "Action and Adventure|Classics|Drama|Mystery and Suspense                  8\n",
      "Action and Adventure                                                      7\n",
      "Comedy|Drama|Kids and Family|Romance                                      7\n",
      "Drama|Musical and Performing Arts                                         7\n",
      "Classics|Comedy|Drama|Romance                                             7\n",
      "Comedy|Mystery and Suspense|Science Fiction and Fantasy|Romance           7\n",
      "Comedy|Kids and Family                                                    7\n",
      "Drama|Sports and Fitness                                                  6\n",
      "Action and Adventure|Drama                                                6\n",
      "Art House and International|Classics|Horror                               6\n",
      "Comedy|Drama|Romance                                                      6\n",
      "Action and Adventure|Drama|Western                                        6\n",
      "Action and Adventure|Mystery and Suspense|Science Fiction and Fantasy     6\n",
      "Art House and International|Drama                                         6\n",
      "Drama|Kids and Family                                                     5\n",
      "Documentary                                                               5\n",
      "Documentary|Special Interest                                              5\n",
      "Drama|Science Fiction and Fantasy                                         5\n",
      "Action and Adventure|Comedy|Drama                                         5\n",
      "Action and Adventure|Science Fiction and Fantasy                          5\n",
      "N/A                                                                       4\n",
      "Action and Adventure|Drama|Horror|Mystery and Suspense                    4\n",
      "Art House and International|Drama|Musical and Performing Arts             4\n",
      "Comedy|Drama|Mystery and Suspense                                         4\n",
      "Art House and International|Drama|Mystery and Suspense|Television         4\n",
      "Classics|Comedy|Drama                                                     4\n",
      "Action and Adventure|Art House and International|Drama                    4\n",
      "Name: genre, dtype: int64\n"
     ]
    }
   ],
   "source": [
    "\n",
    "\n",
    "# Extract the top 500 rows\n",
    "top_500 = Info_Budgets_df.head(500)\n",
    "\n",
    "# Calculate the value counts of 'genre' in the top 500\n",
    "genre_counts_top_500 = top_500['genre'].value_counts()\n",
    "\n",
    "# Display the value counts\n",
    "print(genre_counts_top_500)\n"
   ]
  },
  {
   "cell_type": "code",
   "execution_count": 886,
   "metadata": {},
   "outputs": [
    {
     "data": {
      "image/png": "[encoded data removed]",
      "text/plain": [
       "<Figure size 720x432 with 1 Axes>"
      ]
     },
     "metadata": {
      "needs_background": "light"
     },
     "output_type": "display_data"
    }
   ],
   "source": [
    "plt.figure(figsize=(10, 6))\n",
    "genre_counts_top_500.plot(kind='bar',)\n",
    "plt.title('Genre Counts of Top 500 Movies Based on Net Profit')\n",
    "plt.xlabel('Genre')\n",
    "plt.ylabel('Count')\n",
    "plt.xticks(rotation=90, ha='right')\n",
    "plt.tight_layout()\n",
    "plt.show()"
   ]
  },
  {
   "cell_type": "markdown",
   "metadata": {},
   "source": [
    "We can see that the grouping of genres in the above graph makes it extremely difficult to visualize. Let's split the genres and fix this issue."
   ]
  },
  {
   "cell_type": "code",
   "execution_count": 887,
   "metadata": {},
   "outputs": [
    {
     "data": {
      "image/png": "[encoded data removed]",
      "text/plain": [
       "<Figure size 720x432 with 1 Axes>"
      ]
     },
     "metadata": {
      "needs_background": "light"
     },
     "output_type": "display_data"
    }
   ],
   "source": [
    "\n",
    "\n",
    "\n",
    "\n",
    "# Converting index to a Series and then splitting multi-genre entries to create a list of individual genres\n",
    "individual_netprofit_genres = pd.Series(genre_counts_top_500.index.str.split('|')).explode()\n",
    "\n",
    "# Counting the occurrences of each individual genre\n",
    "individual_netprofit_genre_counts = individual_netprofit_genres.value_counts()\n",
    "\n",
    "# Plotting the histogram\n",
    "plt.figure(figsize=(10, 6))\n",
    "individual_netprofit_genre_counts.plot(kind='bar', color='skyblue')\n",
    "plt.title('Frequency of Individual Genres in Top 500 Movies')\n",
    "plt.xlabel('Genre')\n",
    "plt.ylabel('Frequency')\n",
    "plt.xticks(rotation=45, ha='right')\n",
    "plt.tight_layout()\n",
    "plt.show()\n"
   ]
  },
  {
   "cell_type": "markdown",
   "metadata": {},
   "source": [
    "We can now clearly see that drama movies generate the greatest net profit. Now lets look at the relationship between production budget and net profit."
   ]
  },
  {
   "cell_type": "code",
   "execution_count": 888,
   "metadata": {},
   "outputs": [
    {
     "data": {
      "image/png": "[encoded data removed]",
      "text/plain": [
       "<Figure size 720x432 with 1 Axes>"
      ]
     },
     "metadata": {
      "needs_background": "light"
     },
     "output_type": "display_data"
    }
   ],
   "source": [
    "\n",
    "# Extracting 'production_budget' and 'net_profit' columns\n",
    "production_budget = Info_Budgets_df['production_budget']\n",
    "net_profit = Info_Budgets_df['net_profit']\n",
    "\n",
    "# Plotting the scatter plot\n",
    "plt.figure(figsize=(10, 6))\n",
    "plt.scatter(production_budget, net_profit, color='skyblue', alpha=0.7)\n",
    "plt.title('Relationship between Production Budget and Net Profit')\n",
    "plt.xlabel('Production Budget')\n",
    "plt.ylabel('Net Profit')\n",
    "plt.grid(True)\n",
    "plt.tight_layout()\n",
    "plt.show()\n"
   ]
  },
  {
   "cell_type": "code",
   "execution_count": 889,
   "metadata": {},
   "outputs": [
    {
     "data": {
      "image/png": "[encoded data removed]",
      "text/plain": [
       "<Figure size 720x432 with 1 Axes>"
      ]
     },
     "metadata": {
      "needs_background": "light"
     },
     "output_type": "display_data"
    }
   ],
   "source": [
    "\n",
    "# Extracting 'production_budget' and 'net_profit' columns\n",
    "production_budget = Info_Budgets_df['production_budget']\n",
    "net_profit = Info_Budgets_df['domestic_gross']\n",
    "\n",
    "# Plotting the scatter plot\n",
    "plt.figure(figsize=(10, 6))\n",
    "plt.scatter(production_budget, net_profit, color='skyblue', alpha=0.7)\n",
    "plt.title('Relationship between Production Budget and Domestic Gross')\n",
    "plt.xlabel('Production Budget')\n",
    "plt.ylabel('Domestic Gross')\n",
    "plt.grid(True)\n",
    "plt.tight_layout()\n",
    "plt.show()\n"
   ]
  },
  {
   "cell_type": "code",
   "execution_count": 890,
   "metadata": {},
   "outputs": [
    {
     "data": {
      "image/png": "[encoded data removed]",
      "text/plain": [
       "<Figure size 720x432 with 1 Axes>"
      ]
     },
     "metadata": {
      "needs_background": "light"
     },
     "output_type": "display_data"
    }
   ],
   "source": [
    "\n",
    "\n",
    "# Extracting 'production_budget' and 'net_profit' columns\n",
    "production_budget = Info_Budgets_df['production_budget']\n",
    "net_profit = Info_Budgets_df['foreign_gross']\n",
    "\n",
    "# Plotting the scatter plot\n",
    "plt.figure(figsize=(10, 6))\n",
    "plt.scatter(production_budget, net_profit, color='skyblue', alpha=0.7)\n",
    "plt.title('Relationship between Production Budget and Foreign Gross')\n",
    "plt.xlabel('Production Budget')\n",
    "plt.ylabel('Foreign Gross')\n",
    "plt.grid(True)\n",
    "plt.tight_layout()\n",
    "plt.show()\n"
   ]
  },
  {
   "cell_type": "markdown",
   "metadata": {},
   "source": [
    "From the above scatter plots we can see that there is a low positive relationship between an increase in production budget and an increase in the foreign gross,domestic,gross and net profit for a movie"
   ]
  },
  {
   "cell_type": "markdown",
   "metadata": {},
   "source": [
    "B) Movies with the best ratings."
   ]
  },
  {
   "cell_type": "code",
   "execution_count": 891,
   "metadata": {},
   "outputs": [],
   "source": [
    "Info_Budgets_Reviews_df = pd.merge(Info_Budgets_df, reviews_df, on='id', how='inner')"
   ]
  },
  {
   "cell_type": "markdown",
   "metadata": {},
   "source": [
    "There are multiple reviews for a singular movie so the best thing to do is get the average rating for the movies and then analyze the data accordingly"
   ]
  },
  {
   "cell_type": "code",
   "execution_count": 892,
   "metadata": {},
   "outputs": [],
   "source": [
    "Sorted_Info_Budgets_Reviews_df = Info_Budgets_Reviews_df.sort_values(by='net_profit',ascending=False)"
   ]
  },
  {
   "cell_type": "code",
   "execution_count": 893,
   "metadata": {},
   "outputs": [
    {
     "data": {
      "text/plain": [
       "141622"
      ]
     },
     "execution_count": 893,
     "metadata": {},
     "output_type": "execute_result"
    }
   ],
   "source": [
    "len(Sorted_Info_Budgets_Reviews_df)"
   ]
  },
  {
   "cell_type": "code",
   "execution_count": 894,
   "metadata": {},
   "outputs": [
    {
     "name": "stdout",
     "output_type": "stream",
     "text": [
      "59\n"
     ]
    }
   ],
   "source": [
    "# Grouping the data by 'id' and calculating the mean of 'rating out_of_ten'\n",
    "average_rating_by_id = Sorted_Info_Budgets_Reviews_df.groupby('id')['rating out_of_ten'].mean()\n",
    "\n",
    "# Creating a new DataFrame with 'id' as index and 'rating out_of_ten' as a column\n",
    "average_rating_df = average_rating_by_id.reset_index(name='average_rating')\n",
    "\n",
    "# Displaying the resulting DataFrame\n",
    "print(len(average_rating_df))\n"
   ]
  },
  {
   "cell_type": "code",
   "execution_count": 895,
   "metadata": {},
   "outputs": [],
   "source": [
    "combined_average_rating_df = pd.merge(average_rating_df,movie_budgets_df,on='id')"
   ]
  },
  {
   "cell_type": "code",
   "execution_count": 896,
   "metadata": {},
   "outputs": [
    {
     "data": {
      "text/html": [
       "<div>\n",
       "<style scoped>\n",
       "    .dataframe tbody tr th:only-of-type {\n",
       "        vertical-align: middle;\n",
       "    }\n",
       "\n",
       "    .dataframe tbody tr th {\n",
       "        vertical-align: top;\n",
       "    }\n",
       "\n",
       "    .dataframe thead th {\n",
       "        text-align: right;\n",
       "    }\n",
       "</style>\n",
       "<table border=\"1\" class=\"dataframe\">\n",
       "  <thead>\n",
       "    <tr style=\"text-align: right;\">\n",
       "      <th></th>\n",
       "      <th>id</th>\n",
       "      <th>average_rating</th>\n",
       "      <th>release_date</th>\n",
       "      <th>movie</th>\n",
       "      <th>production_budget</th>\n",
       "      <th>domestic_gross</th>\n",
       "      <th>worldwide_gross</th>\n",
       "      <th>foreign_gross</th>\n",
       "      <th>net_profit</th>\n",
       "    </tr>\n",
       "  </thead>\n",
       "  <tbody>\n",
       "    <tr>\n",
       "      <th>1334</th>\n",
       "      <td>43</td>\n",
       "      <td>7.000000</td>\n",
       "      <td>Dec 19, 1997</td>\n",
       "      <td>Titanic</td>\n",
       "      <td>200000000.0</td>\n",
       "      <td>659363944.0</td>\n",
       "      <td>2.208208e+09</td>\n",
       "      <td>1.548844e+09</td>\n",
       "      <td>2.008208e+09</td>\n",
       "    </tr>\n",
       "    <tr>\n",
       "      <th>116</th>\n",
       "      <td>6</td>\n",
       "      <td>5.963415</td>\n",
       "      <td>Dec 18, 2015</td>\n",
       "      <td>Star Wars Ep. VII: The Force Awakens</td>\n",
       "      <td>306000000.0</td>\n",
       "      <td>936662225.0</td>\n",
       "      <td>2.053311e+09</td>\n",
       "      <td>1.116649e+09</td>\n",
       "      <td>1.747311e+09</td>\n",
       "    </tr>\n",
       "    <tr>\n",
       "      <th>1044</th>\n",
       "      <td>34</td>\n",
       "      <td>6.074219</td>\n",
       "      <td>Jun 12, 2015</td>\n",
       "      <td>Jurassic World</td>\n",
       "      <td>215000000.0</td>\n",
       "      <td>652270625.0</td>\n",
       "      <td>1.648855e+09</td>\n",
       "      <td>9.965842e+08</td>\n",
       "      <td>1.433855e+09</td>\n",
       "    </tr>\n",
       "    <tr>\n",
       "      <th>2378</th>\n",
       "      <td>67</td>\n",
       "      <td>4.358974</td>\n",
       "      <td>Apr 3, 2015</td>\n",
       "      <td>Furious 7</td>\n",
       "      <td>190000000.0</td>\n",
       "      <td>353007020.0</td>\n",
       "      <td>1.518723e+09</td>\n",
       "      <td>1.165716e+09</td>\n",
       "      <td>1.328723e+09</td>\n",
       "    </tr>\n",
       "    <tr>\n",
       "      <th>2148</th>\n",
       "      <td>61</td>\n",
       "      <td>5.942308</td>\n",
       "      <td>Jul 15, 2011</td>\n",
       "      <td>Harry Potter and the Deathly Hallows: Part II</td>\n",
       "      <td>125000000.0</td>\n",
       "      <td>381193157.0</td>\n",
       "      <td>1.341693e+09</td>\n",
       "      <td>9.605000e+08</td>\n",
       "      <td>1.216693e+09</td>\n",
       "    </tr>\n",
       "    <tr>\n",
       "      <th>291</th>\n",
       "      <td>13</td>\n",
       "      <td>6.976316</td>\n",
       "      <td>Jun 22, 2018</td>\n",
       "      <td>Jurassic World: Fallen Kingdom</td>\n",
       "      <td>170000000.0</td>\n",
       "      <td>417719760.0</td>\n",
       "      <td>1.305773e+09</td>\n",
       "      <td>8.880530e+08</td>\n",
       "      <td>1.135773e+09</td>\n",
       "    </tr>\n",
       "    <tr>\n",
       "      <th>1857</th>\n",
       "      <td>56</td>\n",
       "      <td>6.386364</td>\n",
       "      <td>Nov 22, 2013</td>\n",
       "      <td>Frozen</td>\n",
       "      <td>150000000.0</td>\n",
       "      <td>400738009.0</td>\n",
       "      <td>1.272470e+09</td>\n",
       "      <td>8.717319e+08</td>\n",
       "      <td>1.122470e+09</td>\n",
       "    </tr>\n",
       "    <tr>\n",
       "      <th>1103</th>\n",
       "      <td>35</td>\n",
       "      <td>7.517857</td>\n",
       "      <td>Mar 17, 2017</td>\n",
       "      <td>Beauty and the Beast</td>\n",
       "      <td>160000000.0</td>\n",
       "      <td>504014165.0</td>\n",
       "      <td>1.259200e+09</td>\n",
       "      <td>7.551855e+08</td>\n",
       "      <td>1.099200e+09</td>\n",
       "    </tr>\n",
       "    <tr>\n",
       "      <th>874</th>\n",
       "      <td>26</td>\n",
       "      <td>6.666667</td>\n",
       "      <td>Dec 17, 2003</td>\n",
       "      <td>The Lord of the Rings: The Return of the King</td>\n",
       "      <td>94000000.0</td>\n",
       "      <td>377845905.0</td>\n",
       "      <td>1.141403e+09</td>\n",
       "      <td>7.635574e+08</td>\n",
       "      <td>1.047403e+09</td>\n",
       "    </tr>\n",
       "    <tr>\n",
       "      <th>1392</th>\n",
       "      <td>44</td>\n",
       "      <td>5.708333</td>\n",
       "      <td>Jun 15, 2018</td>\n",
       "      <td>Incredibles 2</td>\n",
       "      <td>200000000.0</td>\n",
       "      <td>608581744.0</td>\n",
       "      <td>1.242521e+09</td>\n",
       "      <td>6.339390e+08</td>\n",
       "      <td>1.042521e+09</td>\n",
       "    </tr>\n",
       "    <tr>\n",
       "      <th>58</th>\n",
       "      <td>5</td>\n",
       "      <td>6.900000</td>\n",
       "      <td>Dec 15, 2017</td>\n",
       "      <td>Star Wars Ep. VIII: The Last Jedi</td>\n",
       "      <td>317000000.0</td>\n",
       "      <td>620181382.0</td>\n",
       "      <td>1.316722e+09</td>\n",
       "      <td>6.965404e+08</td>\n",
       "      <td>9.997217e+08</td>\n",
       "    </tr>\n",
       "    <tr>\n",
       "      <th>696</th>\n",
       "      <td>23</td>\n",
       "      <td>8.093923</td>\n",
       "      <td>Apr 14, 2017</td>\n",
       "      <td>The Fate of the Furious</td>\n",
       "      <td>250000000.0</td>\n",
       "      <td>225764765.0</td>\n",
       "      <td>1.234846e+09</td>\n",
       "      <td>1.009082e+09</td>\n",
       "      <td>9.848463e+08</td>\n",
       "    </tr>\n",
       "    <tr>\n",
       "      <th>820</th>\n",
       "      <td>25</td>\n",
       "      <td>3.936000</td>\n",
       "      <td>Jun 11, 1993</td>\n",
       "      <td>Jurassic Park</td>\n",
       "      <td>63000000.0</td>\n",
       "      <td>395708305.0</td>\n",
       "      <td>1.038813e+09</td>\n",
       "      <td>6.431043e+08</td>\n",
       "      <td>9.758126e+08</td>\n",
       "    </tr>\n",
       "    <tr>\n",
       "      <th>3300</th>\n",
       "      <td>96</td>\n",
       "      <td>6.400000</td>\n",
       "      <td>Mar 8, 2019</td>\n",
       "      <td>Captain Marvel</td>\n",
       "      <td>175000000.0</td>\n",
       "      <td>426525952.0</td>\n",
       "      <td>1.123062e+09</td>\n",
       "      <td>6.965356e+08</td>\n",
       "      <td>9.480616e+08</td>\n",
       "    </tr>\n",
       "    <tr>\n",
       "      <th>2262</th>\n",
       "      <td>64</td>\n",
       "      <td>3.600000</td>\n",
       "      <td>Jun 29, 2011</td>\n",
       "      <td>Transformers: Dark of the Moon</td>\n",
       "      <td>195000000.0</td>\n",
       "      <td>352390543.0</td>\n",
       "      <td>1.123791e+09</td>\n",
       "      <td>7.714000e+08</td>\n",
       "      <td>9.287905e+08</td>\n",
       "    </tr>\n",
       "    <tr>\n",
       "      <th>1740</th>\n",
       "      <td>52</td>\n",
       "      <td>6.762821</td>\n",
       "      <td>Nov 8, 2012</td>\n",
       "      <td>Skyfall</td>\n",
       "      <td>200000000.0</td>\n",
       "      <td>304360277.0</td>\n",
       "      <td>1.110527e+09</td>\n",
       "      <td>8.061667e+08</td>\n",
       "      <td>9.105270e+08</td>\n",
       "    </tr>\n",
       "    <tr>\n",
       "      <th>464</th>\n",
       "      <td>17</td>\n",
       "      <td>7.136667</td>\n",
       "      <td>May 6, 2016</td>\n",
       "      <td>Captain America: Civil War</td>\n",
       "      <td>250000000.0</td>\n",
       "      <td>408084349.0</td>\n",
       "      <td>1.140069e+09</td>\n",
       "      <td>7.319851e+08</td>\n",
       "      <td>8.900694e+08</td>\n",
       "    </tr>\n",
       "    <tr>\n",
       "      <th>1164</th>\n",
       "      <td>38</td>\n",
       "      <td>5.400000</td>\n",
       "      <td>Dec 20, 2017</td>\n",
       "      <td>Jumanji: Welcome to the Jungle</td>\n",
       "      <td>90000000.0</td>\n",
       "      <td>404508916.0</td>\n",
       "      <td>9.644962e+08</td>\n",
       "      <td>5.599873e+08</td>\n",
       "      <td>8.744962e+08</td>\n",
       "    </tr>\n",
       "    <tr>\n",
       "      <th>1915</th>\n",
       "      <td>57</td>\n",
       "      <td>8.143590</td>\n",
       "      <td>Mar 4, 2016</td>\n",
       "      <td>Zootopia</td>\n",
       "      <td>150000000.0</td>\n",
       "      <td>341268248.0</td>\n",
       "      <td>1.019430e+09</td>\n",
       "      <td>6.781614e+08</td>\n",
       "      <td>8.694296e+08</td>\n",
       "    </tr>\n",
       "    <tr>\n",
       "      <th>3135</th>\n",
       "      <td>93</td>\n",
       "      <td>8.642857</td>\n",
       "      <td>May 19, 2004</td>\n",
       "      <td>Shrek 2</td>\n",
       "      <td>70000000.0</td>\n",
       "      <td>441226247.0</td>\n",
       "      <td>9.370081e+08</td>\n",
       "      <td>4.957819e+08</td>\n",
       "      <td>8.670081e+08</td>\n",
       "    </tr>\n",
       "  </tbody>\n",
       "</table>\n",
       "</div>"
      ],
      "text/plain": [
       "      id  average_rating  release_date  \\\n",
       "1334  43        7.000000  Dec 19, 1997   \n",
       "116    6        5.963415  Dec 18, 2015   \n",
       "1044  34        6.074219  Jun 12, 2015   \n",
       "2378  67        4.358974   Apr 3, 2015   \n",
       "2148  61        5.942308  Jul 15, 2011   \n",
       "291   13        6.976316  Jun 22, 2018   \n",
       "1857  56        6.386364  Nov 22, 2013   \n",
       "1103  35        7.517857  Mar 17, 2017   \n",
       "874   26        6.666667  Dec 17, 2003   \n",
       "1392  44        5.708333  Jun 15, 2018   \n",
       "58     5        6.900000  Dec 15, 2017   \n",
       "696   23        8.093923  Apr 14, 2017   \n",
       "820   25        3.936000  Jun 11, 1993   \n",
       "3300  96        6.400000   Mar 8, 2019   \n",
       "2262  64        3.600000  Jun 29, 2011   \n",
       "1740  52        6.762821   Nov 8, 2012   \n",
       "464   17        7.136667   May 6, 2016   \n",
       "1164  38        5.400000  Dec 20, 2017   \n",
       "1915  57        8.143590   Mar 4, 2016   \n",
       "3135  93        8.642857  May 19, 2004   \n",
       "\n",
       "                                              movie  production_budget  \\\n",
       "1334                                        Titanic        200000000.0   \n",
       "116            Star Wars Ep. VII: The Force Awakens        306000000.0   \n",
       "1044                                 Jurassic World        215000000.0   \n",
       "2378                                      Furious 7        190000000.0   \n",
       "2148  Harry Potter and the Deathly Hallows: Part II        125000000.0   \n",
       "291                  Jurassic World: Fallen Kingdom        170000000.0   \n",
       "1857                                         Frozen        150000000.0   \n",
       "1103                           Beauty and the Beast        160000000.0   \n",
       "874   The Lord of the Rings: The Return of the King         94000000.0   \n",
       "1392                                  Incredibles 2        200000000.0   \n",
       "58                Star Wars Ep. VIII: The Last Jedi        317000000.0   \n",
       "696                         The Fate of the Furious        250000000.0   \n",
       "820                                   Jurassic Park         63000000.0   \n",
       "3300                                 Captain Marvel        175000000.0   \n",
       "2262                 Transformers: Dark of the Moon        195000000.0   \n",
       "1740                                        Skyfall        200000000.0   \n",
       "464                      Captain America: Civil War        250000000.0   \n",
       "1164                 Jumanji: Welcome to the Jungle         90000000.0   \n",
       "1915                                       Zootopia        150000000.0   \n",
       "3135                                        Shrek 2         70000000.0   \n",
       "\n",
       "      domestic_gross  worldwide_gross  foreign_gross    net_profit  \n",
       "1334     659363944.0     2.208208e+09   1.548844e+09  2.008208e+09  \n",
       "116      936662225.0     2.053311e+09   1.116649e+09  1.747311e+09  \n",
       "1044     652270625.0     1.648855e+09   9.965842e+08  1.433855e+09  \n",
       "2378     353007020.0     1.518723e+09   1.165716e+09  1.328723e+09  \n",
       "2148     381193157.0     1.341693e+09   9.605000e+08  1.216693e+09  \n",
       "291      417719760.0     1.305773e+09   8.880530e+08  1.135773e+09  \n",
       "1857     400738009.0     1.272470e+09   8.717319e+08  1.122470e+09  \n",
       "1103     504014165.0     1.259200e+09   7.551855e+08  1.099200e+09  \n",
       "874      377845905.0     1.141403e+09   7.635574e+08  1.047403e+09  \n",
       "1392     608581744.0     1.242521e+09   6.339390e+08  1.042521e+09  \n",
       "58       620181382.0     1.316722e+09   6.965404e+08  9.997217e+08  \n",
       "696      225764765.0     1.234846e+09   1.009082e+09  9.848463e+08  \n",
       "820      395708305.0     1.038813e+09   6.431043e+08  9.758126e+08  \n",
       "3300     426525952.0     1.123062e+09   6.965356e+08  9.480616e+08  \n",
       "2262     352390543.0     1.123791e+09   7.714000e+08  9.287905e+08  \n",
       "1740     304360277.0     1.110527e+09   8.061667e+08  9.105270e+08  \n",
       "464      408084349.0     1.140069e+09   7.319851e+08  8.900694e+08  \n",
       "1164     404508916.0     9.644962e+08   5.599873e+08  8.744962e+08  \n",
       "1915     341268248.0     1.019430e+09   6.781614e+08  8.694296e+08  \n",
       "3135     441226247.0     9.370081e+08   4.957819e+08  8.670081e+08  "
      ]
     },
     "execution_count": 896,
     "metadata": {},
     "output_type": "execute_result"
    }
   ],
   "source": [
    "combined_average_rating_df.sort_values(by='net_profit',ascending=False).head(20)"
   ]
  },
  {
   "cell_type": "code",
   "execution_count": 897,
   "metadata": {},
   "outputs": [
    {
     "data": {
      "image/png": "[encoded data removed]",
      "text/plain": [
       "<Figure size 720x432 with 1 Axes>"
      ]
     },
     "metadata": {
      "needs_background": "light"
     },
     "output_type": "display_data"
    }
   ],
   "source": [
    "\n",
    "net_profit = combined_average_rating_df['net_profit']\n",
    "average_rating = combined_average_rating_df['average_rating']\n",
    "\n",
    "# Plotting the scatter plot\n",
    "plt.figure(figsize=(10, 6))\n",
    "plt.scatter(average_rating, net_profit, color='skyblue', alpha=0.7)\n",
    "plt.title('Relationship between Average Rating and Net Profit')\n",
    "plt.xlabel('Average Rating')\n",
    "plt.ylabel('Net Profit')\n",
    "plt.grid(True)\n",
    "plt.tight_layout()\n",
    "plt.show()\n"
   ]
  },
  {
   "cell_type": "markdown",
   "metadata": {},
   "source": [
    "This shows that there is no clear relationship between rating and profit accrued by a movie"
   ]
  }
 ],
 "metadata": {
  "kernelspec": {
   "display_name": "Python 3",
   "language": "python",
   "name": "python3"
  },
  "language_info": {
   "codemirror_mode": {
    "name": "ipython",
    "version": 3
   },
   "file_extension": ".py",
   "mimetype": "text/x-python",
   "name": "python",
   "nbconvert_exporter": "python",
   "pygments_lexer": "ipython3",
   "version": "3.8.5"
  }
 },
 "nbformat": 4,
 "nbformat_minor": 2
}
