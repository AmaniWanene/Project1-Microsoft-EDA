{
 "cells": [
  {
   "cell_type": "markdown",
   "metadata": {},
   "source": [
    "## Final Project Submission\n",
    "\n",
    "Please fill out:\n",
    "* Student name: Amani Wanene\n",
    "* Student pace:  full time\n",
    "* Scheduled project review date/time: \n",
    "* Instructor name: \n",
    "* Blog post URL:\n"
   ]
  },
  {
   "cell_type": "markdown",
   "metadata": {},
   "source": [
    "1. Import relevant resources"
   ]
  },
  {
   "cell_type": "code",
   "execution_count": 2846,
   "metadata": {},
   "outputs": [],
   "source": [
    "# Your code here - remember to use markdown cells for comments as well!\n",
    "import pandas as pd\n",
    "import os\n",
    "import sqlite3\n",
    "import matplotlib.pyplot as plt\n",
    "import numpy as np\n"
   ]
  },
  {
   "cell_type": "markdown",
   "metadata": {},
   "source": [
    "2. Import the datasets."
   ]
  },
  {
   "cell_type": "code",
   "execution_count": 2847,
   "metadata": {},
   "outputs": [],
   "source": [
    "bom_df = pd.read_csv('zippedData/bom.movie_gross.csv.gz',encoding = 'latin1')\n",
    "movie_info_df = pd.read_csv('zippedData/rt.movie_info.tsv.gz',delimiter = '\\t')\n",
    "reviews_df = pd.read_csv('zippedData/rt.reviews.tsv.gz',delimiter = '\\t',encoding = 'latin1')\n",
    "tmdb_df = pd.read_csv('zippedData/tmdb.movies.csv.gz')\n",
    "movie_budgets_df = pd.read_csv('zippedData/tn.movie_budgets.csv.gz')\n"
   ]
  },
  {
   "cell_type": "code",
   "execution_count": 2848,
   "metadata": {},
   "outputs": [],
   "source": [
    "\n",
    "\n",
    "import zipfile\n",
    "\n",
    "# Extract IMDb SQL .db file\n",
    "with zipfile.ZipFile('./zippedData/im.db.zip') as zipObj:\n",
    "    # Extract all contents of .zip file into current directory\n",
    "    zipObj.extractall(path='./zippedData/')\n",
    "    \n",
    "# Create connection to IMDb DB\n"
   ]
  },
  {
   "cell_type": "code",
   "execution_count": 2849,
   "metadata": {},
   "outputs": [],
   "source": [
    "imdb_conn = sqlite3.connect('zippedData/im.db')\n"
   ]
  },
  {
   "cell_type": "code",
   "execution_count": 2850,
   "metadata": {},
   "outputs": [],
   "source": [
    "imdb_df = pd.read_sql(\"\"\"SELECT * FROM movie_basics\n",
    " JOIN movie_ratings\n",
    "USING(movie_id)\n",
    "\"\"\",imdb_conn)"
   ]
  },
  {
   "cell_type": "markdown",
   "metadata": {},
   "source": [
    "3.View the datasets"
   ]
  },
  {
   "cell_type": "code",
   "execution_count": 2851,
   "metadata": {},
   "outputs": [
    {
     "name": "stdout",
     "output_type": "stream",
     "text": [
      "(3387, 5)\n"
     ]
    },
    {
     "data": {
      "text/plain": [
       "title                0\n",
       "studio               5\n",
       "domestic_gross      28\n",
       "foreign_gross     1350\n",
       "year                 0\n",
       "dtype: int64"
      ]
     },
     "execution_count": 2851,
     "metadata": {},
     "output_type": "execute_result"
    }
   ],
   "source": [
    "print(bom_df.shape)\n",
    "bom_df.isna().sum()\n",
    "\n",
    "\n"
   ]
  },
  {
   "cell_type": "code",
   "execution_count": 2852,
   "metadata": {},
   "outputs": [
    {
     "name": "stdout",
     "output_type": "stream",
     "text": [
      "(1560, 12)\n"
     ]
    },
    {
     "data": {
      "text/plain": [
       "id                 0\n",
       "synopsis          62\n",
       "rating             3\n",
       "genre              8\n",
       "director         199\n",
       "writer           449\n",
       "theater_date     359\n",
       "dvd_date         359\n",
       "currency        1220\n",
       "box_office      1220\n",
       "runtime           30\n",
       "studio          1066\n",
       "dtype: int64"
      ]
     },
     "execution_count": 2852,
     "metadata": {},
     "output_type": "execute_result"
    }
   ],
   "source": [
    "print(movie_info_df.shape)\n",
    "movie_info_df.isna().sum()"
   ]
  },
  {
   "cell_type": "code",
   "execution_count": 2853,
   "metadata": {},
   "outputs": [
    {
     "name": "stdout",
     "output_type": "stream",
     "text": [
      "(54432, 8)\n"
     ]
    },
    {
     "data": {
      "text/plain": [
       "id                0\n",
       "review         5563\n",
       "rating        13517\n",
       "fresh             0\n",
       "critic         2722\n",
       "top_critic        0\n",
       "publisher       309\n",
       "date              0\n",
       "dtype: int64"
      ]
     },
     "execution_count": 2853,
     "metadata": {},
     "output_type": "execute_result"
    }
   ],
   "source": [
    "print(reviews_df.shape)\n",
    "reviews_df.isna().sum()"
   ]
  },
  {
   "cell_type": "code",
   "execution_count": 2854,
   "metadata": {},
   "outputs": [
    {
     "data": {
      "text/plain": [
       "Unnamed: 0           0\n",
       "genre_ids            0\n",
       "id                   0\n",
       "original_language    0\n",
       "original_title       0\n",
       "popularity           0\n",
       "release_date         0\n",
       "title                0\n",
       "vote_average         0\n",
       "vote_count           0\n",
       "dtype: int64"
      ]
     },
     "execution_count": 2854,
     "metadata": {},
     "output_type": "execute_result"
    }
   ],
   "source": [
    "tmdb_df.isna().sum()"
   ]
  },
  {
   "cell_type": "code",
   "execution_count": 2855,
   "metadata": {},
   "outputs": [
    {
     "data": {
      "text/plain": [
       "id                   0\n",
       "release_date         0\n",
       "movie                0\n",
       "production_budget    0\n",
       "domestic_gross       0\n",
       "worldwide_gross      0\n",
       "dtype: int64"
      ]
     },
     "execution_count": 2855,
     "metadata": {},
     "output_type": "execute_result"
    }
   ],
   "source": [
    "movie_budgets_df.isna().sum()"
   ]
  },
  {
   "cell_type": "code",
   "execution_count": 2856,
   "metadata": {},
   "outputs": [
    {
     "name": "stdout",
     "output_type": "stream",
     "text": [
      "(73856, 8)\n"
     ]
    },
    {
     "data": {
      "text/plain": [
       "movie_id              0\n",
       "primary_title         0\n",
       "original_title        0\n",
       "start_year            0\n",
       "runtime_minutes    7620\n",
       "genres              804\n",
       "averagerating         0\n",
       "numvotes              0\n",
       "dtype: int64"
      ]
     },
     "execution_count": 2856,
     "metadata": {},
     "output_type": "execute_result"
    }
   ],
   "source": [
    "print(imdb_df.shape)\n",
    "imdb_df.isna().sum()"
   ]
  },
  {
   "cell_type": "markdown",
   "metadata": {},
   "source": [
    "4. Clean Data"
   ]
  },
  {
   "cell_type": "markdown",
   "metadata": {},
   "source": [
    "A) bom_df"
   ]
  },
  {
   "cell_type": "code",
   "execution_count": 2857,
   "metadata": {},
   "outputs": [
    {
     "name": "stdout",
     "output_type": "stream",
     "text": [
      "Empty DataFrame\n",
      "Columns: [title, studio, domestic_gross, foreign_gross, year]\n",
      "Index: []\n"
     ]
    }
   ],
   "source": [
    "#drop rows with missing domestic_gross\n",
    "bom_df = bom_df.dropna(subset=['domestic_gross'])\n",
    "\n",
    "print(bom_df.loc[bom_df['domestic_gross'].isna()])"
   ]
  },
  {
   "cell_type": "code",
   "execution_count": 2858,
   "metadata": {},
   "outputs": [
    {
     "name": "stdout",
     "output_type": "stream",
     "text": [
      "0.40190532896695447\n"
     ]
    }
   ],
   "source": [
    "#check percentage of foreign_gross missing values\n",
    "bom_df['foreign_gross'].isna().sum()\n",
    "missing_values_count = len(bom_df[bom_df['foreign_gross'].isna()])\n",
    "total_rows = len(bom_df)\n",
    "\n",
    "proportion_missing_values = missing_values_count / total_rows\n",
    "print(proportion_missing_values)\n"
   ]
  },
  {
   "cell_type": "code",
   "execution_count": 2859,
   "metadata": {},
   "outputs": [
    {
     "name": "stdout",
     "output_type": "stream",
     "text": [
      "<class 'pandas.core.frame.DataFrame'>\n",
      "Int64Index: 3359 entries, 0 to 3386\n",
      "Data columns (total 5 columns):\n",
      " #   Column          Non-Null Count  Dtype  \n",
      "---  ------          --------------  -----  \n",
      " 0   title           3359 non-null   object \n",
      " 1   studio          3356 non-null   object \n",
      " 2   domestic_gross  3359 non-null   float64\n",
      " 3   foreign_gross   2004 non-null   float64\n",
      " 4   year            3359 non-null   int64  \n",
      "dtypes: float64(2), int64(1), object(2)\n",
      "memory usage: 157.5+ KB\n"
     ]
    }
   ],
   "source": [
    "#Change null values to numeric in order to perform mathematical operations on the column.\n",
    "bom_df['foreign_gross'] = pd.to_numeric(bom_df['foreign_gross'], errors='coerce')\n",
    "bom_df.info()\n"
   ]
  },
  {
   "cell_type": "code",
   "execution_count": 2860,
   "metadata": {},
   "outputs": [
    {
     "name": "stdout",
     "output_type": "stream",
     "text": [
      "                             title studio  domestic_gross  foreign_gross  year\n",
      "1872  Star Wars: The Force Awakens     BV     936700000.0            NaN  2015\n",
      "3079        Avengers: Infinity War     BV     678800000.0            NaN  2018\n",
      "1873                Jurassic World   Uni.     652300000.0            NaN  2015\n",
      "1874                     Furious 7   Uni.     353000000.0            NaN  2015\n",
      "2760       The Fate of the Furious   Uni.     226000000.0            NaN  2017\n",
      "3160                     Book Club   Par.      68600000.0            NaN  2018\n",
      "1955                      War Room   TriS      67800000.0            NaN  2015\n",
      "2864                All Eyez on Me   LG/S      44900000.0            NaN  2017\n",
      "833                Red Dawn (2012)     FD      44800000.0            NaN  2012\n",
      "2866                47 Meters Down  ENTMP      44300000.0            NaN  2017\n"
     ]
    }
   ],
   "source": [
    "#check the top 10 movies with missing foreign_domestic values\n",
    "missing_foreign_gross_movies = bom_df[bom_df['foreign_gross'].isna()]\n",
    "top_10_movies = missing_foreign_gross_movies.sort_values(by='domestic_gross', ascending=False).head(10)\n",
    "print(top_10_movies)"
   ]
  },
  {
   "cell_type": "code",
   "execution_count": 2861,
   "metadata": {},
   "outputs": [
    {
     "data": {
      "text/plain": [
       "title              0\n",
       "studio             0\n",
       "domestic_gross     0\n",
       "foreign_gross     58\n",
       "year               0\n",
       "dtype: int64"
      ]
     },
     "execution_count": 2861,
     "metadata": {},
     "output_type": "execute_result"
    }
   ],
   "source": [
    "#filter out movies with domestic gross < $10,000,000\n",
    "filtered_movies = bom_df[bom_df['domestic_gross'] >= 10000000]\n",
    "filtered_movies.isna().sum()"
   ]
  },
  {
   "cell_type": "code",
   "execution_count": 2862,
   "metadata": {},
   "outputs": [],
   "source": [
    "bom_df = filtered_movies"
   ]
  },
  {
   "cell_type": "code",
   "execution_count": 2863,
   "metadata": {},
   "outputs": [
    {
     "data": {
      "text/html": [
       "<div>\n",
       "<style scoped>\n",
       "    .dataframe tbody tr th:only-of-type {\n",
       "        vertical-align: middle;\n",
       "    }\n",
       "\n",
       "    .dataframe tbody tr th {\n",
       "        vertical-align: top;\n",
       "    }\n",
       "\n",
       "    .dataframe thead th {\n",
       "        text-align: right;\n",
       "    }\n",
       "</style>\n",
       "<table border=\"1\" class=\"dataframe\">\n",
       "  <thead>\n",
       "    <tr style=\"text-align: right;\">\n",
       "      <th></th>\n",
       "      <th>title</th>\n",
       "      <th>studio</th>\n",
       "      <th>domestic_gross</th>\n",
       "      <th>foreign_gross</th>\n",
       "      <th>year</th>\n",
       "      <th>gross_difference</th>\n",
       "    </tr>\n",
       "  </thead>\n",
       "  <tbody>\n",
       "    <tr>\n",
       "      <th>0</th>\n",
       "      <td>Toy Story 3</td>\n",
       "      <td>BV</td>\n",
       "      <td>415000000.0</td>\n",
       "      <td>652000000.0</td>\n",
       "      <td>2010</td>\n",
       "      <td>237000000.0</td>\n",
       "    </tr>\n",
       "    <tr>\n",
       "      <th>1</th>\n",
       "      <td>Alice in Wonderland (2010)</td>\n",
       "      <td>BV</td>\n",
       "      <td>334200000.0</td>\n",
       "      <td>691300000.0</td>\n",
       "      <td>2010</td>\n",
       "      <td>357100000.0</td>\n",
       "    </tr>\n",
       "    <tr>\n",
       "      <th>2</th>\n",
       "      <td>Harry Potter and the Deathly Hallows Part 1</td>\n",
       "      <td>WB</td>\n",
       "      <td>296000000.0</td>\n",
       "      <td>664300000.0</td>\n",
       "      <td>2010</td>\n",
       "      <td>368300000.0</td>\n",
       "    </tr>\n",
       "    <tr>\n",
       "      <th>3</th>\n",
       "      <td>Inception</td>\n",
       "      <td>WB</td>\n",
       "      <td>292600000.0</td>\n",
       "      <td>535700000.0</td>\n",
       "      <td>2010</td>\n",
       "      <td>243100000.0</td>\n",
       "    </tr>\n",
       "    <tr>\n",
       "      <th>4</th>\n",
       "      <td>Shrek Forever After</td>\n",
       "      <td>P/DW</td>\n",
       "      <td>238700000.0</td>\n",
       "      <td>513900000.0</td>\n",
       "      <td>2010</td>\n",
       "      <td>275200000.0</td>\n",
       "    </tr>\n",
       "  </tbody>\n",
       "</table>\n",
       "</div>"
      ],
      "text/plain": [
       "                                         title studio  domestic_gross  \\\n",
       "0                                  Toy Story 3     BV     415000000.0   \n",
       "1                   Alice in Wonderland (2010)     BV     334200000.0   \n",
       "2  Harry Potter and the Deathly Hallows Part 1     WB     296000000.0   \n",
       "3                                    Inception     WB     292600000.0   \n",
       "4                          Shrek Forever After   P/DW     238700000.0   \n",
       "\n",
       "   foreign_gross  year  gross_difference  \n",
       "0    652000000.0  2010       237000000.0  \n",
       "1    691300000.0  2010       357100000.0  \n",
       "2    664300000.0  2010       368300000.0  \n",
       "3    535700000.0  2010       243100000.0  \n",
       "4    513900000.0  2010       275200000.0  "
      ]
     },
     "execution_count": 2863,
     "metadata": {},
     "output_type": "execute_result"
    }
   ],
   "source": [
    "bom_df['gross_difference'] = bom_df['foreign_gross'] - bom_df['domestic_gross']\n",
    "bom_df.head()"
   ]
  },
  {
   "cell_type": "code",
   "execution_count": 2864,
   "metadata": {},
   "outputs": [],
   "source": [
    "average_difference = bom_df['gross_difference'].mean()\n",
    "bom_df['foreign_gross'] = bom_df['foreign_gross'].fillna(bom_df['domestic_gross'] + average_difference)\n",
    "bom_df = bom_df.drop(columns=['gross_difference'])\n",
    "\n"
   ]
  },
  {
   "cell_type": "code",
   "execution_count": 2865,
   "metadata": {},
   "outputs": [
    {
     "name": "stdout",
     "output_type": "stream",
     "text": [
      "<class 'pandas.core.frame.DataFrame'>\n",
      "Int64Index: 1170 entries, 0 to 3226\n",
      "Data columns (total 5 columns):\n",
      " #   Column          Non-Null Count  Dtype  \n",
      "---  ------          --------------  -----  \n",
      " 0   title           1170 non-null   object \n",
      " 1   studio          1170 non-null   object \n",
      " 2   domestic_gross  1170 non-null   float64\n",
      " 3   foreign_gross   1170 non-null   float64\n",
      " 4   year            1170 non-null   int64  \n",
      "dtypes: float64(2), int64(1), object(2)\n",
      "memory usage: 54.8+ KB\n"
     ]
    }
   ],
   "source": [
    "bom_df.info()"
   ]
  },
  {
   "cell_type": "markdown",
   "metadata": {},
   "source": [
    "B) movie_info_df"
   ]
  },
  {
   "cell_type": "code",
   "execution_count": 2866,
   "metadata": {},
   "outputs": [
    {
     "name": "stdout",
     "output_type": "stream",
     "text": [
      "<class 'pandas.core.frame.DataFrame'>\n",
      "RangeIndex: 1560 entries, 0 to 1559\n",
      "Data columns (total 12 columns):\n",
      " #   Column        Non-Null Count  Dtype \n",
      "---  ------        --------------  ----- \n",
      " 0   id            1560 non-null   int64 \n",
      " 1   synopsis      1498 non-null   object\n",
      " 2   rating        1557 non-null   object\n",
      " 3   genre         1552 non-null   object\n",
      " 4   director      1361 non-null   object\n",
      " 5   writer        1111 non-null   object\n",
      " 6   theater_date  1201 non-null   object\n",
      " 7   dvd_date      1201 non-null   object\n",
      " 8   currency      340 non-null    object\n",
      " 9   box_office    340 non-null    object\n",
      " 10  runtime       1530 non-null   object\n",
      " 11  studio        494 non-null    object\n",
      "dtypes: int64(1), object(11)\n",
      "memory usage: 146.4+ KB\n"
     ]
    }
   ],
   "source": [
    "movie_info_df.info()"
   ]
  },
  {
   "cell_type": "code",
   "execution_count": 2867,
   "metadata": {},
   "outputs": [],
   "source": [
    "movie_info_df['theater_date'] = pd.to_datetime(movie_info_df['theater_date'], errors='coerce')"
   ]
  },
  {
   "cell_type": "code",
   "execution_count": 2868,
   "metadata": {},
   "outputs": [],
   "source": [
    "movie_info_df = movie_info_df[movie_info_df['theater_date'].dt.year >= 2010]"
   ]
  },
  {
   "cell_type": "code",
   "execution_count": 2869,
   "metadata": {},
   "outputs": [
    {
     "name": "stdout",
     "output_type": "stream",
     "text": [
      "<class 'pandas.core.frame.DataFrame'>\n",
      "Int64Index: 204 entries, 1 to 1542\n",
      "Data columns (total 12 columns):\n",
      " #   Column        Non-Null Count  Dtype         \n",
      "---  ------        --------------  -----         \n",
      " 0   id            204 non-null    int64         \n",
      " 1   synopsis      204 non-null    object        \n",
      " 2   rating        204 non-null    object        \n",
      " 3   genre         204 non-null    object        \n",
      " 4   director      187 non-null    object        \n",
      " 5   writer        170 non-null    object        \n",
      " 6   theater_date  204 non-null    datetime64[ns]\n",
      " 7   dvd_date      204 non-null    object        \n",
      " 8   currency      138 non-null    object        \n",
      " 9   box_office    138 non-null    object        \n",
      " 10  runtime       197 non-null    object        \n",
      " 11  studio        165 non-null    object        \n",
      "dtypes: datetime64[ns](1), int64(1), object(10)\n",
      "memory usage: 20.7+ KB\n"
     ]
    }
   ],
   "source": [
    "movie_info_df.info()"
   ]
  },
  {
   "cell_type": "code",
   "execution_count": 2870,
   "metadata": {},
   "outputs": [],
   "source": [
    "#drop columns with many missing values.\n",
    "movie_info_df.dropna(subset=['box_office'],inplace=True)\n"
   ]
  },
  {
   "cell_type": "code",
   "execution_count": 2871,
   "metadata": {},
   "outputs": [
    {
     "name": "stdout",
     "output_type": "stream",
     "text": [
      "<class 'pandas.core.frame.DataFrame'>\n",
      "Int64Index: 138 entries, 1 to 1542\n",
      "Data columns (total 12 columns):\n",
      " #   Column        Non-Null Count  Dtype         \n",
      "---  ------        --------------  -----         \n",
      " 0   id            138 non-null    int64         \n",
      " 1   synopsis      138 non-null    object        \n",
      " 2   rating        138 non-null    object        \n",
      " 3   genre         138 non-null    object        \n",
      " 4   director      126 non-null    object        \n",
      " 5   writer        115 non-null    object        \n",
      " 6   theater_date  138 non-null    datetime64[ns]\n",
      " 7   dvd_date      138 non-null    object        \n",
      " 8   currency      138 non-null    object        \n",
      " 9   box_office    138 non-null    object        \n",
      " 10  runtime       136 non-null    object        \n",
      " 11  studio        121 non-null    object        \n",
      "dtypes: datetime64[ns](1), int64(1), object(10)\n",
      "memory usage: 14.0+ KB\n"
     ]
    }
   ],
   "source": [
    "movie_info_df.info()"
   ]
  },
  {
   "cell_type": "code",
   "execution_count": 2872,
   "metadata": {},
   "outputs": [],
   "source": [
    "movie_info_df['box_office'] = pd.to_numeric(movie_info_df['box_office'].str.replace(',', ''), errors='coerce')"
   ]
  },
  {
   "cell_type": "code",
   "execution_count": 2873,
   "metadata": {},
   "outputs": [],
   "source": [
    "#fill null values with str'N/A'\n",
    "movie_info_df.fillna('N/A',inplace=True)"
   ]
  },
  {
   "cell_type": "code",
   "execution_count": 2874,
   "metadata": {},
   "outputs": [
    {
     "name": "stdout",
     "output_type": "stream",
     "text": [
      "<class 'pandas.core.frame.DataFrame'>\n",
      "Int64Index: 138 entries, 1 to 1542\n",
      "Data columns (total 12 columns):\n",
      " #   Column        Non-Null Count  Dtype         \n",
      "---  ------        --------------  -----         \n",
      " 0   id            138 non-null    int64         \n",
      " 1   synopsis      138 non-null    object        \n",
      " 2   rating        138 non-null    object        \n",
      " 3   genre         138 non-null    object        \n",
      " 4   director      138 non-null    object        \n",
      " 5   writer        138 non-null    object        \n",
      " 6   theater_date  138 non-null    datetime64[ns]\n",
      " 7   dvd_date      138 non-null    object        \n",
      " 8   currency      138 non-null    object        \n",
      " 9   box_office    138 non-null    int64         \n",
      " 10  runtime       138 non-null    object        \n",
      " 11  studio        138 non-null    object        \n",
      "dtypes: datetime64[ns](1), int64(2), object(9)\n",
      "memory usage: 14.0+ KB\n"
     ]
    }
   ],
   "source": [
    "movie_info_df.info()"
   ]
  },
  {
   "cell_type": "markdown",
   "metadata": {},
   "source": [
    "C) reviews_df"
   ]
  },
  {
   "cell_type": "code",
   "execution_count": 2875,
   "metadata": {},
   "outputs": [
    {
     "name": "stdout",
     "output_type": "stream",
     "text": [
      "<class 'pandas.core.frame.DataFrame'>\n",
      "RangeIndex: 54432 entries, 0 to 54431\n",
      "Data columns (total 8 columns):\n",
      " #   Column      Non-Null Count  Dtype \n",
      "---  ------      --------------  ----- \n",
      " 0   id          54432 non-null  int64 \n",
      " 1   review      48869 non-null  object\n",
      " 2   rating      40915 non-null  object\n",
      " 3   fresh       54432 non-null  object\n",
      " 4   critic      51710 non-null  object\n",
      " 5   top_critic  54432 non-null  int64 \n",
      " 6   publisher   54123 non-null  object\n",
      " 7   date        54432 non-null  object\n",
      "dtypes: int64(2), object(6)\n",
      "memory usage: 3.3+ MB\n"
     ]
    }
   ],
   "source": [
    "reviews_df.info()"
   ]
  },
  {
   "cell_type": "code",
   "execution_count": 2876,
   "metadata": {},
   "outputs": [],
   "source": [
    "reviews_df['date'] = pd.to_datetime(reviews_df['date'], errors='coerce')"
   ]
  },
  {
   "cell_type": "code",
   "execution_count": 2877,
   "metadata": {},
   "outputs": [],
   "source": [
    "reviews_df = reviews_df[reviews_df['date'].dt.year >= 2010]"
   ]
  },
  {
   "cell_type": "code",
   "execution_count": 2878,
   "metadata": {},
   "outputs": [
    {
     "name": "stdout",
     "output_type": "stream",
     "text": [
      "<class 'pandas.core.frame.DataFrame'>\n",
      "Int64Index: 21067 entries, 0 to 54365\n",
      "Data columns (total 8 columns):\n",
      " #   Column      Non-Null Count  Dtype         \n",
      "---  ------      --------------  -----         \n",
      " 0   id          21067 non-null  int64         \n",
      " 1   review      20771 non-null  object        \n",
      " 2   rating      15298 non-null  object        \n",
      " 3   fresh       21067 non-null  object        \n",
      " 4   critic      20425 non-null  object        \n",
      " 5   top_critic  21067 non-null  int64         \n",
      " 6   publisher   20826 non-null  object        \n",
      " 7   date        21067 non-null  datetime64[ns]\n",
      "dtypes: datetime64[ns](1), int64(2), object(5)\n",
      "memory usage: 1.4+ MB\n"
     ]
    }
   ],
   "source": [
    "reviews_df.info()"
   ]
  },
  {
   "cell_type": "code",
   "execution_count": 2879,
   "metadata": {},
   "outputs": [
    {
     "data": {
      "text/plain": [
       "array(['3/5', nan, 'C', '2/5', 'B-', '2/4', 'B', '3/4', '4/5', '4/4',\n",
       "       '6/10', '1/4', '8', '2.5/4', '4/10', '2.0/5', '3/10', '7/10', 'A-',\n",
       "       '5/5', 'F', '3.5/4', 'D+', '1.5/4', '3.5/5', '8/10', 'B+', '9/10',\n",
       "       '2.5/5', '7.5/10', '5.5/10', 'C-', '1.5/5', '1/5', '5/10', 'C+',\n",
       "       '0/4', 'D', 'D-', '7', '3', 'A+', 'A', '4.5/5', '4.0/4', '9.5/10',\n",
       "       '2.5', '2.1/2', '6.5/10', '3.7/5', '8.4/10', '9', '1', '7.2/10',\n",
       "       '2.2/5', '0/5', '0.5/10', '7.7', '5.0/5', '6', '8.5/10', '3.0/5',\n",
       "       '2/10', '0.5/5', '1.5/10', '3.0/4', '2.3/10', '4.5/10', '3.5',\n",
       "       '8.6/10', '2.0/4', '2.7', '4.2/10', '7.1/10', 'N', '3.5/10', '4',\n",
       "       '5.8/10', 'R', '4.0/5', '1/10', '5.0/10', '5.9/10', '0.5/4',\n",
       "       '2.4/5', '4.9', '7.4/10', '1.5', '2.3/4', '8.8/10', '4.0/10', '5',\n",
       "       '2.2', '3.8/10', '6.8/10', '7.3', '4.2', '8.4', '6.3/10', '7.6/10',\n",
       "       '8.1/10', '3.6/5', '7.7/10', '1.8', '8.9/10', '8.9', '8.2/10',\n",
       "       '8.3/10', '4.1/10', '2.5/10', 'F+', '6.0/10', '1.0/4', '7.9/10',\n",
       "       '1.9/5', '8.7/10', '4.3/10', '9.6/10', '2', '0/10', '9.0/10',\n",
       "       '4.0', '1.7', '7.0/10', '7.9', '8.0/10', '5.9', '6.2/10', '8.2',\n",
       "       '2.6/5', '3.4', '9.7', '3.3/5', '3.8/5', '7.4', '4.8', '4.7',\n",
       "       '2/2', '1-5', '1.0', '9.2', '4.9/10', '3.0', '3.1', '7.8/10', 'F-',\n",
       "       '2.3/5', '3/2', '7.8', '4.2/5', '9.2/10', '9.0', '4.5', '7.3/10',\n",
       "       '4.4/5', '6.9/10', '3.3', '9.8', '3.7', '8.5', '1.0/5', '4.1',\n",
       "       '7.1', '3 1/2'], dtype=object)"
      ]
     },
     "execution_count": 2879,
     "metadata": {},
     "output_type": "execute_result"
    }
   ],
   "source": [
    "reviews_df['rating'].unique()"
   ]
  },
  {
   "cell_type": "markdown",
   "metadata": {},
   "source": [
    "ratings seem to have different values I need to make all the ratings out of 10 for valid analysis to be performed"
   ]
  },
  {
   "cell_type": "code",
   "execution_count": 2880,
   "metadata": {},
   "outputs": [],
   "source": [
    "\n",
    "def convert_to_10(rating):\n",
    "     # Ensure input is a string\n",
    "    grade_mapping = {'A+': 10, 'A': 9.5, 'A-': 9, 'B+': 8.5, 'B': 8, 'B-': 7.5, 'C+': 7, 'C': 6.5, 'C-': 6, 'D+': 5.5, 'D': 5,'D-': 4.5, 'F+':2.5,'F': 2,'F-': 1.5}\n",
    "    \n",
    "    if rating in grade_mapping:\n",
    "        return grade_mapping[rating]\n",
    "    else:\n",
    "        return rating\n",
    "    \n",
    "\n",
    "\n",
    "             "
   ]
  },
  {
   "cell_type": "code",
   "execution_count": 2881,
   "metadata": {},
   "outputs": [
    {
     "data": {
      "text/plain": [
       "array(['3/5', nan, 6.5, '2/5', 7.5, '2/4', 8, '3/4', '4/5', '4/4', '6/10',\n",
       "       '1/4', '8', '2.5/4', '4/10', '2.0/5', '3/10', '7/10', 9, '5/5', 2,\n",
       "       '3.5/4', 5.5, '1.5/4', '3.5/5', '8/10', 8.5, '9/10', '2.5/5',\n",
       "       '7.5/10', '5.5/10', 6, '1.5/5', '1/5', '5/10', 7, '0/4', 5, 4.5,\n",
       "       '7', '3', 10, 9.5, '4.5/5', '4.0/4', '9.5/10', '2.5', '2.1/2',\n",
       "       '6.5/10', '3.7/5', '8.4/10', '9', '1', '7.2/10', '2.2/5', '0/5',\n",
       "       '0.5/10', '7.7', '5.0/5', '6', '8.5/10', '3.0/5', '2/10', '0.5/5',\n",
       "       '1.5/10', '3.0/4', '2.3/10', '4.5/10', '3.5', '8.6/10', '2.0/4',\n",
       "       '2.7', '4.2/10', '7.1/10', 'N', '3.5/10', '4', '5.8/10', 'R',\n",
       "       '4.0/5', '1/10', '5.0/10', '5.9/10', '0.5/4', '2.4/5', '4.9',\n",
       "       '7.4/10', '1.5', '2.3/4', '8.8/10', '4.0/10', '5', '2.2', '3.8/10',\n",
       "       '6.8/10', '7.3', '4.2', '8.4', '6.3/10', '7.6/10', '8.1/10',\n",
       "       '3.6/5', '7.7/10', '1.8', '8.9/10', '8.9', '8.2/10', '8.3/10',\n",
       "       '4.1/10', '2.5/10', 2.5, '6.0/10', '1.0/4', '7.9/10', '1.9/5',\n",
       "       '8.7/10', '4.3/10', '9.6/10', '2', '0/10', '9.0/10', '4.0', '1.7',\n",
       "       '7.0/10', '7.9', '8.0/10', '5.9', '6.2/10', '8.2', '2.6/5', '3.4',\n",
       "       '9.7', '3.3/5', '3.8/5', '7.4', '4.8', '4.7', '2/2', '1-5', '1.0',\n",
       "       '9.2', '4.9/10', '3.0', '3.1', '7.8/10', 1.5, '2.3/5', '3/2',\n",
       "       '7.8', '4.2/5', '9.2/10', '9.0', '4.5', '7.3/10', '4.4/5',\n",
       "       '6.9/10', '3.3', '9.8', '3.7', '8.5', '1.0/5', '4.1', '7.1',\n",
       "       '3 1/2'], dtype=object)"
      ]
     },
     "execution_count": 2881,
     "metadata": {},
     "output_type": "execute_result"
    }
   ],
   "source": [
    "reviews_df['rating out_of_ten'] =  reviews_df['rating'].apply(convert_to_10)\n",
    "reviews_df['rating out_of_ten'].unique()\n"
   ]
  },
  {
   "cell_type": "code",
   "execution_count": 2882,
   "metadata": {},
   "outputs": [
    {
     "name": "stdout",
     "output_type": "stream",
     "text": [
      "3/6: 5.0\n",
      "3.8/5: 7.6\n",
      "1-5: None\n",
      "7: 7.0\n",
      "N: None\n",
      "9.8: 9.8\n",
      "R: None\n",
      "T: None\n",
      "None: None\n",
      "6/10: 6.0\n",
      "0.7: 0.7\n",
      "3 1/2: None\n",
      "4.0/4: 10.0\n",
      "2.1/2: 10.5\n"
     ]
    }
   ],
   "source": [
    "def normalize_rating(rating):\n",
    "    if rating is None or rating == 'N' or rating == 'R' or rating == 'T':\n",
    "        return None  # Return None for special cases\n",
    "    \n",
    "    if '/' in str(rating):\n",
    "        parts = rating.split('/')\n",
    "        if ' ' in parts[0]:\n",
    "            return None  # Treat irregular ratings like '3 1/2' as null\n",
    "        numerator = float(parts[0])\n",
    "        denominator = float(parts[1])\n",
    "        return (numerator / denominator) * 10  # Normalize to be out of ten\n",
    "    \n",
    "    if '-' in str(rating):\n",
    "        return None  # Treat irregular ratings like '1-5' as null\n",
    "    \n",
    "    return float(rating)  # For other cases, simply convert to float\n",
    "\n",
    "# Test the function\n",
    "ratings = ['3/6', '3.8/5', '1-5', '7', 'N', '9.8', 'R', 'T', None, '6/10', 0.7, '3 1/2','4.0/4','2.1/2']\n",
    "for rating in ratings:\n",
    "    normalized = normalize_rating(rating)\n",
    "    print(f\"{rating}: {normalized}\")\n"
   ]
  },
  {
   "cell_type": "code",
   "execution_count": 2883,
   "metadata": {},
   "outputs": [],
   "source": [
    "reviews_df['rating out_of_ten'] = reviews_df['rating out_of_ten'].apply(normalize_rating)"
   ]
  },
  {
   "cell_type": "code",
   "execution_count": 2884,
   "metadata": {},
   "outputs": [
    {
     "data": {
      "text/plain": [
       "array([ 6.  ,   nan,  6.5 ,  4.  ,  7.5 ,  5.  ,  8.  , 10.  ,  2.5 ,\n",
       "        6.25,  3.  ,  7.  ,  9.  ,  2.  ,  8.75,  5.5 ,  3.75,  8.5 ,\n",
       "        0.  ,  4.5 ,  9.5 , 10.5 ,  7.4 ,  8.4 ,  1.  ,  7.2 ,  4.4 ,\n",
       "        0.5 ,  7.7 ,  1.5 ,  2.3 ,  3.5 ,  8.6 ,  2.7 ,  4.2 ,  7.1 ,\n",
       "        5.8 ,  5.9 ,  1.25,  4.8 ,  4.9 ,  5.75,  8.8 ,  2.2 ,  3.8 ,\n",
       "        6.8 ,  7.3 ,  6.3 ,  7.6 ,  8.1 ,  1.8 ,  8.9 ,  8.2 ,  8.3 ,\n",
       "        4.1 ,  7.9 ,  8.7 ,  4.3 ,  9.6 ,  1.7 ,  6.2 ,  5.2 ,  3.4 ,\n",
       "        9.7 ,  6.6 ,  4.7 ,  9.2 ,  3.1 ,  7.8 ,  4.6 , 15.  ,  7.8 ,\n",
       "        6.9 ,  3.3 ,  9.8 ,  3.7 ])"
      ]
     },
     "execution_count": 2884,
     "metadata": {},
     "output_type": "execute_result"
    }
   ],
   "source": [
    "reviews_df['rating out_of_ten'].unique()"
   ]
  },
  {
   "cell_type": "code",
   "execution_count": 2885,
   "metadata": {},
   "outputs": [],
   "source": [
    "reviews_df.dropna(subset = ['rating out_of_ten'],inplace=True)"
   ]
  },
  {
   "cell_type": "code",
   "execution_count": 2886,
   "metadata": {},
   "outputs": [
    {
     "name": "stdout",
     "output_type": "stream",
     "text": [
      "<class 'pandas.core.frame.DataFrame'>\n",
      "Int64Index: 15289 entries, 0 to 54365\n",
      "Data columns (total 9 columns):\n",
      " #   Column             Non-Null Count  Dtype         \n",
      "---  ------             --------------  -----         \n",
      " 0   id                 15289 non-null  int64         \n",
      " 1   review             14995 non-null  object        \n",
      " 2   rating             15289 non-null  object        \n",
      " 3   fresh              15289 non-null  object        \n",
      " 4   critic             14848 non-null  object        \n",
      " 5   top_critic         15289 non-null  int64         \n",
      " 6   publisher          15130 non-null  object        \n",
      " 7   date               15289 non-null  datetime64[ns]\n",
      " 8   rating out_of_ten  15289 non-null  float64       \n",
      "dtypes: datetime64[ns](1), float64(1), int64(2), object(5)\n",
      "memory usage: 1.2+ MB\n"
     ]
    }
   ],
   "source": [
    "reviews_df.info()"
   ]
  },
  {
   "cell_type": "code",
   "execution_count": 2887,
   "metadata": {},
   "outputs": [],
   "source": [
    "reviews_df.fillna('N/A',inplace=True)"
   ]
  },
  {
   "cell_type": "code",
   "execution_count": 2888,
   "metadata": {},
   "outputs": [
    {
     "name": "stdout",
     "output_type": "stream",
     "text": [
      "<class 'pandas.core.frame.DataFrame'>\n",
      "Int64Index: 15289 entries, 0 to 54365\n",
      "Data columns (total 9 columns):\n",
      " #   Column             Non-Null Count  Dtype         \n",
      "---  ------             --------------  -----         \n",
      " 0   id                 15289 non-null  int64         \n",
      " 1   review             15289 non-null  object        \n",
      " 2   rating             15289 non-null  object        \n",
      " 3   fresh              15289 non-null  object        \n",
      " 4   critic             15289 non-null  object        \n",
      " 5   top_critic         15289 non-null  int64         \n",
      " 6   publisher          15289 non-null  object        \n",
      " 7   date               15289 non-null  datetime64[ns]\n",
      " 8   rating out_of_ten  15289 non-null  float64       \n",
      "dtypes: datetime64[ns](1), float64(1), int64(2), object(5)\n",
      "memory usage: 1.2+ MB\n"
     ]
    }
   ],
   "source": [
    "reviews_df.info()"
   ]
  },
  {
   "cell_type": "markdown",
   "metadata": {},
   "source": [
    "D) imdb_df"
   ]
  },
  {
   "cell_type": "code",
   "execution_count": 2889,
   "metadata": {},
   "outputs": [
    {
     "name": "stdout",
     "output_type": "stream",
     "text": [
      "<class 'pandas.core.frame.DataFrame'>\n",
      "RangeIndex: 73856 entries, 0 to 73855\n",
      "Data columns (total 8 columns):\n",
      " #   Column           Non-Null Count  Dtype  \n",
      "---  ------           --------------  -----  \n",
      " 0   movie_id         73856 non-null  object \n",
      " 1   primary_title    73856 non-null  object \n",
      " 2   original_title   73856 non-null  object \n",
      " 3   start_year       73856 non-null  int64  \n",
      " 4   runtime_minutes  66236 non-null  float64\n",
      " 5   genres           73052 non-null  object \n",
      " 6   averagerating    73856 non-null  float64\n",
      " 7   numvotes         73856 non-null  int64  \n",
      "dtypes: float64(2), int64(2), object(4)\n",
      "memory usage: 4.5+ MB\n"
     ]
    }
   ],
   "source": [
    "imdb_df.info()"
   ]
  },
  {
   "cell_type": "code",
   "execution_count": 2890,
   "metadata": {},
   "outputs": [],
   "source": [
    "imdb_df = imdb_df[imdb_df['start_year']>=2010]"
   ]
  },
  {
   "cell_type": "code",
   "execution_count": 2891,
   "metadata": {},
   "outputs": [],
   "source": [
    "imdb_df['genres'].fillna('N/A',inplace=True)"
   ]
  },
  {
   "cell_type": "code",
   "execution_count": 2892,
   "metadata": {},
   "outputs": [
    {
     "name": "stdout",
     "output_type": "stream",
     "text": [
      "<class 'pandas.core.frame.DataFrame'>\n",
      "Int64Index: 73856 entries, 0 to 73855\n",
      "Data columns (total 8 columns):\n",
      " #   Column           Non-Null Count  Dtype  \n",
      "---  ------           --------------  -----  \n",
      " 0   movie_id         73856 non-null  object \n",
      " 1   primary_title    73856 non-null  object \n",
      " 2   original_title   73856 non-null  object \n",
      " 3   start_year       73856 non-null  int64  \n",
      " 4   runtime_minutes  66236 non-null  float64\n",
      " 5   genres           73856 non-null  object \n",
      " 6   averagerating    73856 non-null  float64\n",
      " 7   numvotes         73856 non-null  int64  \n",
      "dtypes: float64(2), int64(2), object(4)\n",
      "memory usage: 5.1+ MB\n"
     ]
    }
   ],
   "source": [
    "imdb_df.info()"
   ]
  },
  {
   "cell_type": "markdown",
   "metadata": {},
   "source": [
    "E) tmdb_df"
   ]
  },
  {
   "cell_type": "code",
   "execution_count": 2893,
   "metadata": {},
   "outputs": [
    {
     "name": "stdout",
     "output_type": "stream",
     "text": [
      "<class 'pandas.core.frame.DataFrame'>\n",
      "RangeIndex: 26517 entries, 0 to 26516\n",
      "Data columns (total 10 columns):\n",
      " #   Column             Non-Null Count  Dtype  \n",
      "---  ------             --------------  -----  \n",
      " 0   Unnamed: 0         26517 non-null  int64  \n",
      " 1   genre_ids          26517 non-null  object \n",
      " 2   id                 26517 non-null  int64  \n",
      " 3   original_language  26517 non-null  object \n",
      " 4   original_title     26517 non-null  object \n",
      " 5   popularity         26517 non-null  float64\n",
      " 6   release_date       26517 non-null  object \n",
      " 7   title              26517 non-null  object \n",
      " 8   vote_average       26517 non-null  float64\n",
      " 9   vote_count         26517 non-null  int64  \n",
      "dtypes: float64(2), int64(3), object(5)\n",
      "memory usage: 2.0+ MB\n"
     ]
    }
   ],
   "source": [
    "tmdb_df.info()"
   ]
  },
  {
   "cell_type": "code",
   "execution_count": 2894,
   "metadata": {},
   "outputs": [],
   "source": [
    "tmdb_df['release_date'] = pd.to_datetime(tmdb_df['release_date'],errors = 'coerce')"
   ]
  },
  {
   "cell_type": "code",
   "execution_count": 2895,
   "metadata": {},
   "outputs": [],
   "source": [
    "tmdb_df =  tmdb_df[tmdb_df['release_date'].dt.year >= 2010]"
   ]
  },
  {
   "cell_type": "code",
   "execution_count": 2896,
   "metadata": {},
   "outputs": [
    {
     "name": "stdout",
     "output_type": "stream",
     "text": [
      "<class 'pandas.core.frame.DataFrame'>\n",
      "Int64Index: 26291 entries, 0 to 26516\n",
      "Data columns (total 10 columns):\n",
      " #   Column             Non-Null Count  Dtype         \n",
      "---  ------             --------------  -----         \n",
      " 0   Unnamed: 0         26291 non-null  int64         \n",
      " 1   genre_ids          26291 non-null  object        \n",
      " 2   id                 26291 non-null  int64         \n",
      " 3   original_language  26291 non-null  object        \n",
      " 4   original_title     26291 non-null  object        \n",
      " 5   popularity         26291 non-null  float64       \n",
      " 6   release_date       26291 non-null  datetime64[ns]\n",
      " 7   title              26291 non-null  object        \n",
      " 8   vote_average       26291 non-null  float64       \n",
      " 9   vote_count         26291 non-null  int64         \n",
      "dtypes: datetime64[ns](1), float64(2), int64(3), object(4)\n",
      "memory usage: 2.2+ MB\n"
     ]
    }
   ],
   "source": [
    "tmdb_df.info()"
   ]
  },
  {
   "cell_type": "markdown",
   "metadata": {},
   "source": [
    "F) movie_budgets_df"
   ]
  },
  {
   "cell_type": "code",
   "execution_count": 2897,
   "metadata": {},
   "outputs": [
    {
     "name": "stdout",
     "output_type": "stream",
     "text": [
      "<class 'pandas.core.frame.DataFrame'>\n",
      "RangeIndex: 5782 entries, 0 to 5781\n",
      "Data columns (total 6 columns):\n",
      " #   Column             Non-Null Count  Dtype \n",
      "---  ------             --------------  ----- \n",
      " 0   id                 5782 non-null   int64 \n",
      " 1   release_date       5782 non-null   object\n",
      " 2   movie              5782 non-null   object\n",
      " 3   production_budget  5782 non-null   object\n",
      " 4   domestic_gross     5782 non-null   object\n",
      " 5   worldwide_gross    5782 non-null   object\n",
      "dtypes: int64(1), object(5)\n",
      "memory usage: 271.2+ KB\n"
     ]
    }
   ],
   "source": [
    "movie_budgets_df.info()"
   ]
  },
  {
   "cell_type": "code",
   "execution_count": 2898,
   "metadata": {},
   "outputs": [],
   "source": [
    "movie_budgets_df['release_date'] = pd.to_datetime(movie_budgets_df['release_date'])"
   ]
  },
  {
   "cell_type": "code",
   "execution_count": 2899,
   "metadata": {},
   "outputs": [],
   "source": [
    "movie_budgets_df =  movie_budgets_df[movie_budgets_df['release_date'].dt.year >= 2010]"
   ]
  },
  {
   "cell_type": "code",
   "execution_count": 2900,
   "metadata": {},
   "outputs": [
    {
     "name": "stdout",
     "output_type": "stream",
     "text": [
      "<class 'pandas.core.frame.DataFrame'>\n",
      "Int64Index: 2194 entries, 1 to 5780\n",
      "Data columns (total 6 columns):\n",
      " #   Column             Non-Null Count  Dtype         \n",
      "---  ------             --------------  -----         \n",
      " 0   id                 2194 non-null   int64         \n",
      " 1   release_date       2194 non-null   datetime64[ns]\n",
      " 2   movie              2194 non-null   object        \n",
      " 3   production_budget  2194 non-null   object        \n",
      " 4   domestic_gross     2194 non-null   object        \n",
      " 5   worldwide_gross    2194 non-null   object        \n",
      "dtypes: datetime64[ns](1), int64(1), object(4)\n",
      "memory usage: 120.0+ KB\n"
     ]
    }
   ],
   "source": [
    "movie_budgets_df.info()"
   ]
  },
  {
   "cell_type": "markdown",
   "metadata": {},
   "source": [
    "DATA ANALYSIS AND VISUALIZATION"
   ]
  },
  {
   "cell_type": "markdown",
   "metadata": {},
   "source": [
    "A) Identify Movies with highest gross"
   ]
  },
  {
   "cell_type": "code",
   "execution_count": 2901,
   "metadata": {},
   "outputs": [
    {
     "name": "stdout",
     "output_type": "stream",
     "text": [
      "<class 'pandas.core.frame.DataFrame'>\n",
      "Int64Index: 1170 entries, 0 to 3226\n",
      "Data columns (total 5 columns):\n",
      " #   Column          Non-Null Count  Dtype  \n",
      "---  ------          --------------  -----  \n",
      " 0   title           1170 non-null   object \n",
      " 1   studio          1170 non-null   object \n",
      " 2   domestic_gross  1170 non-null   float64\n",
      " 3   foreign_gross   1170 non-null   float64\n",
      " 4   year            1170 non-null   int64  \n",
      "dtypes: float64(2), int64(1), object(2)\n",
      "memory usage: 54.8+ KB\n"
     ]
    }
   ],
   "source": [
    "bom_df.info()"
   ]
  },
  {
   "cell_type": "code",
   "execution_count": 2902,
   "metadata": {},
   "outputs": [
    {
     "data": {
      "text/html": [
       "<div>\n",
       "<style scoped>\n",
       "    .dataframe tbody tr th:only-of-type {\n",
       "        vertical-align: middle;\n",
       "    }\n",
       "\n",
       "    .dataframe tbody tr th {\n",
       "        vertical-align: top;\n",
       "    }\n",
       "\n",
       "    .dataframe thead th {\n",
       "        text-align: right;\n",
       "    }\n",
       "</style>\n",
       "<table border=\"1\" class=\"dataframe\">\n",
       "  <thead>\n",
       "    <tr style=\"text-align: right;\">\n",
       "      <th></th>\n",
       "      <th>title</th>\n",
       "      <th>studio</th>\n",
       "      <th>domestic_gross</th>\n",
       "      <th>foreign_gross</th>\n",
       "      <th>year</th>\n",
       "    </tr>\n",
       "  </thead>\n",
       "  <tbody>\n",
       "    <tr>\n",
       "      <th>3210</th>\n",
       "      <td>Free Solo</td>\n",
       "      <td>NGE</td>\n",
       "      <td>17500000.0</td>\n",
       "      <td>5.813447e+07</td>\n",
       "      <td>2018</td>\n",
       "    </tr>\n",
       "    <tr>\n",
       "      <th>3213</th>\n",
       "      <td>Hunter Killer</td>\n",
       "      <td>LG/S</td>\n",
       "      <td>15800000.0</td>\n",
       "      <td>5.643447e+07</td>\n",
       "      <td>2018</td>\n",
       "    </tr>\n",
       "    <tr>\n",
       "      <th>3216</th>\n",
       "      <td>Upgrade</td>\n",
       "      <td>BH Tilt</td>\n",
       "      <td>12000000.0</td>\n",
       "      <td>2.400000e+06</td>\n",
       "      <td>2018</td>\n",
       "    </tr>\n",
       "    <tr>\n",
       "      <th>3219</th>\n",
       "      <td>Welcome to Marwen</td>\n",
       "      <td>Uni.</td>\n",
       "      <td>10800000.0</td>\n",
       "      <td>2.100000e+06</td>\n",
       "      <td>2018</td>\n",
       "    </tr>\n",
       "    <tr>\n",
       "      <th>3226</th>\n",
       "      <td>The Old Man &amp; the Gun</td>\n",
       "      <td>FoxS</td>\n",
       "      <td>11300000.0</td>\n",
       "      <td>5.193447e+07</td>\n",
       "      <td>2018</td>\n",
       "    </tr>\n",
       "  </tbody>\n",
       "</table>\n",
       "</div>"
      ],
      "text/plain": [
       "                      title   studio  domestic_gross  foreign_gross  year\n",
       "3210              Free Solo      NGE      17500000.0   5.813447e+07  2018\n",
       "3213          Hunter Killer     LG/S      15800000.0   5.643447e+07  2018\n",
       "3216                Upgrade  BH Tilt      12000000.0   2.400000e+06  2018\n",
       "3219      Welcome to Marwen     Uni.      10800000.0   2.100000e+06  2018\n",
       "3226  The Old Man & the Gun     FoxS      11300000.0   5.193447e+07  2018"
      ]
     },
     "execution_count": 2902,
     "metadata": {},
     "output_type": "execute_result"
    }
   ],
   "source": [
    "bom_df.tail()"
   ]
  },
  {
   "cell_type": "code",
   "execution_count": 2903,
   "metadata": {},
   "outputs": [],
   "source": [
    "bom_df['worldwide_gross'] = bom_df['domestic_gross'] + bom_df['foreign_gross']"
   ]
  },
  {
   "cell_type": "code",
   "execution_count": 2904,
   "metadata": {},
   "outputs": [],
   "source": [
    "bom_df_sorted = bom_df.sort_values(by='worldwide_gross', ascending=False)"
   ]
  },
  {
   "cell_type": "code",
   "execution_count": 2905,
   "metadata": {},
   "outputs": [
    {
     "data": {
      "image/png": "[encoded data removed]",
      "text/plain": [
       "<Figure size 720x432 with 1 Axes>"
      ]
     },
     "metadata": {
      "needs_background": "light"
     },
     "output_type": "display_data"
    }
   ],
   "source": [
    "\n",
    "# Extract movie titles and worldwide gross\n",
    "movie_titles = bom_df_sorted['title'].head(20)\n",
    "worldwide_gross = bom_df_sorted['worldwide_gross'].head(20)\n",
    "\n",
    "# Plot the bar chart\n",
    "plt.figure(figsize=(10, 6))  # Set the figure size\n",
    "plt.bar(movie_titles, worldwide_gross)\n",
    "\n",
    "\n",
    "plt.xticks(rotation=90)\n",
    "\n",
    "# Add labels and title\n",
    "plt.xlabel('Movie Title')\n",
    "plt.ylabel('Worldwide Gross')\n",
    "plt.title('Worldwide Gross for Top 20 Movies')\n",
    "\n",
    "# Show the plot\n",
    "plt.tight_layout()  # Adjust layout to prevent clipping of labels\n",
    "plt.show()\n"
   ]
  },
  {
   "cell_type": "code",
   "execution_count": 2906,
   "metadata": {},
   "outputs": [
    {
     "data": {
      "text/html": [
       "<div>\n",
       "<style scoped>\n",
       "    .dataframe tbody tr th:only-of-type {\n",
       "        vertical-align: middle;\n",
       "    }\n",
       "\n",
       "    .dataframe tbody tr th {\n",
       "        vertical-align: top;\n",
       "    }\n",
       "\n",
       "    .dataframe thead th {\n",
       "        text-align: right;\n",
       "    }\n",
       "</style>\n",
       "<table border=\"1\" class=\"dataframe\">\n",
       "  <thead>\n",
       "    <tr style=\"text-align: right;\">\n",
       "      <th></th>\n",
       "      <th>id</th>\n",
       "      <th>release_date</th>\n",
       "      <th>movie</th>\n",
       "      <th>production_budget</th>\n",
       "      <th>domestic_gross</th>\n",
       "      <th>worldwide_gross</th>\n",
       "    </tr>\n",
       "  </thead>\n",
       "  <tbody>\n",
       "    <tr>\n",
       "      <th>5761</th>\n",
       "      <td>62</td>\n",
       "      <td>2014-12-31</td>\n",
       "      <td>Stories of Our Lives</td>\n",
       "      <td>$15,000</td>\n",
       "      <td>$0</td>\n",
       "      <td>$0</td>\n",
       "    </tr>\n",
       "    <tr>\n",
       "      <th>5771</th>\n",
       "      <td>72</td>\n",
       "      <td>2015-05-19</td>\n",
       "      <td>Family Motocross</td>\n",
       "      <td>$10,000</td>\n",
       "      <td>$0</td>\n",
       "      <td>$0</td>\n",
       "    </tr>\n",
       "    <tr>\n",
       "      <th>5772</th>\n",
       "      <td>73</td>\n",
       "      <td>2012-01-13</td>\n",
       "      <td>Newlyweds</td>\n",
       "      <td>$9,000</td>\n",
       "      <td>$4,584</td>\n",
       "      <td>$4,584</td>\n",
       "    </tr>\n",
       "    <tr>\n",
       "      <th>5777</th>\n",
       "      <td>78</td>\n",
       "      <td>2018-12-31</td>\n",
       "      <td>Red 11</td>\n",
       "      <td>$7,000</td>\n",
       "      <td>$0</td>\n",
       "      <td>$0</td>\n",
       "    </tr>\n",
       "    <tr>\n",
       "      <th>5780</th>\n",
       "      <td>81</td>\n",
       "      <td>2015-09-29</td>\n",
       "      <td>A Plague So Pleasant</td>\n",
       "      <td>$1,400</td>\n",
       "      <td>$0</td>\n",
       "      <td>$0</td>\n",
       "    </tr>\n",
       "  </tbody>\n",
       "</table>\n",
       "</div>"
      ],
      "text/plain": [
       "      id release_date                 movie production_budget domestic_gross  \\\n",
       "5761  62   2014-12-31  Stories of Our Lives           $15,000             $0   \n",
       "5771  72   2015-05-19      Family Motocross           $10,000             $0   \n",
       "5772  73   2012-01-13             Newlyweds            $9,000         $4,584   \n",
       "5777  78   2018-12-31                Red 11            $7,000             $0   \n",
       "5780  81   2015-09-29  A Plague So Pleasant            $1,400             $0   \n",
       "\n",
       "     worldwide_gross  \n",
       "5761              $0  \n",
       "5771              $0  \n",
       "5772          $4,584  \n",
       "5777              $0  \n",
       "5780              $0  "
      ]
     },
     "execution_count": 2906,
     "metadata": {},
     "output_type": "execute_result"
    }
   ],
   "source": [
    "movie_budgets_df.tail()"
   ]
  },
  {
   "cell_type": "code",
   "execution_count": 2907,
   "metadata": {},
   "outputs": [
    {
     "name": "stdout",
     "output_type": "stream",
     "text": [
      "<class 'pandas.core.frame.DataFrame'>\n",
      "Int64Index: 2194 entries, 1 to 5780\n",
      "Data columns (total 6 columns):\n",
      " #   Column             Non-Null Count  Dtype         \n",
      "---  ------             --------------  -----         \n",
      " 0   id                 2194 non-null   int64         \n",
      " 1   release_date       2194 non-null   datetime64[ns]\n",
      " 2   movie              2194 non-null   object        \n",
      " 3   production_budget  2194 non-null   float64       \n",
      " 4   domestic_gross     2194 non-null   float64       \n",
      " 5   worldwide_gross    2194 non-null   float64       \n",
      "dtypes: datetime64[ns](1), float64(3), int64(1), object(1)\n",
      "memory usage: 120.0+ KB\n"
     ]
    }
   ],
   "source": [
    "\n",
    "# Remove the dollar sign ($) and commas from the specified columns\n",
    "movie_budgets_df['production_budget'] = movie_budgets_df['production_budget'].str.replace('[$,]', '').astype(float)\n",
    "movie_budgets_df['domestic_gross'] = movie_budgets_df['domestic_gross'].str.replace('[$,]', '').astype(float)\n",
    "movie_budgets_df['worldwide_gross'] = movie_budgets_df['worldwide_gross'].str.replace('[$,]', '').astype(float)\n",
    "\n",
    "\n",
    "\n",
    "movie_budgets_df.info()\n",
    "\n",
    " "
   ]
  },
  {
   "cell_type": "code",
   "execution_count": 2908,
   "metadata": {},
   "outputs": [
    {
     "data": {
      "text/html": [
       "<div>\n",
       "<style scoped>\n",
       "    .dataframe tbody tr th:only-of-type {\n",
       "        vertical-align: middle;\n",
       "    }\n",
       "\n",
       "    .dataframe tbody tr th {\n",
       "        vertical-align: top;\n",
       "    }\n",
       "\n",
       "    .dataframe thead th {\n",
       "        text-align: right;\n",
       "    }\n",
       "</style>\n",
       "<table border=\"1\" class=\"dataframe\">\n",
       "  <thead>\n",
       "    <tr style=\"text-align: right;\">\n",
       "      <th></th>\n",
       "      <th>id</th>\n",
       "      <th>release_date</th>\n",
       "      <th>movie</th>\n",
       "      <th>production_budget</th>\n",
       "      <th>domestic_gross</th>\n",
       "      <th>worldwide_gross</th>\n",
       "    </tr>\n",
       "  </thead>\n",
       "  <tbody>\n",
       "    <tr>\n",
       "      <th>5761</th>\n",
       "      <td>62</td>\n",
       "      <td>2014-12-31</td>\n",
       "      <td>Stories of Our Lives</td>\n",
       "      <td>15000.0</td>\n",
       "      <td>0.0</td>\n",
       "      <td>0.0</td>\n",
       "    </tr>\n",
       "    <tr>\n",
       "      <th>5771</th>\n",
       "      <td>72</td>\n",
       "      <td>2015-05-19</td>\n",
       "      <td>Family Motocross</td>\n",
       "      <td>10000.0</td>\n",
       "      <td>0.0</td>\n",
       "      <td>0.0</td>\n",
       "    </tr>\n",
       "    <tr>\n",
       "      <th>5772</th>\n",
       "      <td>73</td>\n",
       "      <td>2012-01-13</td>\n",
       "      <td>Newlyweds</td>\n",
       "      <td>9000.0</td>\n",
       "      <td>4584.0</td>\n",
       "      <td>4584.0</td>\n",
       "    </tr>\n",
       "    <tr>\n",
       "      <th>5777</th>\n",
       "      <td>78</td>\n",
       "      <td>2018-12-31</td>\n",
       "      <td>Red 11</td>\n",
       "      <td>7000.0</td>\n",
       "      <td>0.0</td>\n",
       "      <td>0.0</td>\n",
       "    </tr>\n",
       "    <tr>\n",
       "      <th>5780</th>\n",
       "      <td>81</td>\n",
       "      <td>2015-09-29</td>\n",
       "      <td>A Plague So Pleasant</td>\n",
       "      <td>1400.0</td>\n",
       "      <td>0.0</td>\n",
       "      <td>0.0</td>\n",
       "    </tr>\n",
       "  </tbody>\n",
       "</table>\n",
       "</div>"
      ],
      "text/plain": [
       "      id release_date                 movie  production_budget  \\\n",
       "5761  62   2014-12-31  Stories of Our Lives            15000.0   \n",
       "5771  72   2015-05-19      Family Motocross            10000.0   \n",
       "5772  73   2012-01-13             Newlyweds             9000.0   \n",
       "5777  78   2018-12-31                Red 11             7000.0   \n",
       "5780  81   2015-09-29  A Plague So Pleasant             1400.0   \n",
       "\n",
       "      domestic_gross  worldwide_gross  \n",
       "5761             0.0              0.0  \n",
       "5771             0.0              0.0  \n",
       "5772          4584.0           4584.0  \n",
       "5777             0.0              0.0  \n",
       "5780             0.0              0.0  "
      ]
     },
     "execution_count": 2908,
     "metadata": {},
     "output_type": "execute_result"
    }
   ],
   "source": [
    "movie_budgets_df.tail()"
   ]
  },
  {
   "cell_type": "code",
   "execution_count": 2909,
   "metadata": {},
   "outputs": [],
   "source": [
    "movie_budgets_df['foreign_gross'] = movie_budgets_df['worldwide_gross'] - movie_budgets_df['domestic_gross']"
   ]
  },
  {
   "cell_type": "code",
   "execution_count": 2910,
   "metadata": {},
   "outputs": [],
   "source": [
    "movie_budgets_df['net_profit'] = movie_budgets_df['worldwide_gross'] - movie_budgets_df['production_budget']"
   ]
  },
  {
   "cell_type": "code",
   "execution_count": 2911,
   "metadata": {},
   "outputs": [],
   "source": [
    "movie_budgets_sorted = movie_budgets_df.sort_values(by='net_profit', ascending=False)"
   ]
  },
  {
   "cell_type": "code",
   "execution_count": 2912,
   "metadata": {},
   "outputs": [
    {
     "data": {
      "image/png": "[encoded data removed]",
      "text/plain": [
       "<Figure size 720x432 with 1 Axes>"
      ]
     },
     "metadata": {
      "needs_background": "light"
     },
     "output_type": "display_data"
    }
   ],
   "source": [
    "# Extract movie titles and worldwide gross\n",
    "movie_titles = movie_budgets_sorted['movie'].head(20)\n",
    "worldwide_gross = movie_budgets_sorted['net_profit'].head(20)\n",
    "\n",
    "# Plot the bar chart\n",
    "plt.figure(figsize=(10, 6))  # Set the figure size\n",
    "plt.bar(movie_titles, worldwide_gross)\n",
    "\n",
    "\n",
    "plt.xticks(rotation=90)\n",
    "\n",
    "# Add labels and title\n",
    "plt.xlabel('Movie Title')\n",
    "plt.ylabel('Net Profit')\n",
    "plt.title('Net Profit for Top 20 Movies')\n",
    "\n",
    "# Show the plot\n",
    "plt.tight_layout()  # Adjust layout to prevent clipping of labels\n",
    "plt.show()\n"
   ]
  },
  {
   "cell_type": "markdown",
   "metadata": {},
   "source": [
    "We've seen the top 20 movies in both data sets now we need to determine which genre these movies belong to . Starting with the bom_df_sorted. Since this data set does not contain movie id and the movie_info_df does not have movie titles then the only way we can get their genres is by using the imdb_df data "
   ]
  },
  {
   "cell_type": "code",
   "execution_count": 2913,
   "metadata": {},
   "outputs": [
    {
     "name": "stdout",
     "output_type": "stream",
     "text": [
      "Action,Adventure,Sci-Fi          24\n",
      "Adventure,Animation,Comedy       16\n",
      "Action,Adventure,Fantasy         10\n",
      "Action,Adventure,Comedy           7\n",
      "Action,Adventure,Animation        5\n",
      "Action,Adventure,Thriller         5\n",
      "Action,Crime,Thriller             3\n",
      "Adventure,Fantasy                 2\n",
      "Adventure,Family,Fantasy          2\n",
      "Adventure,Drama,Sci-Fi            2\n",
      "Adventure,Drama,Fantasy           2\n",
      "Action,Adventure,Family           1\n",
      "Drama,Sci-Fi,Thriller             1\n",
      "Horror                            1\n",
      "Drama,Romance,Thriller            1\n",
      "Horror,Thriller                   1\n",
      "Sci-Fi                            1\n",
      "Action,Thriller                   1\n",
      "Adventure,Drama,Sport             1\n",
      "Biography,Drama,Music             1\n",
      "Documentary,Drama,Sport           1\n",
      "Comedy,Mystery                    1\n",
      "Animation,Comedy,Family           1\n",
      "Crime,Drama                       1\n",
      "Biography,Documentary,History     1\n",
      "Family                            1\n",
      "Action,Adventure,Drama            1\n",
      "Fantasy,Romance                   1\n",
      "Name: genres, dtype: int64\n"
     ]
    }
   ],
   "source": [
    "\n",
    "\n",
    "# Merge the two dataframes based on the movie titles\n",
    "merged_df = pd.merge(bom_df_sorted.head(100), imdb_df, left_on='title', right_on='primary_title', how='inner')\n",
    "\n",
    "# Extract the genres column from the merged dataframe\n",
    "top_100_genres = merged_df['genres']\n",
    "\n",
    "# Display the count of each genre\n",
    "genre_counts = top_100_genres.value_counts()\n",
    "print(genre_counts)\n"
   ]
  },
  {
   "cell_type": "code",
   "execution_count": 2914,
   "metadata": {},
   "outputs": [
    {
     "data": {
      "image/png": "[encoded data removed]",
      "text/plain": [
       "<Figure size 720x432 with 1 Axes>"
      ]
     },
     "metadata": {
      "needs_background": "light"
     },
     "output_type": "display_data"
    }
   ],
   "source": [
    "plt.figure(figsize=(10, 6))\n",
    "genre_counts.plot(kind='bar', color='skyblue')\n",
    "plt.title('Genre Counts of Top 100 Movies Based on World Wide Gross')\n",
    "plt.xlabel('Genre')\n",
    "plt.ylabel('Count')\n",
    "plt.xticks(rotation=90, ha='right')\n",
    "plt.tight_layout()\n",
    "plt.show()"
   ]
  },
  {
   "cell_type": "markdown",
   "metadata": {},
   "source": [
    "The graph above shows which combination of genres has the most movies with the highest world wide gross. Now lets check the individual genres."
   ]
  },
  {
   "cell_type": "code",
   "execution_count": 2915,
   "metadata": {},
   "outputs": [
    {
     "data": {
      "image/png": "[encoded data removed]",
      "text/plain": [
       "<Figure size 720x432 with 1 Axes>"
      ]
     },
     "metadata": {
      "needs_background": "light"
     },
     "output_type": "display_data"
    }
   ],
   "source": [
    "\n",
    "\n",
    "# Splitting multi-genre entries and creating a list of individual genres\n",
    "individual_genres = top_100_genres.str.split(',').explode()\n",
    "\n",
    "# Counting the occurrences of each individual genre\n",
    "individual_genre_counts = individual_genres.value_counts()\n",
    "\n",
    "# Plotting the histogram\n",
    "plt.figure(figsize=(10, 6))\n",
    "individual_genre_counts.plot(kind='bar', color='skyblue')\n",
    "plt.title('Individual Genre Counts of Top 100 Movies Based on World Wide Gross')\n",
    "plt.xlabel('Genre')\n",
    "plt.ylabel('Count')\n",
    "plt.xticks(rotation=45, ha='right')\n",
    "plt.tight_layout()\n",
    "plt.show()\n"
   ]
  },
  {
   "cell_type": "markdown",
   "metadata": {},
   "source": [
    "Lets see which genre has produced the most movies with the highest box office"
   ]
  },
  {
   "cell_type": "code",
   "execution_count": 2916,
   "metadata": {},
   "outputs": [],
   "source": [
    "top_20_movies = movie_info_df.sort_values(by='box_office',ascending=False).head(20)"
   ]
  },
  {
   "cell_type": "code",
   "execution_count": 2917,
   "metadata": {},
   "outputs": [
    {
     "data": {
      "text/plain": [
       "array(['Action and Adventure|Science Fiction and Fantasy',\n",
       "       'Action and Adventure|Mystery and Suspense',\n",
       "       'Action and Adventure|Drama|Mystery and Suspense',\n",
       "       'Science Fiction and Fantasy', 'Comedy',\n",
       "       'Action and Adventure|Animation|Kids and Family', 'Comedy|Drama',\n",
       "       'Animation|Kids and Family', 'Drama|Mystery and Suspense', 'Drama',\n",
       "       'Action and Adventure|Comedy|Science Fiction and Fantasy',\n",
       "       'Animation|Comedy',\n",
       "       'Action and Adventure|Horror|Kids and Family|Science Fiction and Fantasy',\n",
       "       'Action and Adventure|Mystery and Suspense|Romance'], dtype=object)"
      ]
     },
     "execution_count": 2917,
     "metadata": {},
     "output_type": "execute_result"
    }
   ],
   "source": [
    "top_20_movies['genre'].unique()"
   ]
  },
  {
   "cell_type": "code",
   "execution_count": 2918,
   "metadata": {},
   "outputs": [
    {
     "data": {
      "image/png": "[encoded data removed]",
      "text/plain": [
       "<Figure size 720x432 with 1 Axes>"
      ]
     },
     "metadata": {
      "needs_background": "light"
     },
     "output_type": "display_data"
    }
   ],
   "source": [
    "\n",
    "# Splitting multi-genre entries and creating a list of individual genres\n",
    "individual_genres = top_20_movies['genre'].str.split('|')\n",
    "\n",
    "# Create a DataFrame with the individual genres\n",
    "individual_genres_df = pd.DataFrame(individual_genres.tolist(), index=top_20_movies.index)\n",
    "\n",
    "# Stack the DataFrame into a Series\n",
    "stacked_genres = individual_genres_df.stack()\n",
    "\n",
    "# Count the occurrences of each individual genre\n",
    "genre_counts = stacked_genres.value_counts()\n",
    "\n",
    "# Display the resulting Series with the counts of each individual genre\n",
    "plt.figure(figsize=(10, 6))\n",
    "genre_counts.plot(kind='bar', color='skyblue')\n",
    "plt.title('Individual Genre Counts of Top 20 Movies Based on Box Office')\n",
    "plt.xlabel('Genre')\n",
    "plt.ylabel('Count')\n",
    "plt.xticks(rotation=45, ha='right')\n",
    "plt.tight_layout()\n",
    "plt.show()\n"
   ]
  },
  {
   "cell_type": "markdown",
   "metadata": {},
   "source": [
    "We can do the same thing for movies in the movie budgets database. "
   ]
  },
  {
   "cell_type": "code",
   "execution_count": 2919,
   "metadata": {},
   "outputs": [
    {
     "data": {
      "text/html": [
       "<div>\n",
       "<style scoped>\n",
       "    .dataframe tbody tr th:only-of-type {\n",
       "        vertical-align: middle;\n",
       "    }\n",
       "\n",
       "    .dataframe tbody tr th {\n",
       "        vertical-align: top;\n",
       "    }\n",
       "\n",
       "    .dataframe thead th {\n",
       "        text-align: right;\n",
       "    }\n",
       "</style>\n",
       "<table border=\"1\" class=\"dataframe\">\n",
       "  <thead>\n",
       "    <tr style=\"text-align: right;\">\n",
       "      <th></th>\n",
       "      <th>id</th>\n",
       "      <th>synopsis</th>\n",
       "      <th>rating</th>\n",
       "      <th>genre</th>\n",
       "      <th>director</th>\n",
       "      <th>writer</th>\n",
       "      <th>theater_date</th>\n",
       "      <th>dvd_date</th>\n",
       "      <th>currency</th>\n",
       "      <th>box_office</th>\n",
       "      <th>runtime</th>\n",
       "      <th>studio</th>\n",
       "      <th>release_date</th>\n",
       "      <th>movie</th>\n",
       "      <th>production_budget</th>\n",
       "      <th>domestic_gross</th>\n",
       "      <th>worldwide_gross</th>\n",
       "      <th>foreign_gross</th>\n",
       "      <th>net_profit</th>\n",
       "    </tr>\n",
       "  </thead>\n",
       "  <tbody>\n",
       "    <tr>\n",
       "      <th>0</th>\n",
       "      <td>3</td>\n",
       "      <td>New York City, not-too-distant-future: Eric Pa...</td>\n",
       "      <td>R</td>\n",
       "      <td>Drama|Science Fiction and Fantasy</td>\n",
       "      <td>David Cronenberg</td>\n",
       "      <td>David Cronenberg|Don DeLillo</td>\n",
       "      <td>2012-08-17</td>\n",
       "      <td>Jan 1, 2013</td>\n",
       "      <td>$</td>\n",
       "      <td>600000</td>\n",
       "      <td>108 minutes</td>\n",
       "      <td>Entertainment One</td>\n",
       "      <td>2019-06-07</td>\n",
       "      <td>Dark Phoenix</td>\n",
       "      <td>350000000.0</td>\n",
       "      <td>42762350.0</td>\n",
       "      <td>149762350.0</td>\n",
       "      <td>107000000.0</td>\n",
       "      <td>-200237650.0</td>\n",
       "    </tr>\n",
       "    <tr>\n",
       "      <th>1</th>\n",
       "      <td>3</td>\n",
       "      <td>New York City, not-too-distant-future: Eric Pa...</td>\n",
       "      <td>R</td>\n",
       "      <td>Drama|Science Fiction and Fantasy</td>\n",
       "      <td>David Cronenberg</td>\n",
       "      <td>David Cronenberg|Don DeLillo</td>\n",
       "      <td>2012-08-17</td>\n",
       "      <td>Jan 1, 2013</td>\n",
       "      <td>$</td>\n",
       "      <td>600000</td>\n",
       "      <td>108 minutes</td>\n",
       "      <td>Entertainment One</td>\n",
       "      <td>2018-11-21</td>\n",
       "      <td>Ralph Breaks The Internet</td>\n",
       "      <td>175000000.0</td>\n",
       "      <td>201091711.0</td>\n",
       "      <td>524283695.0</td>\n",
       "      <td>323191984.0</td>\n",
       "      <td>349283695.0</td>\n",
       "    </tr>\n",
       "    <tr>\n",
       "      <th>2</th>\n",
       "      <td>3</td>\n",
       "      <td>New York City, not-too-distant-future: Eric Pa...</td>\n",
       "      <td>R</td>\n",
       "      <td>Drama|Science Fiction and Fantasy</td>\n",
       "      <td>David Cronenberg</td>\n",
       "      <td>David Cronenberg|Don DeLillo</td>\n",
       "      <td>2012-08-17</td>\n",
       "      <td>Jan 1, 2013</td>\n",
       "      <td>$</td>\n",
       "      <td>600000</td>\n",
       "      <td>108 minutes</td>\n",
       "      <td>Entertainment One</td>\n",
       "      <td>2018-10-05</td>\n",
       "      <td>Venom</td>\n",
       "      <td>116000000.0</td>\n",
       "      <td>213511408.0</td>\n",
       "      <td>853628605.0</td>\n",
       "      <td>640117197.0</td>\n",
       "      <td>737628605.0</td>\n",
       "    </tr>\n",
       "    <tr>\n",
       "      <th>3</th>\n",
       "      <td>3</td>\n",
       "      <td>New York City, not-too-distant-future: Eric Pa...</td>\n",
       "      <td>R</td>\n",
       "      <td>Drama|Science Fiction and Fantasy</td>\n",
       "      <td>David Cronenberg</td>\n",
       "      <td>David Cronenberg|Don DeLillo</td>\n",
       "      <td>2012-08-17</td>\n",
       "      <td>Jan 1, 2013</td>\n",
       "      <td>$</td>\n",
       "      <td>600000</td>\n",
       "      <td>108 minutes</td>\n",
       "      <td>Entertainment One</td>\n",
       "      <td>2015-09-18</td>\n",
       "      <td>Everest</td>\n",
       "      <td>65000000.0</td>\n",
       "      <td>43482270.0</td>\n",
       "      <td>221297061.0</td>\n",
       "      <td>177814791.0</td>\n",
       "      <td>156297061.0</td>\n",
       "    </tr>\n",
       "    <tr>\n",
       "      <th>4</th>\n",
       "      <td>3</td>\n",
       "      <td>New York City, not-too-distant-future: Eric Pa...</td>\n",
       "      <td>R</td>\n",
       "      <td>Drama|Science Fiction and Fantasy</td>\n",
       "      <td>David Cronenberg</td>\n",
       "      <td>David Cronenberg|Don DeLillo</td>\n",
       "      <td>2012-08-17</td>\n",
       "      <td>Jan 1, 2013</td>\n",
       "      <td>$</td>\n",
       "      <td>600000</td>\n",
       "      <td>108 minutes</td>\n",
       "      <td>Entertainment One</td>\n",
       "      <td>2015-05-29</td>\n",
       "      <td>Aloha</td>\n",
       "      <td>37000000.0</td>\n",
       "      <td>21052030.0</td>\n",
       "      <td>25387091.0</td>\n",
       "      <td>4335061.0</td>\n",
       "      <td>-11612909.0</td>\n",
       "    </tr>\n",
       "  </tbody>\n",
       "</table>\n",
       "</div>"
      ],
      "text/plain": [
       "   id                                           synopsis rating  \\\n",
       "0   3  New York City, not-too-distant-future: Eric Pa...      R   \n",
       "1   3  New York City, not-too-distant-future: Eric Pa...      R   \n",
       "2   3  New York City, not-too-distant-future: Eric Pa...      R   \n",
       "3   3  New York City, not-too-distant-future: Eric Pa...      R   \n",
       "4   3  New York City, not-too-distant-future: Eric Pa...      R   \n",
       "\n",
       "                               genre          director  \\\n",
       "0  Drama|Science Fiction and Fantasy  David Cronenberg   \n",
       "1  Drama|Science Fiction and Fantasy  David Cronenberg   \n",
       "2  Drama|Science Fiction and Fantasy  David Cronenberg   \n",
       "3  Drama|Science Fiction and Fantasy  David Cronenberg   \n",
       "4  Drama|Science Fiction and Fantasy  David Cronenberg   \n",
       "\n",
       "                         writer theater_date     dvd_date currency  \\\n",
       "0  David Cronenberg|Don DeLillo   2012-08-17  Jan 1, 2013        $   \n",
       "1  David Cronenberg|Don DeLillo   2012-08-17  Jan 1, 2013        $   \n",
       "2  David Cronenberg|Don DeLillo   2012-08-17  Jan 1, 2013        $   \n",
       "3  David Cronenberg|Don DeLillo   2012-08-17  Jan 1, 2013        $   \n",
       "4  David Cronenberg|Don DeLillo   2012-08-17  Jan 1, 2013        $   \n",
       "\n",
       "   box_office      runtime             studio release_date  \\\n",
       "0      600000  108 minutes  Entertainment One   2019-06-07   \n",
       "1      600000  108 minutes  Entertainment One   2018-11-21   \n",
       "2      600000  108 minutes  Entertainment One   2018-10-05   \n",
       "3      600000  108 minutes  Entertainment One   2015-09-18   \n",
       "4      600000  108 minutes  Entertainment One   2015-05-29   \n",
       "\n",
       "                       movie  production_budget  domestic_gross  \\\n",
       "0               Dark Phoenix        350000000.0      42762350.0   \n",
       "1  Ralph Breaks The Internet        175000000.0     201091711.0   \n",
       "2                      Venom        116000000.0     213511408.0   \n",
       "3                    Everest         65000000.0      43482270.0   \n",
       "4                      Aloha         37000000.0      21052030.0   \n",
       "\n",
       "   worldwide_gross  foreign_gross   net_profit  \n",
       "0      149762350.0    107000000.0 -200237650.0  \n",
       "1      524283695.0    323191984.0  349283695.0  \n",
       "2      853628605.0    640117197.0  737628605.0  \n",
       "3      221297061.0    177814791.0  156297061.0  \n",
       "4       25387091.0      4335061.0  -11612909.0  "
      ]
     },
     "execution_count": 2919,
     "metadata": {},
     "output_type": "execute_result"
    }
   ],
   "source": [
    "Info_Budgets_df = pd.merge(movie_info_df, movie_budgets_df, on='id', how='inner')\n",
    "Info_Budgets_df.head()"
   ]
  },
  {
   "cell_type": "code",
   "execution_count": 2920,
   "metadata": {},
   "outputs": [],
   "source": [
    "Info_Budgets_df.sort_values(by='net_profit', ascending=False,inplace=True)"
   ]
  },
  {
   "cell_type": "code",
   "execution_count": 2921,
   "metadata": {},
   "outputs": [
    {
     "name": "stdout",
     "output_type": "stream",
     "text": [
      "<class 'pandas.core.frame.DataFrame'>\n",
      "Int64Index: 241 entries, 77 to 0\n",
      "Data columns (total 19 columns):\n",
      " #   Column             Non-Null Count  Dtype         \n",
      "---  ------             --------------  -----         \n",
      " 0   id                 241 non-null    int64         \n",
      " 1   synopsis           241 non-null    object        \n",
      " 2   rating             241 non-null    object        \n",
      " 3   genre              241 non-null    object        \n",
      " 4   director           241 non-null    object        \n",
      " 5   writer             241 non-null    object        \n",
      " 6   theater_date       241 non-null    datetime64[ns]\n",
      " 7   dvd_date           241 non-null    object        \n",
      " 8   currency           241 non-null    object        \n",
      " 9   box_office         241 non-null    int64         \n",
      " 10  runtime            241 non-null    object        \n",
      " 11  studio             241 non-null    object        \n",
      " 12  release_date       241 non-null    datetime64[ns]\n",
      " 13  movie              241 non-null    object        \n",
      " 14  production_budget  241 non-null    float64       \n",
      " 15  domestic_gross     241 non-null    float64       \n",
      " 16  worldwide_gross    241 non-null    float64       \n",
      " 17  foreign_gross      241 non-null    float64       \n",
      " 18  net_profit         241 non-null    float64       \n",
      "dtypes: datetime64[ns](2), float64(5), int64(2), object(10)\n",
      "memory usage: 37.7+ KB\n"
     ]
    }
   ],
   "source": [
    "Info_Budgets_df.info()"
   ]
  },
  {
   "cell_type": "code",
   "execution_count": 2922,
   "metadata": {},
   "outputs": [
    {
     "name": "stdout",
     "output_type": "stream",
     "text": [
      "Comedy|Drama                                                     8\n",
      "Drama                                                            7\n",
      "Drama|Sports and Fitness                                         6\n",
      "Drama|Science Fiction and Fantasy                                6\n",
      "Mystery and Suspense                                             5\n",
      "Comedy                                                           5\n",
      "Action and Adventure|Mystery and Suspense                        4\n",
      "Comedy|Drama|Mystery and Suspense                                4\n",
      "Action and Adventure|Drama|Science Fiction and Fantasy           4\n",
      "Art House and International|Drama|Musical and Performing Arts    1\n",
      "Name: genre, dtype: int64\n"
     ]
    }
   ],
   "source": [
    "\n",
    "\n",
    "# Extract the top 50 rows\n",
    "top_50 = Info_Budgets_df.head(50)\n",
    "\n",
    "# Calculate the value counts of 'genre' in the top 50\n",
    "genre_counts_top_50 = top_50['genre'].value_counts()\n",
    "\n",
    "# Display the value counts\n",
    "print(genre_counts_top_50)\n"
   ]
  },
  {
   "cell_type": "code",
   "execution_count": 2923,
   "metadata": {},
   "outputs": [
    {
     "data": {
      "image/png": "[encoded data removed]",
      "text/plain": [
       "<Figure size 1008x720 with 1 Axes>"
      ]
     },
     "metadata": {
      "needs_background": "light"
     },
     "output_type": "display_data"
    }
   ],
   "source": [
    "plt.figure(figsize=(14, 10))\n",
    "genre_counts_top_50.plot(kind='bar',)\n",
    "plt.title('Genre Counts of Top 50 Movies Based on Net Profit')\n",
    "plt.xlabel('Genre')\n",
    "plt.ylabel('Count')\n",
    "plt.xticks(rotation=90, ha='right')\n",
    "plt.tight_layout()\n",
    "plt.show()"
   ]
  },
  {
   "cell_type": "markdown",
   "metadata": {},
   "source": [
    "We can  clearly see that drama movies generate the greatest net profit. Now lets look at the relationship between production budget and net profit."
   ]
  },
  {
   "cell_type": "code",
   "execution_count": 2924,
   "metadata": {},
   "outputs": [
    {
     "data": {
      "image/png": "[encoded data removed]",
      "text/plain": [
       "<Figure size 720x432 with 1 Axes>"
      ]
     },
     "metadata": {
      "needs_background": "light"
     },
     "output_type": "display_data"
    }
   ],
   "source": [
    "\n",
    "# Extracting 'production_budget' and 'net_profit' columns\n",
    "production_budget = top_50['production_budget']\n",
    "net_profit = top_50['net_profit']\n",
    "\n",
    "# Plotting the scatter plot\n",
    "plt.figure(figsize=(10, 6))\n",
    "plt.scatter(production_budget, net_profit, color='skyblue', alpha=0.7)\n",
    "plt.title('Relationship between Production Budget and Net Profit for Top 50 Movies')\n",
    "plt.xlabel('Production Budget($100,000,000s)')\n",
    "plt.ylabel('Net Profit')\n",
    "plt.grid(True)\n",
    "plt.tight_layout()\n",
    "plt.show()\n"
   ]
  },
  {
   "cell_type": "code",
   "execution_count": 2925,
   "metadata": {},
   "outputs": [
    {
     "data": {
      "image/png": "[encoded data removed]",
      "text/plain": [
       "<Figure size 720x432 with 1 Axes>"
      ]
     },
     "metadata": {
      "needs_background": "light"
     },
     "output_type": "display_data"
    }
   ],
   "source": [
    "\n",
    "from scipy.stats import linregress\n",
    "\n",
    "\n",
    "\n",
    "# Perform linear regression\n",
    "slope, intercept, r_value, p_value, std_err = linregress(production_budget, net_profit)\n",
    "\n",
    "# Create regression line\n",
    "regression_line = slope * production_budget + intercept\n",
    "\n",
    "# Plot the data points and regression line\n",
    "plt.figure(figsize=(10, 6))\n",
    "plt.scatter(production_budget, net_profit, color='skyblue', label='Data points')\n",
    "plt.plot(production_budget, regression_line, color='red', label='Regression line')\n",
    "plt.title('Linear Regression: Production Budget vs. Net Profit for Top 50 Movies')\n",
    "plt.xlabel('Production Budget')\n",
    "plt.ylabel('Net Profit')\n",
    "plt.legend()\n",
    "plt.grid(True)\n",
    "plt.tight_layout()\n",
    "plt.show()\n"
   ]
  },
  {
   "cell_type": "markdown",
   "metadata": {},
   "source": [
    "From the above scatter plot we can see that there is a low positive relationship between an increase in production budget and an increase in the net profit for a movie"
   ]
  },
  {
   "cell_type": "markdown",
   "metadata": {},
   "source": [
    "B) Popularity and genre "
   ]
  },
  {
   "cell_type": "code",
   "execution_count": 2926,
   "metadata": {},
   "outputs": [],
   "source": [
    "popularity_genres_df = pd.merge(imdb_df,tmdb_df,on='original_title',how='inner')"
   ]
  },
  {
   "cell_type": "code",
   "execution_count": 2927,
   "metadata": {},
   "outputs": [],
   "source": [
    "most_popular_movies = popularity_genres_df.sort_values(by='popularity',ascending=False).head(1000)"
   ]
  },
  {
   "cell_type": "code",
   "execution_count": 2928,
   "metadata": {},
   "outputs": [
    {
     "data": {
      "text/plain": [
       "array(['Action,Adventure,Sci-Fi', 'Action,Crime,Thriller',\n",
       "       'Action,Adventure,Animation', 'Adventure,Fantasy',\n",
       "       'Action,Adventure,Comedy', 'Drama,Mystery,Sci-Fi',\n",
       "       'Adventure,Family,Fantasy', 'Adventure,Animation,Comedy',\n",
       "       'Comedy,Drama,Family', 'Action,Drama,Sci-Fi', 'Thriller',\n",
       "       'Action,Sci-Fi,Thriller', 'Action,Adventure,Fantasy',\n",
       "       'Action,Adventure,Drama', 'Action,Adventure,Thriller',\n",
       "       'Action,Drama', 'N/A', 'Biography,Drama,Music',\n",
       "       'Action,Mystery,Sci-Fi', 'Biography,Comedy,Drama',\n",
       "       'Drama,Music,Romance', 'Comedy,Crime,Drama', 'Crime,Drama,Mystery',\n",
       "       'Crime,Drama,Thriller', 'Adventure,Fantasy,Mystery',\n",
       "       'Biography,Drama,Thriller', 'Biography,Drama',\n",
       "       'Action,Crime,Drama', 'Comedy,Mystery', 'Family,Fantasy,Musical',\n",
       "       'Documentary,Drama,Sport', 'Sci-Fi', 'Drama,Romance',\n",
       "       'Action,Horror,Sci-Fi', 'Horror,Mystery,Thriller',\n",
       "       'Drama,Mystery,Thriller', 'Comedy,Family,Fantasy',\n",
       "       'Action,Thriller', 'Biography,Crime,Drama',\n",
       "       'Adventure,Drama,Fantasy', 'Documentary', 'Drama,Horror,Sci-Fi',\n",
       "       'Action,Drama,War', 'Drama,Family,Fantasy', 'Action,Drama,Fantasy',\n",
       "       'Drama,Music', 'Biography,Drama,History', 'Adventure,Drama,Sci-Fi',\n",
       "       'Comedy,Drama', 'Drama,Sci-Fi,Thriller', 'Drama,Sport',\n",
       "       'Crime,Drama,History', 'Drama,Horror,Mystery',\n",
       "       'Adventure,Drama,Sport', 'Action,Comedy,Crime', 'Horror',\n",
       "       'Action,Drama,Sport', 'Drama', 'Comedy,Romance,Sport',\n",
       "       'Drama,Fantasy', 'Crime', 'Horror,Thriller',\n",
       "       'Action,Adventure,Horror', 'Adventure,Drama,Horror',\n",
       "       'Adventure,Mystery,Sci-Fi', 'Family', 'Crime,Drama',\n",
       "       'Biography,Documentary,History', 'Horror,Sci-Fi,Thriller',\n",
       "       'Adventure,Drama,Family', 'Animation,Comedy,Family',\n",
       "       'Action,Drama,History', 'Comedy', 'Action,Crime,Mystery',\n",
       "       'Action,Fantasy,War', 'Action,Comedy,Sci-Fi',\n",
       "       'Action,Animation,Comedy', 'Drama,Romance,Thriller',\n",
       "       'Fantasy,Musical', 'Biography,Drama,Musical',\n",
       "       'Comedy,Fantasy,Horror', 'Action,Mystery,Thriller',\n",
       "       'Action,Comedy,Thriller', 'Drama,Western', 'Action',\n",
       "       'Crime,Mystery,Thriller', 'Biography,Crime,Documentary',\n",
       "       'Crime,Thriller', 'Comedy,Drama,Romance', 'Comedy,Romance',\n",
       "       'Crime,Horror,Mystery', 'Adventure,Comedy,Family',\n",
       "       'Action,Adventure,Family', 'Animation', 'Drama,Family',\n",
       "       'Drama,Thriller', 'Action,Adventure,Biography', 'Action,Sci-Fi',\n",
       "       'Action,Drama,Romance', 'Biography,Documentary',\n",
       "       'Mystery,Sci-Fi,Thriller', 'Adventure,Comedy,Crime',\n",
       "       'Action,Fantasy,Thriller', 'Action,Adventure,Western',\n",
       "       'Action,Biography,Drama', 'Comedy,Music', 'Comedy,Crime',\n",
       "       'Horror,Mystery', 'Action,Adventure,Crime',\n",
       "       'Action,Drama,Thriller', 'Mystery,Thriller',\n",
       "       'Drama,Horror,Thriller', 'Crime,Horror,Thriller',\n",
       "       'Action,Crime,Sci-Fi', 'Romance', 'Adventure,Family',\n",
       "       'Action,Comedy,Drama', 'Action,Adventure,Mystery',\n",
       "       'Biography,Comedy,Crime', 'Crime,Drama,Horror',\n",
       "       'Drama,Mystery,Romance', 'Adventure,Comedy,Horror',\n",
       "       'Fantasy,Horror,Mystery', 'Comedy,Drama,Musical',\n",
       "       'Action,Biography,Comedy', 'Adventure,Comedy',\n",
       "       'Drama,Horror,Music', 'Drama,Fantasy,Horror',\n",
       "       'Action,Fantasy,Horror', 'Adventure,Crime,Drama',\n",
       "       'Comedy,Drama,Music', 'Action,Drama,Horror',\n",
       "       'Action,Comedy,Fantasy', 'Mystery,Romance,Thriller',\n",
       "       'Drama,Romance,Sci-Fi', 'Adventure,Drama,Western',\n",
       "       'Comedy,Fantasy,Sci-Fi', 'Adventure,Animation',\n",
       "       'Animation,Family,Fantasy', 'Adventure,Comedy,Drama',\n",
       "       'Comedy,Musical,Romance', 'Action,Crime,Fantasy',\n",
       "       'Biography,Drama,Sport', 'Action,Crime', 'Sci-Fi,Thriller',\n",
       "       'Drama,War', 'Adventure,Comedy,Sci-Fi', 'Drama,Mystery',\n",
       "       'Action,Drama,Family', 'Action,Drama,Mystery',\n",
       "       'Drama,History,Thriller', 'Adventure,Biography,Crime',\n",
       "       'Drama,Fantasy,Mystery', 'Documentary,History', 'Comedy,Fantasy',\n",
       "       'Adventure,Drama,Romance', 'Horror,Romance,Thriller',\n",
       "       'Comedy,Crime,Thriller', 'Comedy,Drama,Fantasy',\n",
       "       'Adventure,Animation,Family', 'Comedy,Drama,Mystery',\n",
       "       'Action,Animation,Sci-Fi', 'Comedy,Music,Romance',\n",
       "       'Biography,Drama,Romance', 'Biography,Comedy', 'Comedy,Musical',\n",
       "       'Romance,Sci-Fi,Thriller', 'Drama,Horror', 'Adventure,Horror',\n",
       "       'Drama,History,Romance', 'Drama,Fantasy,Thriller', 'Comedy,Horror',\n",
       "       'Comedy,Horror,Romance', 'Comedy,Fantasy,Romance',\n",
       "       'Fantasy,Horror,Thriller', 'Action,Comedy',\n",
       "       'Action,Biography,Crime', 'Fantasy,Thriller',\n",
       "       'Comedy,Drama,History', 'Drama,Fantasy,Romance', 'Action,History',\n",
       "       'Action,Animation,Horror'], dtype=object)"
      ]
     },
     "execution_count": 2928,
     "metadata": {},
     "output_type": "execute_result"
    }
   ],
   "source": [
    "most_popular_movies['genres'].unique()"
   ]
  },
  {
   "cell_type": "code",
   "execution_count": 2929,
   "metadata": {},
   "outputs": [
    {
     "data": {
      "image/png": "[encoded data removed]",
      "text/plain": [
       "<Figure size 720x432 with 1 Axes>"
      ]
     },
     "metadata": {
      "needs_background": "light"
     },
     "output_type": "display_data"
    }
   ],
   "source": [
    "\n",
    "# Splitting multi-genre entries and creating a list of individual genres\n",
    "individual_genres = most_popular_movies['genres'].str.split(',').explode()\n",
    "\n",
    "# Counting the occurrences of each individual genre\n",
    "genre_counts = individual_genres.value_counts()\n",
    "\n",
    "# Plotting the histogram\n",
    "plt.figure(figsize=(10, 6))\n",
    "genre_counts.plot(kind='bar', color='skyblue')\n",
    "plt.title('Frequency of Individual Genres in Top 1000 Most Popular Movies')\n",
    "plt.xlabel('Genre')\n",
    "plt.ylabel('Frequency')\n",
    "plt.xticks(rotation=45, ha='right')\n",
    "plt.tight_layout()\n",
    "plt.show()\n"
   ]
  },
  {
   "cell_type": "markdown",
   "metadata": {},
   "source": [
    "C) Relationship between production budget and profit"
   ]
  },
  {
   "cell_type": "code",
   "execution_count": 2933,
   "metadata": {},
   "outputs": [],
   "source": [
    "high_production = movie_budgets_df.sort_values(by='production_budget',ascending=False).head(100)\n",
    "low_production = movie_budgets_df.sort_values(by='production_budget').head(100)\n"
   ]
  },
  {
   "cell_type": "code",
   "execution_count": 2944,
   "metadata": {},
   "outputs": [
    {
     "name": "stdout",
     "output_type": "stream",
     "text": [
      "165000000.0\n",
      "290000.0\n"
     ]
    }
   ],
   "source": [
    "print(high_production['production_budget'].min())\n",
    "print(low_production['production_budget'].max())"
   ]
  },
  {
   "cell_type": "code",
   "execution_count": 2946,
   "metadata": {},
   "outputs": [
    {
     "data": {
      "image/png": "[encoded data removed]",
      "text/plain": [
       "<Figure size 720x432 with 1 Axes>"
      ]
     },
     "metadata": {
      "needs_background": "light"
     },
     "output_type": "display_data"
    }
   ],
   "source": [
    "\n",
    "# Filter movies with production budgets of 100 million and above\n",
    "high_budget_movies = movie_budgets_df[movie_budgets_df['production_budget'] >= 100000000]\n",
    "\n",
    "# Filter movies with production budgets between 10 million and 100 million\n",
    "medium_budget_movies = movie_budgets_df[(movie_budgets_df['production_budget'] >= 10000000) & \n",
    "                                        (movie_budgets_df['production_budget'] < 100000000)]\n",
    "\n",
    "# Filter movies with production budgets less than 10 million\n",
    "low_budget_movies = movie_budgets_df[movie_budgets_df['production_budget'] < 10000000]\n",
    "\n",
    "# Randomly sample 100 movies from each subset\n",
    "sample_high_budget = high_budget_movies.sample(n=100, random_state=42)\n",
    "sample_medium_budget = medium_budget_movies.sample(n=100, random_state=42)\n",
    "sample_low_budget = low_budget_movies.sample(n=100, random_state=42)\n",
    "\n",
    "# Calculate the mean net profit for each category\n",
    "mean_net_profit_high = sample_high_budget['net_profit'].mean()\n",
    "mean_net_profit_medium = sample_medium_budget['net_profit'].mean()\n",
    "mean_net_profit_low = sample_low_budget['net_profit'].mean()\n",
    "\n",
    "# Plotting the bar chart\n",
    "plt.figure(figsize=(10, 6))\n",
    "plt.bar(['High Budget', 'Medium Budget', 'Low Budget'], \n",
    "        [mean_net_profit_high, mean_net_profit_medium, mean_net_profit_low],\n",
    "        color=['blue', 'green', 'red'])\n",
    "plt.title('Mean Net Profit by Production Budget Category')\n",
    "plt.xlabel('Production Budget Category')\n",
    "plt.ylabel('Mean Net Profit')\n",
    "plt.show()"
   ]
  }
 ],
 "metadata": {
  "kernelspec": {
   "display_name": "Python 3",
   "language": "python",
   "name": "python3"
  },
  "language_info": {
   "codemirror_mode": {
    "name": "ipython",
    "version": 3
   },
   "file_extension": ".py",
   "mimetype": "text/x-python",
   "name": "python",
   "nbconvert_exporter": "python",
   "pygments_lexer": "ipython3",
   "version": "3.8.5"
  }
 },
 "nbformat": 4,
 "nbformat_minor": 2
}
